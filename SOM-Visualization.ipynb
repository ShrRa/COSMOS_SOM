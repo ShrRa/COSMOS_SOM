{
 "cells": [
  {
   "cell_type": "markdown",
   "metadata": {},
   "source": [
    "### Table of contents\n",
    "[Predefined functions](#funcs)\n",
    "\n",
    "[Parameters, filenames and directories](#params)\n",
    "\n",
    "[Reading maps](#readMaps)\n",
    "\n",
    "[Visualizing maps](#visual)"
   ]
  },
  {
   "cell_type": "code",
   "execution_count": null,
   "metadata": {},
   "outputs": [],
   "source": [
    "import matplotlib.cm as cm\n",
    "import matplotlib.pyplot as plt\n",
    "import numpy as np\n",
    "from func_visualization import plotSOM, plotSOMRow\n",
    "from func_maps import readMaps"
   ]
  },
  {
   "cell_type": "markdown",
   "metadata": {},
   "source": [
    "### Parameters, filenames and directories\n",
    "<a id='params'>#params<a>"
   ]
  },
  {
   "cell_type": "code",
   "execution_count": null,
   "metadata": {},
   "outputs": [],
   "source": [
    "### Files and directories ###\n",
    "dirSOM=r'D:\\Sources\\COSMOS_photoZ\\COSMOS_v3.0\\SOM\\forArticle'\n",
    "nameOfExperiment='ex017'\n",
    "dirMaps='maps'\n",
    "mapsAllKeys=['mapsTrainOnTrain','mapsTestOnTrain','mapsDeimosOnTrain','mapsRunOnTrain',\n",
    "             'mapsTrainOnRun','mapsTestOnRun','mapsDeimosOnRun','mapsRunOnRun',\n",
    "             'mapsTrainOnRunBig','mapsTestOnRunBig','mapsDeimosOnRunBig','mapsRunOnRunBig']"
   ]
  },
  {
   "cell_type": "code",
   "execution_count": null,
   "metadata": {},
   "outputs": [],
   "source": [
    "idCol='Seq'\n",
    "specZ='specZ'\n",
    "photoZ_ML='photoZ_ML'\n",
    "photoZ_SED='photoZ_SED'\n",
    "residML='resid_ML'\n",
    "residSED='resid_SED'\n",
    "residML_SED='residML_SED'\n",
    "quantErr='quantErr'"
   ]
  },
  {
   "cell_type": "markdown",
   "metadata": {},
   "source": [
    "### Reading maps\n",
    "<a id='readMaps'>#readMaps<a>"
   ]
  },
  {
   "cell_type": "code",
   "execution_count": null,
   "metadata": {},
   "outputs": [],
   "source": [
    "mapsAll={}\n",
    "for m in mapsAllKeys:\n",
    "    mapsAll[m]=readMaps(os.path.join(dirSOM,nameOfExperiment,dirMaps),m)"
   ]
  },
  {
   "cell_type": "markdown",
   "metadata": {},
   "source": [
    "### Visualizing maps\n",
    "<a id='visual'>#visual<a>"
   ]
  },
  {
   "cell_type": "code",
   "execution_count": null,
   "metadata": {},
   "outputs": [],
   "source": [
    "### Plotting all the maps for Train or Deimos datasets. ###\n",
    "mapKey='mapsTrainOnTrain'\n",
    "\n",
    "rows=5\n",
    "cases=[specZ,photoZ_ML,quantErr]\n",
    "fig, axes = plt.subplots(rows,len(cases),figsize=(16,27))\n",
    "cbFlag=False\n",
    "mapsDict=mapsAll[mapKey]\n",
    "h,w=mapsDict['stdMaps'][photoZ_SED].shape[0],mapsDict['stdMaps'][photoZ_SED].shape[1]\n",
    "estimators=['meanMaps','stdMaps']\n",
    "\n",
    "plotSOMRow(mapsDict,cases,estimators[0],axes=axes, row=0,height=h, width=w,\n",
    "           cmap='plasma',vmin=0.01, vmax=1.4,badVal=0,cbFlag=cbFlag)\n",
    "\n",
    "plotSOMRow(mapsDict,cases,estimators[1],axes=axes, row=1,height=h, width=w,\n",
    "           cmap='plasma',vmin=0.2, vmax=0.5,badVal=0,cbFlag=cbFlag)\n",
    "\n",
    "cases=[residML_SED,residML,residSED]\n",
    "\n",
    "plotSOMRow(mapsDict,cases,estimators[0],axes=axes, row=2,height=h, width=w,\n",
    "           cmap='rainbow',vmin=-0.05, vmax=0.05,badVal=0,cbFlag=cbFlag)\n",
    "\n",
    "plotSOMRow(mapsDict,cases,estimators[1],axes=axes, row=3,height=h, width=w,\n",
    "           cmap='rainbow',vmin=0.01, vmax=0.2,badVal=0,cbFlag=cbFlag)\n",
    "\n",
    "plotSOMRow(mapsDict,cases,estimator='activMap',axes=axes, row=4,height=h, width=w,\n",
    "           cmap='plasma',vmin=5, vmax=40,badVal=0,cbFlag=cbFlag,axisToPlot=1)\n",
    "\n",
    "fig.suptitle(key,x=0.45,y=0.91,size=16,weight='bold')"
   ]
  },
  {
   "cell_type": "code",
   "execution_count": null,
   "metadata": {},
   "outputs": [],
   "source": [
    "### Plotting all the maps for Run dataset. ###\n",
    "mapKey='mapsRunOnRunBig'\n",
    "\n",
    "rows=3\n",
    "fig, axes = plt.subplots(rows,3,figsize=(16,16))\n",
    "\n",
    "cbFlag=False\n",
    "mapsDict=mapsAll[mapKey]\n",
    "h,w=mapsDict['stdMaps'][photoZ_SED].shape[0],mapsDict['stdMaps'][photoZ_SED].shape[1]\n",
    "estimators=['meanMaps','stdMaps']\n",
    "cases=[photoZ_ML,photoZ_SED,'quantErr']\n",
    "\n",
    "plotSOMRow(mapsDict,cases,estimators[0],axes=axes, row=0,height=h, width=w,\n",
    "           cmap='plasma',vmin=0.7, vmax=2,badVal=0,cbFlag=cbFlag)\n",
    "\n",
    "plotSOMRow(mapsDict,cases,estimators[1],axes=axes, row=1,height=h, width=w,\n",
    "           cmap='plasma',vmin=0, vmax=1,badVal=0,cbFlag=cbFlag)\n",
    "\n",
    "plotSOMRow(mapsDict,cases,estimator='activMap',axes=axes, row=2,height=h, width=w,\n",
    "           cmap='plasma',vmin=5, vmax=200,badVal=0,cbFlag=cbFlag,axisToPlot=1)\n",
    "\n",
    "fig.suptitle(mapKey,x=0.45,y=0.91,size=16,weight='bold')"
   ]
  }
 ],
 "metadata": {
  "kernelspec": {
   "display_name": "Python 3",
   "language": "python",
   "name": "python3"
  },
  "language_info": {
   "codemirror_mode": {
    "name": "ipython",
    "version": 3
   },
   "file_extension": ".py",
   "mimetype": "text/x-python",
   "name": "python",
   "nbconvert_exporter": "python",
   "pygments_lexer": "ipython3",
   "version": "3.6.7"
  }
 },
 "nbformat": 4,
 "nbformat_minor": 2
}
