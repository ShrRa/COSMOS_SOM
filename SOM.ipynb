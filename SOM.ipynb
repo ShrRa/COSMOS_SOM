{
 "cells": [
  {
   "cell_type": "markdown",
   "metadata": {},
   "source": [
    "### Table of contents\n",
    "[Imports](#funcs)\n",
    "\n",
    "[Parameters, filenames and directories](#params)\n",
    "\n",
    "[Reading datasets](#readCatalogs)\n",
    "\n",
    "[Training SOMs](#SOM_Train)\n",
    "\n",
    "[Calculating SOM_info for dataset](#SOM_info)\n",
    "\n",
    "[Building and saving maps](#SOM_maps)\n",
    "\n",
    "[Adding outlier coefficients for specZ, ML and SED photoZ and quantErr](#outlCoeff)\n",
    "\n",
    "[Saving datasets with SOM_info](#save)"
   ]
  },
  {
   "cell_type": "code",
   "execution_count": 70,
   "metadata": {},
   "outputs": [],
   "source": [
    "### import libraries ###\n",
    "import time\n",
    "import numpy as np\n",
    "import minisom\n",
    "import os\n",
    "import pandas as pd\n",
    "from func_SOM_read_write import createSOM, writeSOM, loadSOM\n",
    "from func_add_SOM_info import addBMUWeights, addQuantErr, addCellAddress, calcOutlCoeff, addOccupation\n",
    "from func_maps import buildMaps, writeMaps,readMaps"
   ]
  },
  {
   "cell_type": "markdown",
   "metadata": {},
   "source": [
    "### Parameters, filenames and directories\n",
    "<a id='params'>#params<a>"
   ]
  },
  {
   "cell_type": "code",
   "execution_count": 4,
   "metadata": {},
   "outputs": [],
   "source": [
    "### Parameters of SOM experiment ###\n",
    "nameOfExperiment='ex017'\n",
    "width=25\n",
    "height=28\n",
    "widthBig=64\n",
    "heightBig=67\n",
    "num_features=10\n",
    "epochs=6000\n",
    "sigma=5\n",
    "learning_rate=0.5\n",
    "neighborhood_function='bubble'"
   ]
  },
  {
   "cell_type": "code",
   "execution_count": 5,
   "metadata": {},
   "outputs": [],
   "source": [
    "### Files and directories ###\n",
    "dirCatalogs=r'D:\\Sources\\COSMOS_photoZ\\COSMOS_v3.0\\catalogs\\forPaper\\v06\\SOMprepared'\n",
    "dirSOM=r'D:\\Sources\\COSMOS_photoZ\\COSMOS_v3.0\\SOM\\forArticle'\n",
    "dirMLPQNA=r'D:\\Sources\\COSMOS_photoZ\\COSMOS_v3.0\\experimentsArticle\\exp022'\n",
    "\n",
    "nameTrain=r'05_COSMOS_SpectrZ_Zlim_1p2.csv'\n",
    "nameTest=r'05_COSMOS_SpectrZ_Zlim_1p2_Test.csv'\n",
    "nameRun=r'04_COSMOS2015_run_WorkBands.csv'\n",
    "nameDeimos=r'04_COSMOS_DEIMOS_QfFilter.csv'"
   ]
  },
  {
   "cell_type": "code",
   "execution_count": 7,
   "metadata": {},
   "outputs": [],
   "source": [
    "### Create experiment folder ###\n",
    "if os.path.isdir(dirSOM):\n",
    "    os.mkdir(os.path.join(dirSOM,nameOfExperiment))\n",
    "else:\n",
    "    os.makedirs(os.path.join(dirSOM,nameOfExperiment)) \n",
    "timeName=time.strftime(\"%y%m%d_%H%M%S_\", time.gmtime())"
   ]
  },
  {
   "cell_type": "code",
   "execution_count": 8,
   "metadata": {},
   "outputs": [],
   "source": [
    "### Write parameters on log file ###\n",
    "logName=timeName+'_log.txt'\n",
    "with open(os.path.join(dirSOM,nameOfExperiment,logName), 'a+') as f:\n",
    "    f.write('Catalog='+nameTrain+'\\n')\n",
    "    f.write('width='+str(width)+'\\n')\n",
    "    f.write('height='+str(height)+'\\n')\n",
    "    f.write('widthBig='+str(widthBig)+'\\n')\n",
    "    f.write('heightBig='+str(heightBig)+'\\n')\n",
    "    f.write('num_features='+str(num_features)+'\\n')\n",
    "    f.write('epochs='+str(epochs)+'\\n')\n",
    "    f.write('sigma='+str(sigma)+'\\n')\n",
    "    f.write('learning rate='+str(learning_rate)+'\\n')\n",
    "    f.write('neighborhood_function='+str(neighborhood_function)+'\\n')"
   ]
  },
  {
   "cell_type": "code",
   "execution_count": 49,
   "metadata": {},
   "outputs": [],
   "source": [
    "### Column names for training and filtering ###\n",
    "mags=['Ksmagap3','Ymagap3','Hmagap3','Jmagap3','Bmagap3','Vmagap3','ipmagap3','rmagap3','umagap3','zppmagap3']\n",
    "magsScaled=['sc_'+s for s in mags]\n",
    "idCol='Seq'\n",
    "specZ='specZ'\n",
    "photoZ_ML='photoZ_ML'\n",
    "photoZ_SED='photoZ_SED'\n",
    "residML='resid_ML'\n",
    "residSED='resid_SED'\n",
    "residML_SED='residML_SED'\n",
    "quantErr='quantErr'"
   ]
  },
  {
   "cell_type": "markdown",
   "metadata": {},
   "source": [
    "### Reading datasets\n",
    "<a id='readCatalogs'>#readCatalogs<a>"
   ]
  },
  {
   "cell_type": "code",
   "execution_count": 10,
   "metadata": {},
   "outputs": [],
   "source": [
    "### Read catalogs ###\n",
    "dataTrain=pd.read_csv(os.path.join(dirCatalogs,nameTrain))\n",
    "dataTest=pd.read_csv(os.path.join(dirCatalogs,nameTest))\n",
    "dataRun=pd.read_csv(os.path.join(dirCatalogs,nameRun))\n",
    "dataDeimos=pd.read_csv(os.path.join(dirCatalogs,nameDeimos))"
   ]
  },
  {
   "cell_type": "markdown",
   "metadata": {},
   "source": [
    "### Training SOMs\n",
    "<a id='SOM_Train'>#SOM_Train<a>"
   ]
  },
  {
   "cell_type": "code",
   "execution_count": 11,
   "metadata": {},
   "outputs": [],
   "source": [
    "data=np.array(dataTrain[magsScaled])\n",
    "somTrain=createSOM(data, epochs, height, width, num_features, sigma, learning_rate, \n",
    "                neighborhood_function, saveWeightsName=os.path.join(dirSOM,nameOfExperiment,'somTrainWeights.txt'))"
   ]
  },
  {
   "cell_type": "code",
   "execution_count": 12,
   "metadata": {},
   "outputs": [],
   "source": [
    "data=np.array(dataRun[magsScaled])\n",
    "somRun=createSOM(data, epochs, height, width, num_features, sigma, learning_rate, \n",
    "                neighborhood_function, saveWeightsName=os.path.join(dirSOM,nameOfExperiment,'somRunWeights.txt'))"
   ]
  },
  {
   "cell_type": "code",
   "execution_count": 13,
   "metadata": {},
   "outputs": [],
   "source": [
    "somRunBig=createSOM(data, epochs, widthBig, widthBig, num_features, sigma, learning_rate, \n",
    "                neighborhood_function, saveWeightsName=os.path.join(dirSOM,nameOfExperiment,'somRunBigWeights.txt'))"
   ]
  },
  {
   "cell_type": "code",
   "execution_count": 22,
   "metadata": {},
   "outputs": [
    {
     "name": "stdout",
     "output_type": "stream",
     "text": [
      "4.998483404961007e-09\n",
      "4.9994364204053454e-09\n",
      "4.999866021204724e-09\n"
     ]
    }
   ],
   "source": [
    "### Checking that after writing/loading cycle SOM weights were the same ###\n",
    "soms=[somTrain,somRun,somRunBig]\n",
    "somNames=['somTrainWeights.txt','somRunWeights.txt','somRunBigWeights.txt']\n",
    "for som,somName in zip(soms,somNames):\n",
    "    somCheck=loadSOM(weightsFile=os.path.join(dirSOM,nameOfExperiment,somName),\n",
    "                 sigma=sigma,learning_rate=learning_rate,neighborhood_function=neighborhood_function,random_seed=10)\n",
    "    print(abs((som.get_weights()-somCheck.get_weights())).max())"
   ]
  },
  {
   "cell_type": "markdown",
   "metadata": {},
   "source": [
    "### Calculating SOM_info for dataset\n",
    "<a id='SOM_info'>#SOM_info<a>"
   ]
  },
  {
   "cell_type": "code",
   "execution_count": 36,
   "metadata": {},
   "outputs": [],
   "source": [
    "### Adding weights of BMU for each galaxy in a dataset ###\n",
    "dataTrain=addBMUWeights(somTrain,dataTrain,magsScaled)\n",
    "dataTest=addBMUWeights(somTrain,dataTest,magsScaled)\n",
    "dataDeimos=addBMUWeights(somTrain,dataDeimos,magsScaled)\n",
    "dataRun=addBMUWeights(somTrain,dataRun,magsScaled)"
   ]
  },
  {
   "cell_type": "code",
   "execution_count": 37,
   "metadata": {},
   "outputs": [],
   "source": [
    "### Adding quantization errors for each galaxy ###\n",
    "dataTrain=addQuantErr(dataTrain,magsScaled,colWeights=None)\n",
    "dataTest=addQuantErr(dataTest,magsScaled,colWeights=None)\n",
    "dataDeimos=addQuantErr(dataDeimos,magsScaled,colWeights=None)\n",
    "dataRun=addQuantErr(dataRun,magsScaled,colWeights=None)"
   ]
  },
  {
   "cell_type": "code",
   "execution_count": 38,
   "metadata": {},
   "outputs": [],
   "source": [
    "### Adding cellIDs for each galaxy ###\n",
    "soms=[somTrain,somRun,somRunBig]\n",
    "prefixes=['_TrainSOM','_RunSOM','_RunBigSOM']\n",
    "for som,prefix in zip(soms,prefixes):\n",
    "    dataTrain=addCellAddress(som, dataTrain, magsScaled, idCol,cellIDPrefix=prefix)\n",
    "    dataTest=addCellAddress(som, dataTest, magsScaled, idCol,cellIDPrefix=prefix)\n",
    "    dataDeimos=addCellAddress(som, dataDeimos, magsScaled, idCol,cellIDPrefix=prefix)\n",
    "    dataRun=addCellAddress(som, dataRun, magsScaled, idCol,cellIDPrefix=prefix)"
   ]
  },
  {
   "cell_type": "markdown",
   "metadata": {},
   "source": [
    "### Building and saving maps\n",
    "<a id='SOM_maps'>#SOM_maps<a>"
   ]
  },
  {
   "cell_type": "code",
   "execution_count": 43,
   "metadata": {},
   "outputs": [],
   "source": [
    "mapsAll={}\n",
    "    \n",
    "mapCols=[photoZ_SED,photoZ_ML,specZ,residSED,residML,residML_SED,'quantErr']\n",
    "\n",
    "cellID='cellID_TrainSOM'\n",
    "som=somTrain\n",
    "mapsAll['mapsTrainOnTrain']=buildMaps(som,dataTrain,mapCols,idCol,cellID=cellID)\n",
    "mapsAll['mapsDeimosOnTrain']=buildMaps(som,dataDeimos,mapCols,idCol,cellID=cellID)\n",
    "mapsAll['mapsTestOnTrain']=buildMaps(som,dataTest,mapCols,idCol,cellID=cellID)\n",
    "\n",
    "cellID='cellID_RunSOM'\n",
    "som=somRun\n",
    "mapsAll['mapsTrainOnRun']=buildMaps(som,dataTrain,mapCols,idCol,cellID=cellID)\n",
    "mapsAll['mapsDeimosOnRun']=buildMaps(som,dataDeimos,mapCols,idCol,cellID=cellID)\n",
    "mapsAll['mapsTestOnRun']=buildMaps(som,dataTest,mapCols,idCol,cellID=cellID)\n",
    "\n",
    "cellID='cellID_RunBigSOM'\n",
    "som=somRunBig\n",
    "mapsAll['mapsTrainOnRunBig']=buildMaps(som,dataTrain,mapCols,idCol,cellID=cellID)\n",
    "mapsAll['mapsDeimosOnRunBig']=buildMaps(som,dataDeimos,mapCols,idCol,cellID=cellID)\n",
    "mapsAll['mapsTestOnRunBig']=buildMaps(som,dataTest,mapCols,idCol,cellID=cellID)\n",
    "\n",
    "mapCols=[photoZ_SED,photoZ_ML,residML_SED,'quantErr']\n",
    "cellID='cellID_TrainSOM'\n",
    "som=somTrain\n",
    "mapsAll['mapsRunOnTrain']=buildMaps(som,dataRun,mapCols,idCol,cellID=cellID)\n",
    "\n",
    "cellID='cellID_RunSOM'\n",
    "som=somRun\n",
    "mapsAll['mapsRunOnRun']=buildMaps(som,dataRun,mapCols,idCol,cellID=cellID)\n",
    "\n",
    "cellID='cellID_RunBigSOM'\n",
    "som=somRunBig\n",
    "mapsAll['mapsRunOnRunBig']=buildMaps(som,dataRun,mapCols,idCol,cellID=cellID)"
   ]
  },
  {
   "cell_type": "code",
   "execution_count": 44,
   "metadata": {},
   "outputs": [],
   "source": [
    "### Saving maps ###\n",
    "dirMaps='maps'\n",
    "os.mkdir(os.path.join(dirSOM,nameOfExperiment,dirMaps))\n",
    "for key,val in mapsAll.items():\n",
    "    writeMaps(val,prefixName=os.path.join(dirSOM,nameOfExperiment,dirMaps,key))"
   ]
  },
  {
   "cell_type": "markdown",
   "metadata": {},
   "source": [
    "### Adding outlier coefficients for specZ, ML and SED photoZ and quantErr\n",
    "<a id='outlCoeff'>#outlCoeff<a>"
   ]
  },
  {
   "cell_type": "code",
   "execution_count": 73,
   "metadata": {},
   "outputs": [
    {
     "name": "stdout",
     "output_type": "stream",
     "text": [
      "<class 'pandas.core.frame.DataFrame'>\n",
      "<class 'pandas.core.frame.DataFrame'>\n",
      "<class 'pandas.core.frame.DataFrame'>\n",
      "<class 'pandas.core.frame.DataFrame'>\n",
      "<class 'pandas.core.frame.DataFrame'>\n",
      "<class 'pandas.core.frame.DataFrame'>\n",
      "<class 'pandas.core.frame.DataFrame'>\n",
      "<class 'pandas.core.frame.DataFrame'>\n",
      "<class 'pandas.core.frame.DataFrame'>\n",
      "<class 'pandas.core.frame.DataFrame'>\n",
      "<class 'pandas.core.frame.DataFrame'>\n",
      "<class 'pandas.core.frame.DataFrame'>\n"
     ]
    }
   ],
   "source": [
    "filterCols=[specZ,photoZ_ML,photoZ_SED,quantErr]\n",
    "maps=mapsAll['mapsTrainOnTrain']\n",
    "cellID='cellID_TrainSOM'\n",
    "for col in filterCols:\n",
    "    dataTrain=calcOutlCoeff(dataTrain,maps['stdMaps'][col],maps['meanMaps'][col],col,cellID,prefix='')\n",
    "    dataTest=calcOutlCoeff(dataTest,maps['stdMaps'][col],maps['meanMaps'][col],col,cellID,prefix='')\n",
    "    dataDeimos=calcOutlCoeff(dataDeimos,maps['stdMaps'][col],maps['meanMaps'][col],col,cellID,prefix='')"
   ]
  },
  {
   "cell_type": "code",
   "execution_count": 75,
   "metadata": {},
   "outputs": [],
   "source": [
    "filterCols=[photoZ_ML,photoZ_SED,'quantErr']\n",
    "maps=mapsAll['mapsRunOnTrain']\n",
    "cellID='cellID_TrainSOM'\n",
    "for col in filterCols:\n",
    "    dataRun=calcOutlCoeff(dataRun,maps['stdMaps'][col],maps['meanMaps'][col],col,cellID,prefix='')"
   ]
  },
  {
   "cell_type": "markdown",
   "metadata": {},
   "source": [
    "### Saving datasets with SOM_info\n",
    "<a id='save'>#save<a>"
   ]
  },
  {
   "cell_type": "code",
   "execution_count": 78,
   "metadata": {},
   "outputs": [],
   "source": [
    "### Saving datasets with added data ###\n",
    "dirDatasets='datasets'\n",
    "os.mkdir(os.path.join(dirSOM,nameOfExperiment,dirDatasets))\n",
    "datasets=[dataTrain,dataTest,dataDeimos,dataRun]\n",
    "names=[nameTrain,nameTest,nameDeimos,nameRun]\n",
    "for dataset,name in zip(datasets,names):\n",
    "    dataset.to_csv(os.path.join(dirSOM,nameOfExperiment,dirDatasets,name.replace('.csv','_SOMinfo.csv')),index=False)"
   ]
  }
 ],
 "metadata": {
  "kernelspec": {
   "display_name": "Python 3",
   "language": "python",
   "name": "python3"
  },
  "language_info": {
   "codemirror_mode": {
    "name": "ipython",
    "version": 3
   },
   "file_extension": ".py",
   "mimetype": "text/x-python",
   "name": "python",
   "nbconvert_exporter": "python",
   "pygments_lexer": "ipython3",
   "version": "3.6.7"
  }
 },
 "nbformat": 4,
 "nbformat_minor": 2
}
