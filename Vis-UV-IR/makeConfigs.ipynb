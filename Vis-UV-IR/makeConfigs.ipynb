{
 "cells": [
  {
   "cell_type": "code",
   "execution_count": 1,
   "metadata": {},
   "outputs": [],
   "source": [
    "import os\n",
    "import pandas as pd \n",
    "import shutil\n",
    "import configparser"
   ]
  },
  {
   "cell_type": "code",
   "execution_count": 2,
   "metadata": {},
   "outputs": [],
   "source": [
    "def getBandsIndexes(cat,bands):\n",
    "    return [list(cat.columns).index(c)+1 for c in bands]"
   ]
  },
  {
   "cell_type": "code",
   "execution_count": 45,
   "metadata": {},
   "outputs": [],
   "source": [
    "def makeConfig(dirCat:str,fileNameCat:str,idcolumn:str,zspeccolumn:str,\n",
    "               features:list,expNum:int,dirConfigs:str,configName:str,\n",
    "               dirPath:str='Sources\\COSMOS_photoZ\\COSMOS_v3.0\\experimentsArticle\\Vis_UV_IR'):\n",
    "    \n",
    "    cat=pd.read_csv(os.path.join(dirCat,fileNameCat))\n",
    "    headers=list(cat)\n",
    "    idcolumnidx=str(int(headers.index('Seq')+1))\n",
    "    zspeccolumnidx=str(int(headers.index(zspeccolumn)+1))\n",
    "    featuresIdx=getBandsIndexes(cat,features)\n",
    "    featuresIdxStr=','.join(str(x) for x in featuresIdx)\n",
    "    nNeuronsLayer1=str(int(2*len(featuresIdx)+1))\n",
    "    nNeuronsLayer2=str(int(len(featuresIdx)-1))\n",
    "\n",
    "    newIni='exp'+str(expNum).zfill(3)+'_'+configName+'.ini'\n",
    "    shutil.copyfile(os.path.join(dirConfigs,fileConfigExample),os.path.join(dirConfigs,newIni))\n",
    "    parser=configparser.RawConfigParser()\n",
    "    parser.read(os.path.join(dirConfigs,newIni))\n",
    "    parser.set('Train Input Info','photoColumnIdxList',featuresIdxStr)\n",
    "    parser.set('Train Input Info','dirPath',dirCat)\n",
    "    parser.set('Train Input Info','idcolumnidx',idcolumnidx)\n",
    "    parser.set('Train Input Info','zspeccolumnidx',zspeccolumnidx)\n",
    "    parser.set('Train Input Info','name',fileNameCat)\n",
    "    parser.set('Test Input Info','photoColumnIdxList',featuresIdxStr)\n",
    "    parser.set('Test Input Info','name',fileNameCat)\n",
    "    parser.set('Test Input Info','dirPath',dirCat)\n",
    "    parser.set('Test Input Info','idcolumnidx',idcolumnidx)\n",
    "    parser.set('Test Input Info','zspeccolumnidx',zspeccolumnidx)\n",
    "    parser.set('Output Info','dirpath',\n",
    "               dirPath+'\\exp'+str(expNum).zfill(3))\n",
    "    parser.set('Output Info','modelSubDirName','ex'+str(expNum).zfill(3))\n",
    "    parser.set('Learning Info','nHiddenNeurons',nNeuronsLayer1+','+nNeuronsLayer2)\n",
    "    parser.set('Train Output Info','nameSuffix','_'+fileNameCat)\n",
    "    parser.set('Test Output Info','nameSuffix','_'+fileNameCat)\n",
    "    parser.set('Log Info','nameSuffix','_'+fileNameCat)\n",
    "    parser.set('Restart Info','nameSuffix','_'+fileNameCat)\n",
    "\n",
    "    with open(os.path.join(dirConfigs,newIni), 'w') as configfile:\n",
    "        parser.write(configfile)\n",
    "    return"
   ]
  },
  {
   "cell_type": "code",
   "execution_count": 29,
   "metadata": {},
   "outputs": [],
   "source": [
    "dirCat=r'D:\\Sources\\COSMOS_photoZ\\COSMOS_v3.0\\catalogs\\forPaper\\v05'\n",
    "dirConfigs=r'D:\\Sources\\COSMOS_photoZ\\COSMOS_v3.0\\configsArticle\\Vis_UV_IR'\n",
    "fileConfigExample=r'exXX_phz_z_ConfigExample.ini'\n",
    "expNum=1\n",
    "fileNameCat=r'05_COSMOS_SpectrZ_Zlim_1p2_AllBands_colors.csv'\n",
    "idcolumn='Seq'\n",
    "zspeccolumn='z_spec'\n",
    "cat=pd.read_csv(os.path.join(dirCat,fileNameCat))"
   ]
  },
  {
   "cell_type": "code",
   "execution_count": 5,
   "metadata": {},
   "outputs": [],
   "source": [
    "bands={'Vis':['B','V','r','ip','zpp'],\n",
    "      'UV':['u'],\n",
    "      'IR':['Y','J','H','Ks']}"
   ]
  },
  {
   "cell_type": "code",
   "execution_count": 6,
   "metadata": {},
   "outputs": [],
   "source": [
    "for key,val in bands.items():\n",
    "    blist=[b+'magap3' for b in val]\n",
    "    bands[key]=blist"
   ]
  },
  {
   "cell_type": "code",
   "execution_count": 24,
   "metadata": {},
   "outputs": [],
   "source": [
    "for key,val in bands.items():\n",
    "    fset=val\n",
    "    fsetName=key\n",
    "    makeConfig(dirCat,fileNameCat,idcolumn='Seq',zspeccolumn=zspeccolumn,\n",
    "               features=fset,expNum=expNum,dirConfigs=dirConfigs,\n",
    "                   configName=fileNameCat.replace('.csv','')+'_'+fsetName)\n",
    "    expNum+=1 \n",
    "\n",
    "\n",
    "fsetName='Vis_UV'\n",
    "fset=bands['Vis']+bands['UV']\n",
    "makeConfig(dirCat,fileNameCat,idcolumn='Seq',zspeccolumn=zspeccolumn,\n",
    "           features=fset,expNum=expNum,dirConfigs=dirConfigs,\n",
    "               configName=fileNameCat.replace('.csv','')+'_'+fsetName)\n",
    "expNum+=1 \n",
    "\n",
    "fsetName='Vis_IR'\n",
    "fset=bands['Vis']+bands['IR']\n",
    "makeConfig(dirCat,fileNameCat,idcolumn='Seq',zspeccolumn=zspeccolumn,\n",
    "           features=fset,expNum=expNum,dirConfigs=dirConfigs,\n",
    "               configName=fileNameCat.replace('.csv','')+'_'+fsetName)\n",
    "expNum+=1 \n",
    "\n",
    "fsetName='Vis_UV_IR'\n",
    "fset=bands['Vis']+bands['UV']+bands['IR']\n",
    "makeConfig(dirCat,fileNameCat,idcolumn='Seq',zspeccolumn=zspeccolumn,\n",
    "           features=fset,expNum=expNum,dirConfigs=dirConfigs,\n",
    "               configName=fileNameCat.replace('.csv','')+'_'+fsetName)\n",
    "expNum+=1 "
   ]
  },
  {
   "cell_type": "code",
   "execution_count": 28,
   "metadata": {},
   "outputs": [
    {
     "name": "stdout",
     "output_type": "stream",
     "text": [
      "D:\\Sources\\COSMOS_photoZ\\COSMOS_v3.0\\configsArticle\\Vis_UV_IR\\exp001_05_COSMOS_SpectrZ_Zlim_1p2_AllBands_colors_Vis.ini\n",
      "Ready\n",
      "D:\\Sources\\COSMOS_photoZ\\COSMOS_v3.0\\configsArticle\\Vis_UV_IR\\exp002_05_COSMOS_SpectrZ_Zlim_1p2_AllBands_colors_UV.ini\n",
      "Ready\n",
      "D:\\Sources\\COSMOS_photoZ\\COSMOS_v3.0\\configsArticle\\Vis_UV_IR\\exp003_05_COSMOS_SpectrZ_Zlim_1p2_AllBands_colors_IR.ini\n",
      "Ready\n",
      "D:\\Sources\\COSMOS_photoZ\\COSMOS_v3.0\\configsArticle\\Vis_UV_IR\\exp004_05_COSMOS_SpectrZ_Zlim_1p2_AllBands_colors_Vis_UV.ini\n",
      "Ready\n",
      "D:\\Sources\\COSMOS_photoZ\\COSMOS_v3.0\\configsArticle\\Vis_UV_IR\\exp005_05_COSMOS_SpectrZ_Zlim_1p2_AllBands_colors_Vis_IR.ini\n",
      "Ready\n",
      "D:\\Sources\\COSMOS_photoZ\\COSMOS_v3.0\\configsArticle\\Vis_UV_IR\\exp006_05_COSMOS_SpectrZ_Zlim_1p2_AllBands_colors_Vis_UV_IR.ini\n",
      "Ready\n"
     ]
    }
   ],
   "source": [
    "os.chdir('D:\\\\')\n",
    "\n",
    "# 19.01.2021. Vis-UV-IR experiments\n",
    "configs=os.listdir(dirConfigs)\n",
    "configs=[conf for conf in configs if conf.startswith('exp0')]\n",
    "for conf in configs:\n",
    "    conf=os.path.join(dirConfigs,conf)\n",
    "    print(conf)\n",
    "    os.system('metaphor_pipeline '+conf)\n",
    "    print('Ready')"
   ]
  },
  {
   "cell_type": "code",
   "execution_count": 8,
   "metadata": {},
   "outputs": [],
   "source": [
    "### Identifying most important IR band\n",
    "expNum=7"
   ]
  },
  {
   "cell_type": "code",
   "execution_count": 9,
   "metadata": {},
   "outputs": [],
   "source": [
    "for band in bands['IR']:\n",
    "    fsetName='Vis_UV_'+band\n",
    "    fset=bands['Vis']+bands['UV']+[band]\n",
    "    makeConfig(dirCat,fileNameCat,idcolumn='Seq',zspeccolumn=zspeccolumn,\n",
    "               features=fset,expNum=expNum,dirConfigs=dirConfigs,\n",
    "                   configName=fileNameCat.replace('.csv','')+'_'+fsetName)\n",
    "    expNum+=1 "
   ]
  },
  {
   "cell_type": "code",
   "execution_count": 10,
   "metadata": {},
   "outputs": [
    {
     "name": "stdout",
     "output_type": "stream",
     "text": [
      "D:\\Sources\\COSMOS_photoZ\\COSMOS_v3.0\\configsArticle\\Vis_UV_IR\\exp007_05_COSMOS_SpectrZ_Zlim_1p2_AllBands_colors_Vis_UV_Ymagap3.ini\n",
      "Ready\n",
      "D:\\Sources\\COSMOS_photoZ\\COSMOS_v3.0\\configsArticle\\Vis_UV_IR\\exp008_05_COSMOS_SpectrZ_Zlim_1p2_AllBands_colors_Vis_UV_Jmagap3.ini\n",
      "Ready\n",
      "D:\\Sources\\COSMOS_photoZ\\COSMOS_v3.0\\configsArticle\\Vis_UV_IR\\exp009_05_COSMOS_SpectrZ_Zlim_1p2_AllBands_colors_Vis_UV_Hmagap3.ini\n",
      "Ready\n",
      "D:\\Sources\\COSMOS_photoZ\\COSMOS_v3.0\\configsArticle\\Vis_UV_IR\\exp010_05_COSMOS_SpectrZ_Zlim_1p2_AllBands_colors_Vis_UV_Ksmagap3.ini\n",
      "Ready\n"
     ]
    }
   ],
   "source": [
    "os.chdir('D:\\\\')\n",
    "\n",
    "configs=os.listdir(dirConfigs)\n",
    "confIds=['exp007','exp008','exp009','exp010']\n",
    "for confID in confIds:\n",
    "    conf=os.path.join(dirConfigs,next(f for f in os.listdir(dirConfigs) if f.startswith(confID)))\n",
    "    print(conf)\n",
    "    os.system('metaphor_pipeline '+conf)\n",
    "    print('Ready')"
   ]
  },
  {
   "cell_type": "code",
   "execution_count": 11,
   "metadata": {},
   "outputs": [],
   "source": [
    "### With narrow bands"
   ]
  },
  {
   "cell_type": "code",
   "execution_count": 19,
   "metadata": {},
   "outputs": [],
   "source": [
    "narrows=['IB574ap3','IA527ap3','IA624ap3','NB816ap3']\n",
    "bandBasic=bands['Vis']+bands['UV']+['Hmagap3']"
   ]
  },
  {
   "cell_type": "code",
   "execution_count": 13,
   "metadata": {},
   "outputs": [
    {
     "data": {
      "text/plain": [
       "11"
      ]
     },
     "execution_count": 13,
     "metadata": {},
     "output_type": "execute_result"
    }
   ],
   "source": [
    "expNum"
   ]
  },
  {
   "cell_type": "code",
   "execution_count": 14,
   "metadata": {},
   "outputs": [],
   "source": [
    "for band in narrows:\n",
    "    fsetName='Vis_UV_'+band\n",
    "    fset=bands['Vis']+bands['UV']+[band]\n",
    "    makeConfig(dirCat,fileNameCat,idcolumn='Seq',zspeccolumn=zspeccolumn,\n",
    "               features=fset,expNum=expNum,dirConfigs=dirConfigs,\n",
    "                   configName=fileNameCat.replace('.csv','')+'_'+fsetName)\n",
    "    expNum+=1 "
   ]
  },
  {
   "cell_type": "code",
   "execution_count": 15,
   "metadata": {},
   "outputs": [
    {
     "name": "stdout",
     "output_type": "stream",
     "text": [
      "D:\\Sources\\COSMOS_photoZ\\COSMOS_v3.0\\configsArticle\\Vis_UV_IR\\exp011_05_COSMOS_SpectrZ_Zlim_1p2_AllBands_colors_Vis_UV_IB574ap3.ini\n",
      "Ready\n",
      "D:\\Sources\\COSMOS_photoZ\\COSMOS_v3.0\\configsArticle\\Vis_UV_IR\\exp012_05_COSMOS_SpectrZ_Zlim_1p2_AllBands_colors_Vis_UV_IA527ap3.ini\n",
      "Ready\n",
      "D:\\Sources\\COSMOS_photoZ\\COSMOS_v3.0\\configsArticle\\Vis_UV_IR\\exp013_05_COSMOS_SpectrZ_Zlim_1p2_AllBands_colors_Vis_UV_IA624ap3.ini\n",
      "Ready\n",
      "D:\\Sources\\COSMOS_photoZ\\COSMOS_v3.0\\configsArticle\\Vis_UV_IR\\exp014_05_COSMOS_SpectrZ_Zlim_1p2_AllBands_colors_Vis_UV_NB816ap3.ini\n",
      "Ready\n"
     ]
    }
   ],
   "source": [
    "os.chdir('D:\\\\')\n",
    "\n",
    "configs=os.listdir(dirConfigs)\n",
    "confIds=['exp011','exp012','exp013','exp014']\n",
    "for confID in confIds:\n",
    "    conf=os.path.join(dirConfigs,next(f for f in os.listdir(dirConfigs) if f.startswith(confID)))\n",
    "    print(conf)\n",
    "    os.system('metaphor_pipeline '+conf)\n",
    "    print('Ready')"
   ]
  },
  {
   "cell_type": "code",
   "execution_count": 20,
   "metadata": {},
   "outputs": [
    {
     "data": {
      "text/plain": [
       "15"
      ]
     },
     "execution_count": 20,
     "metadata": {},
     "output_type": "execute_result"
    }
   ],
   "source": [
    "expNum"
   ]
  },
  {
   "cell_type": "code",
   "execution_count": 22,
   "metadata": {},
   "outputs": [],
   "source": [
    "for band in narrows:\n",
    "    fsetName='Vis_UV_H_'+band.replace('ap3','')\n",
    "    fset=bandBasic+[band]\n",
    "    makeConfig(dirCat,fileNameCat,idcolumn='Seq',zspeccolumn=zspeccolumn,\n",
    "               features=fset,expNum=expNum,dirConfigs=dirConfigs,\n",
    "                   configName=fileNameCat.replace('.csv','')+'_'+fsetName)\n",
    "    expNum+=1 "
   ]
  },
  {
   "cell_type": "code",
   "execution_count": 23,
   "metadata": {},
   "outputs": [
    {
     "name": "stdout",
     "output_type": "stream",
     "text": [
      "D:\\Sources\\COSMOS_photoZ\\COSMOS_v3.0\\configsArticle\\Vis_UV_IR\\exp015_05_COSMOS_SpectrZ_Zlim_1p2_AllBands_colors_Vis_UV_H_IB574.ini\n",
      "Ready\n",
      "D:\\Sources\\COSMOS_photoZ\\COSMOS_v3.0\\configsArticle\\Vis_UV_IR\\exp016_05_COSMOS_SpectrZ_Zlim_1p2_AllBands_colors_Vis_UV_H_IA527.ini\n",
      "Ready\n",
      "D:\\Sources\\COSMOS_photoZ\\COSMOS_v3.0\\configsArticle\\Vis_UV_IR\\exp017_05_COSMOS_SpectrZ_Zlim_1p2_AllBands_colors_Vis_UV_H_IA624.ini\n",
      "Ready\n",
      "D:\\Sources\\COSMOS_photoZ\\COSMOS_v3.0\\configsArticle\\Vis_UV_IR\\exp018_05_COSMOS_SpectrZ_Zlim_1p2_AllBands_colors_Vis_UV_H_NB816.ini\n",
      "Ready\n"
     ]
    }
   ],
   "source": [
    "os.chdir('D:\\\\')\n",
    "\n",
    "configs=os.listdir(dirConfigs)\n",
    "confIds=['exp015','exp016','exp017','exp018']\n",
    "for confID in confIds:\n",
    "    conf=os.path.join(dirConfigs,next(f for f in os.listdir(dirConfigs) if f.startswith(confID)))\n",
    "    print(conf)\n",
    "    os.system('metaphor_pipeline '+conf)\n",
    "    print('Ready')"
   ]
  },
  {
   "cell_type": "code",
   "execution_count": 24,
   "metadata": {},
   "outputs": [],
   "source": [
    "### With J band"
   ]
  },
  {
   "cell_type": "code",
   "execution_count": 25,
   "metadata": {},
   "outputs": [
    {
     "data": {
      "text/plain": [
       "19"
      ]
     },
     "execution_count": 25,
     "metadata": {},
     "output_type": "execute_result"
    }
   ],
   "source": [
    "expNum"
   ]
  },
  {
   "cell_type": "code",
   "execution_count": 26,
   "metadata": {},
   "outputs": [],
   "source": [
    "bandBasic=bands['Vis']+bands['UV']+['Jmagap3']\n",
    "for band in narrows:\n",
    "    fsetName='Vis_UV_J_'+band.replace('ap3','')\n",
    "    fset=bandBasic+[band]\n",
    "    makeConfig(dirCat,fileNameCat,idcolumn='Seq',zspeccolumn=zspeccolumn,\n",
    "               features=fset,expNum=expNum,dirConfigs=dirConfigs,\n",
    "                   configName=fileNameCat.replace('.csv','')+'_'+fsetName)\n",
    "    expNum+=1 "
   ]
  },
  {
   "cell_type": "code",
   "execution_count": 27,
   "metadata": {},
   "outputs": [
    {
     "name": "stdout",
     "output_type": "stream",
     "text": [
      "D:\\Sources\\COSMOS_photoZ\\COSMOS_v3.0\\configsArticle\\Vis_UV_IR\\exp019_05_COSMOS_SpectrZ_Zlim_1p2_AllBands_colors_Vis_UV_J_IB574.ini\n",
      "Ready\n",
      "D:\\Sources\\COSMOS_photoZ\\COSMOS_v3.0\\configsArticle\\Vis_UV_IR\\exp020_05_COSMOS_SpectrZ_Zlim_1p2_AllBands_colors_Vis_UV_J_IA527.ini\n",
      "Ready\n",
      "D:\\Sources\\COSMOS_photoZ\\COSMOS_v3.0\\configsArticle\\Vis_UV_IR\\exp021_05_COSMOS_SpectrZ_Zlim_1p2_AllBands_colors_Vis_UV_J_IA624.ini\n",
      "Ready\n",
      "D:\\Sources\\COSMOS_photoZ\\COSMOS_v3.0\\configsArticle\\Vis_UV_IR\\exp022_05_COSMOS_SpectrZ_Zlim_1p2_AllBands_colors_Vis_UV_J_NB816.ini\n",
      "Ready\n"
     ]
    }
   ],
   "source": [
    "os.chdir('D:\\\\')\n",
    "\n",
    "configs=os.listdir(dirConfigs)\n",
    "confIds=['exp019','exp020','exp021','exp022']\n",
    "for confID in confIds:\n",
    "    conf=os.path.join(dirConfigs,next(f for f in os.listdir(dirConfigs) if f.startswith(confID)))\n",
    "    print(conf)\n",
    "    os.system('metaphor_pipeline '+conf)\n",
    "    print('Ready')"
   ]
  },
  {
   "cell_type": "code",
   "execution_count": 28,
   "metadata": {},
   "outputs": [],
   "source": [
    "### With colours"
   ]
  },
  {
   "cell_type": "code",
   "execution_count": 36,
   "metadata": {},
   "outputs": [],
   "source": [
    "colors={'UV':['u-B'],\n",
    "        'Vis':['B-V', 'V-r', 'r-ip', 'ip-zpp', 'zpp-Y'], \n",
    "        'IR':['Y-J','J-H','H-Ks']}"
   ]
  },
  {
   "cell_type": "code",
   "execution_count": 32,
   "metadata": {},
   "outputs": [],
   "source": [
    "expNum=23"
   ]
  },
  {
   "cell_type": "code",
   "execution_count": 39,
   "metadata": {},
   "outputs": [],
   "source": [
    "fsetName='color_Vis'\n",
    "fset=colors['Vis']\n",
    "makeConfig(dirCat,fileNameCat,idcolumn='Seq',zspeccolumn=zspeccolumn,\n",
    "           features=fset,expNum=expNum,dirConfigs=dirConfigs,\n",
    "               configName=fileNameCat.replace('.csv','')+'_'+fsetName)\n",
    "expNum+=1 \n",
    "\n",
    "fsetName='color_Vis_UV'\n",
    "fset=colors['Vis']+colors['UV']\n",
    "makeConfig(dirCat,fileNameCat,idcolumn='Seq',zspeccolumn=zspeccolumn,\n",
    "           features=fset,expNum=expNum,dirConfigs=dirConfigs,\n",
    "               configName=fileNameCat.replace('.csv','')+'_'+fsetName)\n",
    "expNum+=1 \n",
    "\n",
    "fsetName='color_Vis_IR'\n",
    "fset=colors['Vis']+colors['IR']\n",
    "makeConfig(dirCat,fileNameCat,idcolumn='Seq',zspeccolumn=zspeccolumn,\n",
    "           features=fset,expNum=expNum,dirConfigs=dirConfigs,\n",
    "               configName=fileNameCat.replace('.csv','')+'_'+fsetName)\n",
    "expNum+=1 \n",
    "\n",
    "fsetName='color_Vis_UV_IR'\n",
    "fset=colors['Vis']+colors['UV']+colors['IR']\n",
    "makeConfig(dirCat,fileNameCat,idcolumn='Seq',zspeccolumn=zspeccolumn,\n",
    "           features=fset,expNum=expNum,dirConfigs=dirConfigs,\n",
    "               configName=fileNameCat.replace('.csv','')+'_'+fsetName)\n",
    "expNum+=1 "
   ]
  },
  {
   "cell_type": "code",
   "execution_count": 40,
   "metadata": {},
   "outputs": [
    {
     "name": "stdout",
     "output_type": "stream",
     "text": [
      "D:\\Sources\\COSMOS_photoZ\\COSMOS_v3.0\\configsArticle\\Vis_UV_IR\\exp023_05_COSMOS_SpectrZ_Zlim_1p2_AllBands_colors_color_Vis.ini\n",
      "Ready\n",
      "D:\\Sources\\COSMOS_photoZ\\COSMOS_v3.0\\configsArticle\\Vis_UV_IR\\exp024_05_COSMOS_SpectrZ_Zlim_1p2_AllBands_colors_color_Vis_UV.ini\n",
      "Ready\n",
      "D:\\Sources\\COSMOS_photoZ\\COSMOS_v3.0\\configsArticle\\Vis_UV_IR\\exp025_05_COSMOS_SpectrZ_Zlim_1p2_AllBands_colors_color_Vis_IR.ini\n",
      "Ready\n",
      "D:\\Sources\\COSMOS_photoZ\\COSMOS_v3.0\\configsArticle\\Vis_UV_IR\\exp026_05_COSMOS_SpectrZ_Zlim_1p2_AllBands_colors_color_Vis_UV_IR.ini\n",
      "Ready\n"
     ]
    }
   ],
   "source": [
    "os.chdir('D:\\\\')\n",
    "\n",
    "configs=os.listdir(dirConfigs)\n",
    "confIds=['exp023','exp024','exp025','exp026']\n",
    "for confID in confIds:\n",
    "    conf=os.path.join(dirConfigs,next(f for f in os.listdir(dirConfigs) if f.startswith(confID)))\n",
    "    print(conf)\n",
    "    os.system('metaphor_pipeline '+conf)\n",
    "    print('Ready')"
   ]
  },
  {
   "cell_type": "code",
   "execution_count": 41,
   "metadata": {},
   "outputs": [],
   "source": [
    "### With 'dirty' dataset"
   ]
  },
  {
   "cell_type": "code",
   "execution_count": 42,
   "metadata": {},
   "outputs": [],
   "source": [
    "dirCat=r'D:\\Sources\\COSMOS_photoZ\\COSMOS_v3.0\\catalogs\\forPaper\\v05\\NoQfClean'\n",
    "dirConfigs=r'D:\\Sources\\COSMOS_photoZ\\COSMOS_v3.0\\configsArticle\\dirtySample'\n",
    "fileConfigExample=r'exXX_phz_z_ConfigExample.ini'\n",
    "fileNameCatDirty=r'05_COSMOS_SpectrZ_Zlim_1p2_specZOutlCoeff_filter.csv'\n",
    "fileNameCatRandom=r'05_COSMOS_SpectrZ_Zlim_1p2_randSample.csv'\n",
    "dirPath='Sources\\COSMOS_photoZ\\COSMOS_v3.0\\experimentsArticle\\DirtySample'\n",
    "catDirty=pd.read_csv(os.path.join(dirCat,fileNameCatDirty))\n",
    "catRandom=pd.read_csv(os.path.join(dirCat,fileNameCatRandom))"
   ]
  },
  {
   "cell_type": "code",
   "execution_count": 47,
   "metadata": {},
   "outputs": [],
   "source": [
    "fsetName='Vis_UV_IR'\n",
    "fset=bands['Vis']+bands['UV']+bands['IR']\n",
    "makeConfig(dirCat,fileNameCatDirty,idcolumn='Seq',zspeccolumn=zspeccolumn,\n",
    "           features=fset,expNum=expNum,dirConfigs=dirConfigs,\n",
    "               configName=fileNameCatDirty.replace('.csv','')+'_'+fsetName,dirPath=dirPath)\n",
    "expNum+=1 \n",
    "\n",
    "makeConfig(dirCat,fileNameCatRandom,idcolumn='Seq',zspeccolumn=zspeccolumn,\n",
    "           features=fset,expNum=expNum,dirConfigs=dirConfigs,\n",
    "               configName=fileNameCatRandom.replace('.csv','')+'_'+fsetName,dirPath=dirPath)\n",
    "expNum+=1 "
   ]
  },
  {
   "cell_type": "code",
   "execution_count": 48,
   "metadata": {},
   "outputs": [
    {
     "name": "stdout",
     "output_type": "stream",
     "text": [
      "D:\\Sources\\COSMOS_photoZ\\COSMOS_v3.0\\configsArticle\\dirtySample\\exp027_05_COSMOS_SpectrZ_Zlim_1p2_specZOutlCoeff_filter_Vis_UV_IR.ini\n",
      "Ready\n",
      "D:\\Sources\\COSMOS_photoZ\\COSMOS_v3.0\\configsArticle\\dirtySample\\exp028_05_COSMOS_SpectrZ_Zlim_1p2_randSample_Vis_UV_IR.ini\n",
      "Ready\n"
     ]
    }
   ],
   "source": [
    "os.chdir('D:\\\\')\n",
    "\n",
    "configs=os.listdir(dirConfigs)\n",
    "confIds=['exp027','exp028']\n",
    "for confID in confIds:\n",
    "    conf=os.path.join(dirConfigs,next(f for f in os.listdir(dirConfigs) if f.startswith(confID)))\n",
    "    print(conf)\n",
    "    os.system('metaphor_pipeline '+conf)\n",
    "    print('Ready')"
   ]
  },
  {
   "cell_type": "code",
   "execution_count": 49,
   "metadata": {},
   "outputs": [],
   "source": [
    "### Feature selection based on correlation coefficient"
   ]
  },
  {
   "cell_type": "code",
   "execution_count": 52,
   "metadata": {},
   "outputs": [],
   "source": [
    "dirCat=r'D:\\Sources\\COSMOS_photoZ\\COSMOS_v3.0\\catalogs\\forPaper\\v05'\n",
    "dirConfigs=r'D:\\Sources\\COSMOS_photoZ\\COSMOS_v3.0\\configsArticle\\FeatureSelection'\n",
    "fileConfigExample=r'exXX_phz_z_ConfigExample.ini'\n",
    "expNum=29\n",
    "fileNameCat=r'05_COSMOS_SpectrZ_Zlim_1p2_AllBands_colors.csv'\n",
    "idcolumn='Seq'\n",
    "zspeccolumn='z_spec'\n",
    "cat=pd.read_csv(os.path.join(dirCat,fileNameCat))\n",
    "dirPath='Sources\\COSMOS_photoZ\\COSMOS_v3.0\\experimentsArticle\\FeatureSelection'"
   ]
  },
  {
   "cell_type": "code",
   "execution_count": 63,
   "metadata": {},
   "outputs": [],
   "source": [
    "fsetName='FS_Corr'\n",
    "fset=['IB574ap3', 'Vmagap3', 'IA527ap3', 'IA624ap3', 'IB505ap3', \n",
    "      'rmagap3', 'IA484ap3', 'IA679ap3', 'r-ip', 'IB464ap3']\n",
    "makeConfig(dirCat,fileNameCat,idcolumn='Seq',zspeccolumn=zspeccolumn,\n",
    "           features=fset,expNum=expNum,dirConfigs=dirConfigs,\n",
    "               configName=fileNameCat.replace('.csv','')+'_'+fsetName,dirPath=dirPath)\n",
    "expNum+=1 "
   ]
  },
  {
   "cell_type": "code",
   "execution_count": 64,
   "metadata": {},
   "outputs": [
    {
     "name": "stdout",
     "output_type": "stream",
     "text": [
      "D:\\Sources\\COSMOS_photoZ\\COSMOS_v3.0\\configsArticle\\FeatureSelection\\exp029_05_COSMOS_SpectrZ_Zlim_1p2_AllBands_colors_FS_Corr.ini\n",
      "Ready\n"
     ]
    }
   ],
   "source": [
    "os.chdir('D:\\\\')\n",
    "\n",
    "configs=os.listdir(dirConfigs)\n",
    "confIds=['exp029']\n",
    "for confID in confIds:\n",
    "    conf=os.path.join(dirConfigs,next(f for f in os.listdir(dirConfigs) if f.startswith(confID)))\n",
    "    print(conf)\n",
    "    os.system('metaphor_pipeline '+conf)\n",
    "    print('Ready')"
   ]
  },
  {
   "cell_type": "code",
   "execution_count": 66,
   "metadata": {},
   "outputs": [],
   "source": [
    "### For the features chosen with RFE\n",
    "fsetName='FS_RFE'\n",
    "fset=['Vmagap3', 'IA527ap3', 'IA624ap3', 'IA738ap3', 'IB574ap3', 'u-B', 'B-V',\n",
    "       'r-ip', 'ip-zpp', 'H-Ks']\n",
    "makeConfig(dirCat,fileNameCat,idcolumn='Seq',zspeccolumn=zspeccolumn,\n",
    "           features=fset,expNum=expNum,dirConfigs=dirConfigs,\n",
    "               configName=fileNameCat.replace('.csv','')+'_'+fsetName,dirPath=dirPath)\n",
    "expNum+=1 "
   ]
  },
  {
   "cell_type": "code",
   "execution_count": 67,
   "metadata": {},
   "outputs": [
    {
     "name": "stdout",
     "output_type": "stream",
     "text": [
      "D:\\Sources\\COSMOS_photoZ\\COSMOS_v3.0\\configsArticle\\FeatureSelection\\exp030_05_COSMOS_SpectrZ_Zlim_1p2_AllBands_colors_FS_RFE.ini\n",
      "Ready\n"
     ]
    }
   ],
   "source": [
    "configs=os.listdir(dirConfigs)\n",
    "confIds=['exp030']\n",
    "for confID in confIds:\n",
    "    conf=os.path.join(dirConfigs,next(f for f in os.listdir(dirConfigs) if f.startswith(confID)))\n",
    "    print(conf)\n",
    "    os.system('metaphor_pipeline '+conf)\n",
    "    print('Ready')"
   ]
  },
  {
   "cell_type": "code",
   "execution_count": 74,
   "metadata": {},
   "outputs": [],
   "source": [
    "### Systematic narrow bands with J band\n",
    "dirCat=r'D:\\Sources\\COSMOS_photoZ\\COSMOS_v3.0\\catalogs\\forPaper\\v05'\n",
    "dirConfigs=r'D:\\Sources\\COSMOS_photoZ\\COSMOS_v3.0\\configsArticle\\Narrows'\n",
    "fileConfigExample=r'exXX_phz_z_ConfigExample.ini'\n",
    "fileNameCat=r'05_COSMOS_SpectrZ_Zlim_1p2_AllBands_colors.csv'\n",
    "idcolumn='Seq'\n",
    "zspeccolumn='z_spec'\n",
    "cat=pd.read_csv(os.path.join(dirCat,fileNameCat))\n",
    "dirPath=r'Sources\\COSMOS_photoZ\\COSMOS_v3.0\\experimentsArticle\\Narrows'\n",
    "expNum=31"
   ]
  },
  {
   "cell_type": "code",
   "execution_count": 75,
   "metadata": {},
   "outputs": [],
   "source": [
    "bandBasic=bands['Vis']+bands['UV']+['Jmagap3']\n",
    "narrows=[c for c in cat.columns if ('ap3' in c and 'mag' not in c)]\n",
    "for band in narrows:\n",
    "    fsetName='Vis_UV_J_'+band.replace('ap3','')\n",
    "    fset=bandBasic+[band]\n",
    "    makeConfig(dirCat,fileNameCat,idcolumn='Seq',zspeccolumn=zspeccolumn,\n",
    "               features=fset,expNum=expNum,dirConfigs=dirConfigs,\n",
    "                   configName=fileNameCat.replace('.csv','')+'_'+fsetName)\n",
    "    expNum+=1 "
   ]
  },
  {
   "cell_type": "code",
   "execution_count": 77,
   "metadata": {},
   "outputs": [
    {
     "name": "stdout",
     "output_type": "stream",
     "text": [
      "['exp031', 'exp032', 'exp033', 'exp034', 'exp035', 'exp036', 'exp037', 'exp038', 'exp039', 'exp040', 'exp041', 'exp042', 'exp043', 'exp044']\n"
     ]
    }
   ],
   "source": [
    "confIds=['exp'+str(e).zfill(3) for e in range(31,expNum)]\n",
    "print(confIds)"
   ]
  },
  {
   "cell_type": "code",
   "execution_count": 78,
   "metadata": {},
   "outputs": [
    {
     "name": "stdout",
     "output_type": "stream",
     "text": [
      "D:\\Sources\\COSMOS_photoZ\\COSMOS_v3.0\\configsArticle\\Narrows\\exp031_05_COSMOS_SpectrZ_Zlim_1p2_AllBands_colors_Vis_UV_J_IA484.ini\n",
      "Ready\n",
      "D:\\Sources\\COSMOS_photoZ\\COSMOS_v3.0\\configsArticle\\Narrows\\exp032_05_COSMOS_SpectrZ_Zlim_1p2_AllBands_colors_Vis_UV_J_IA527.ini\n",
      "Ready\n",
      "D:\\Sources\\COSMOS_photoZ\\COSMOS_v3.0\\configsArticle\\Narrows\\exp033_05_COSMOS_SpectrZ_Zlim_1p2_AllBands_colors_Vis_UV_J_IA624.ini\n",
      "Ready\n",
      "D:\\Sources\\COSMOS_photoZ\\COSMOS_v3.0\\configsArticle\\Narrows\\exp034_05_COSMOS_SpectrZ_Zlim_1p2_AllBands_colors_Vis_UV_J_IA679.ini\n",
      "Ready\n",
      "D:\\Sources\\COSMOS_photoZ\\COSMOS_v3.0\\configsArticle\\Narrows\\exp035_05_COSMOS_SpectrZ_Zlim_1p2_AllBands_colors_Vis_UV_J_IA738.ini\n",
      "Ready\n",
      "D:\\Sources\\COSMOS_photoZ\\COSMOS_v3.0\\configsArticle\\Narrows\\exp036_05_COSMOS_SpectrZ_Zlim_1p2_AllBands_colors_Vis_UV_J_IA767.ini\n",
      "Ready\n",
      "D:\\Sources\\COSMOS_photoZ\\COSMOS_v3.0\\configsArticle\\Narrows\\exp037_05_COSMOS_SpectrZ_Zlim_1p2_AllBands_colors_Vis_UV_J_IB427.ini\n",
      "Ready\n",
      "D:\\Sources\\COSMOS_photoZ\\COSMOS_v3.0\\configsArticle\\Narrows\\exp038_05_COSMOS_SpectrZ_Zlim_1p2_AllBands_colors_Vis_UV_J_IB464.ini\n",
      "Ready\n",
      "D:\\Sources\\COSMOS_photoZ\\COSMOS_v3.0\\configsArticle\\Narrows\\exp039_05_COSMOS_SpectrZ_Zlim_1p2_AllBands_colors_Vis_UV_J_IB505.ini\n",
      "Ready\n",
      "D:\\Sources\\COSMOS_photoZ\\COSMOS_v3.0\\configsArticle\\Narrows\\exp040_05_COSMOS_SpectrZ_Zlim_1p2_AllBands_colors_Vis_UV_J_IB574.ini\n",
      "Ready\n",
      "D:\\Sources\\COSMOS_photoZ\\COSMOS_v3.0\\configsArticle\\Narrows\\exp041_05_COSMOS_SpectrZ_Zlim_1p2_AllBands_colors_Vis_UV_J_IB709.ini\n",
      "Ready\n",
      "D:\\Sources\\COSMOS_photoZ\\COSMOS_v3.0\\configsArticle\\Narrows\\exp042_05_COSMOS_SpectrZ_Zlim_1p2_AllBands_colors_Vis_UV_J_IB827.ini\n",
      "Ready\n",
      "D:\\Sources\\COSMOS_photoZ\\COSMOS_v3.0\\configsArticle\\Narrows\\exp043_05_COSMOS_SpectrZ_Zlim_1p2_AllBands_colors_Vis_UV_J_NB711.ini\n",
      "Ready\n",
      "D:\\Sources\\COSMOS_photoZ\\COSMOS_v3.0\\configsArticle\\Narrows\\exp044_05_COSMOS_SpectrZ_Zlim_1p2_AllBands_colors_Vis_UV_J_NB816.ini\n",
      "Ready\n"
     ]
    }
   ],
   "source": [
    "os.chdir('D:\\\\')\n",
    "\n",
    "for confID in confIds:\n",
    "    conf=os.path.join(dirConfigs,next(f for f in os.listdir(dirConfigs) if f.startswith(confID)))\n",
    "    print(conf)\n",
    "    os.system('metaphor_pipeline '+conf)\n",
    "    print('Ready')"
   ]
  },
  {
   "cell_type": "markdown",
   "metadata": {},
   "source": [
    "### PhiLAB features"
   ]
  },
  {
   "cell_type": "code",
   "execution_count": 81,
   "metadata": {},
   "outputs": [
    {
     "data": {
      "text/plain": [
       "45"
      ]
     },
     "execution_count": 81,
     "metadata": {},
     "output_type": "execute_result"
    }
   ],
   "source": [
    "expNum"
   ]
  },
  {
   "cell_type": "code",
   "execution_count": 88,
   "metadata": {},
   "outputs": [],
   "source": [
    "dirCat=r'D:\\Sources\\COSMOS_photoZ\\COSMOS_v3.0\\catalogs\\forPaper\\v05'\n",
    "dirConfigs=r'D:\\Sources\\COSMOS_photoZ\\COSMOS_v3.0\\configsArticle\\PhiLab'\n",
    "fileConfigExample=r'exXX_phz_z_ConfigExample.ini'\n",
    "fileNameCat=r'05_COSMOS_SpectrZ_Zlim_1p2_AllBands_colors_LAB.csv'\n",
    "idcolumn='Seq'\n",
    "zspeccolumn='z_spec'\n",
    "cat=pd.read_csv(os.path.join(dirCat,fileNameCat))\n",
    "dirPath=r'Sources\\COSMOS_photoZ\\COSMOS_v3.0\\experimentsArticle\\PhiLAB'\n",
    "expNum=45"
   ]
  },
  {
   "cell_type": "code",
   "execution_count": 89,
   "metadata": {},
   "outputs": [],
   "source": [
    "bandsLab=[c for c in cat.columns if c.startswith('lab_')]"
   ]
  },
  {
   "cell_type": "code",
   "execution_count": 90,
   "metadata": {},
   "outputs": [
    {
     "data": {
      "text/plain": [
       "['lab_u/B',\n",
       " 'lab_r-ip',\n",
       " 'lab_B/V',\n",
       " 'lab_u-B',\n",
       " 'lab_IA527/IA624',\n",
       " 'lab_H-Ks',\n",
       " 'lab_IA679-IA738',\n",
       " 'lab_V-r',\n",
       " 'lab_IB464/IB505',\n",
       " 'lab_V/r']"
      ]
     },
     "execution_count": 90,
     "metadata": {},
     "output_type": "execute_result"
    }
   ],
   "source": [
    "bandsLab"
   ]
  },
  {
   "cell_type": "code",
   "execution_count": 91,
   "metadata": {},
   "outputs": [],
   "source": [
    "fsetName='PhiLab'\n",
    "fset=bandsLab\n",
    "makeConfig(dirCat,fileNameCat,idcolumn='Seq',zspeccolumn=zspeccolumn,\n",
    "           features=fset,expNum=expNum,dirConfigs=dirConfigs,\n",
    "               configName=fileNameCat.replace('.csv','')+'_'+fsetName,\n",
    "           dirPath='Sources\\COSMOS_photoZ\\COSMOS_v3.0\\experimentsArticle\\PhiLab')\n",
    "expNum+=1 "
   ]
  },
  {
   "cell_type": "code",
   "execution_count": 94,
   "metadata": {},
   "outputs": [],
   "source": [
    "conf=os.path.join(dirConfigs,next(f for f in os.listdir(dirConfigs) if f.startswith('exp0')))"
   ]
  },
  {
   "cell_type": "code",
   "execution_count": 95,
   "metadata": {},
   "outputs": [
    {
     "name": "stdout",
     "output_type": "stream",
     "text": [
      "D:\\Sources\\COSMOS_photoZ\\COSMOS_v3.0\\configsArticle\\PhiLab\\exp045_05_COSMOS_SpectrZ_Zlim_1p2_AllBands_colors_LAB_PhiLab.ini\n",
      "Ready\n"
     ]
    }
   ],
   "source": [
    "print(conf)\n",
    "os.system('metaphor_pipeline '+conf)\n",
    "print('Ready')"
   ]
  },
  {
   "cell_type": "code",
   "execution_count": null,
   "metadata": {},
   "outputs": [],
   "source": []
  }
 ],
 "metadata": {
  "kernelspec": {
   "display_name": "Python 3",
   "language": "python",
   "name": "python3"
  },
  "language_info": {
   "codemirror_mode": {
    "name": "ipython",
    "version": 3
   },
   "file_extension": ".py",
   "mimetype": "text/x-python",
   "name": "python",
   "nbconvert_exporter": "python",
   "pygments_lexer": "ipython3",
   "version": "3.6.7"
  }
 },
 "nbformat": 4,
 "nbformat_minor": 2
}
