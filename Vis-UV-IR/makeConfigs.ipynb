{
 "cells": [
  {
   "cell_type": "code",
   "execution_count": 1,
   "metadata": {},
   "outputs": [],
   "source": [
    "import os\n",
    "import pandas as pd \n",
    "import shutil\n",
    "import configparser"
   ]
  },
  {
   "cell_type": "code",
   "execution_count": 2,
   "metadata": {},
   "outputs": [],
   "source": [
    "def getBandsIndexes(cat,bands):\n",
    "    return [list(cat.columns).index(c)+1 for c in bands]"
   ]
  },
  {
   "cell_type": "code",
   "execution_count": 3,
   "metadata": {},
   "outputs": [],
   "source": [
    "def makeConfig(dirCat:str,fileNameCat:str,idcolumn:str,zspeccolumn:str,\n",
    "               features:list,expNum:int,dirConfigs:str,configName:str):\n",
    "    \n",
    "    cat=pd.read_csv(os.path.join(dirCat,fileNameCat))\n",
    "    headers=list(cat)\n",
    "    idcolumnidx=str(int(headers.index('Seq')+1))\n",
    "    zspeccolumnidx=str(int(headers.index(zspeccolumn)+1))\n",
    "    featuresIdx=getBandsIndexes(cat,features)\n",
    "    featuresIdxStr=','.join(str(x) for x in featuresIdx)\n",
    "    nNeuronsLayer1=str(int(2*len(featuresIdx)+1))\n",
    "    nNeuronsLayer2=str(int(len(featuresIdx)-1))\n",
    "\n",
    "    newIni='exp'+str(expNum).zfill(3)+'_'+configName+'.ini'\n",
    "    shutil.copyfile(os.path.join(dirConfigs,fileConfigExample),os.path.join(dirConfigs,newIni))\n",
    "    parser=configparser.RawConfigParser()\n",
    "    parser.read(os.path.join(dirConfigs,newIni))\n",
    "    parser.set('Train Input Info','photoColumnIdxList',featuresIdxStr)\n",
    "    parser.set('Train Input Info','dirPath',dirCat)\n",
    "    parser.set('Train Input Info','idcolumnidx',idcolumnidx)\n",
    "    parser.set('Train Input Info','zspeccolumnidx',zspeccolumnidx)\n",
    "    parser.set('Train Input Info','name',fileNameCat)\n",
    "    parser.set('Test Input Info','photoColumnIdxList',featuresIdxStr)\n",
    "    parser.set('Test Input Info','name',fileNameCat)\n",
    "    parser.set('Test Input Info','dirPath',dirCat)\n",
    "    parser.set('Test Input Info','idcolumnidx',idcolumnidx)\n",
    "    parser.set('Test Input Info','zspeccolumnidx',zspeccolumnidx)\n",
    "    parser.set('Output Info','dirpath',\n",
    "               'Sources\\COSMOS_photoZ\\COSMOS_v3.0\\experimentsArticle\\Vis_UV_IR\\exp'+str(expNum).zfill(3))\n",
    "    parser.set('Output Info','modelSubDirName','ex'+str(expNum).zfill(3))\n",
    "    parser.set('Learning Info','nHiddenNeurons',nNeuronsLayer1+','+nNeuronsLayer2)\n",
    "    parser.set('Train Output Info','nameSuffix','_'+fileNameCat)\n",
    "    parser.set('Test Output Info','nameSuffix','_'+fileNameCat)\n",
    "    parser.set('Log Info','nameSuffix','_'+fileNameCat)\n",
    "    parser.set('Restart Info','nameSuffix','_'+fileNameCat)\n",
    "\n",
    "    with open(os.path.join(dirConfigs,newIni), 'w') as configfile:\n",
    "        parser.write(configfile)\n",
    "    return"
   ]
  },
  {
   "cell_type": "code",
   "execution_count": 4,
   "metadata": {},
   "outputs": [],
   "source": [
    "dirCat=r'D:\\Sources\\COSMOS_photoZ\\COSMOS_v3.0\\catalogs\\forPaper\\v05'\n",
    "dirConfigs=r'D:\\Sources\\COSMOS_photoZ\\COSMOS_v3.0\\configsArticle\\Vis_UV_IR'\n",
    "fileConfigExample=r'exXX_phz_z_ConfigExample.ini'\n",
    "expNum=1\n",
    "fileNameCat=r'05_COSMOS_SpectrZ_Zlim_1p2_AllBands_colors.csv'\n",
    "idcolumn='Seq'\n",
    "zspeccolumn='z_spec'\n",
    "cat=pd.read_csv(os.path.join(dirCat,fileNameCat))"
   ]
  },
  {
   "cell_type": "code",
   "execution_count": 5,
   "metadata": {},
   "outputs": [],
   "source": [
    "bands={'Vis':['B','V','r','ip','zpp'],\n",
    "      'UV':['u'],\n",
    "      'IR':['Y','J','H','Ks']}"
   ]
  },
  {
   "cell_type": "code",
   "execution_count": 6,
   "metadata": {},
   "outputs": [],
   "source": [
    "for key,val in bands.items():\n",
    "    blist=[b+'magap3' for b in val]\n",
    "    bands[key]=blist"
   ]
  },
  {
   "cell_type": "code",
   "execution_count": 24,
   "metadata": {},
   "outputs": [],
   "source": [
    "for key,val in bands.items():\n",
    "    fset=val\n",
    "    fsetName=key\n",
    "    makeConfig(dirCat,fileNameCat,idcolumn='Seq',zspeccolumn=zspeccolumn,\n",
    "               features=fset,expNum=expNum,dirConfigs=dirConfigs,\n",
    "                   configName=fileNameCat.replace('.csv','')+'_'+fsetName)\n",
    "    expNum+=1 \n",
    "\n",
    "\n",
    "fsetName='Vis_UV'\n",
    "fset=bands['Vis']+bands['UV']\n",
    "makeConfig(dirCat,fileNameCat,idcolumn='Seq',zspeccolumn=zspeccolumn,\n",
    "           features=fset,expNum=expNum,dirConfigs=dirConfigs,\n",
    "               configName=fileNameCat.replace('.csv','')+'_'+fsetName)\n",
    "expNum+=1 \n",
    "\n",
    "fsetName='Vis_IR'\n",
    "fset=bands['Vis']+bands['IR']\n",
    "makeConfig(dirCat,fileNameCat,idcolumn='Seq',zspeccolumn=zspeccolumn,\n",
    "           features=fset,expNum=expNum,dirConfigs=dirConfigs,\n",
    "               configName=fileNameCat.replace('.csv','')+'_'+fsetName)\n",
    "expNum+=1 \n",
    "\n",
    "fsetName='Vis_UV_IR'\n",
    "fset=bands['Vis']+bands['UV']+bands['IR']\n",
    "makeConfig(dirCat,fileNameCat,idcolumn='Seq',zspeccolumn=zspeccolumn,\n",
    "           features=fset,expNum=expNum,dirConfigs=dirConfigs,\n",
    "               configName=fileNameCat.replace('.csv','')+'_'+fsetName)\n",
    "expNum+=1 "
   ]
  },
  {
   "cell_type": "code",
   "execution_count": 28,
   "metadata": {},
   "outputs": [
    {
     "name": "stdout",
     "output_type": "stream",
     "text": [
      "D:\\Sources\\COSMOS_photoZ\\COSMOS_v3.0\\configsArticle\\Vis_UV_IR\\exp001_05_COSMOS_SpectrZ_Zlim_1p2_AllBands_colors_Vis.ini\n",
      "Ready\n",
      "D:\\Sources\\COSMOS_photoZ\\COSMOS_v3.0\\configsArticle\\Vis_UV_IR\\exp002_05_COSMOS_SpectrZ_Zlim_1p2_AllBands_colors_UV.ini\n",
      "Ready\n",
      "D:\\Sources\\COSMOS_photoZ\\COSMOS_v3.0\\configsArticle\\Vis_UV_IR\\exp003_05_COSMOS_SpectrZ_Zlim_1p2_AllBands_colors_IR.ini\n",
      "Ready\n",
      "D:\\Sources\\COSMOS_photoZ\\COSMOS_v3.0\\configsArticle\\Vis_UV_IR\\exp004_05_COSMOS_SpectrZ_Zlim_1p2_AllBands_colors_Vis_UV.ini\n",
      "Ready\n",
      "D:\\Sources\\COSMOS_photoZ\\COSMOS_v3.0\\configsArticle\\Vis_UV_IR\\exp005_05_COSMOS_SpectrZ_Zlim_1p2_AllBands_colors_Vis_IR.ini\n",
      "Ready\n",
      "D:\\Sources\\COSMOS_photoZ\\COSMOS_v3.0\\configsArticle\\Vis_UV_IR\\exp006_05_COSMOS_SpectrZ_Zlim_1p2_AllBands_colors_Vis_UV_IR.ini\n",
      "Ready\n"
     ]
    }
   ],
   "source": [
    "os.chdir('D:\\\\')\n",
    "\n",
    "# 19.01.2021. Vis-UV-IR experiments\n",
    "configs=os.listdir(dirConfigs)\n",
    "configs=[conf for conf in configs if conf.startswith('exp0')]\n",
    "for conf in configs:\n",
    "    conf=os.path.join(dirConfigs,conf)\n",
    "    print(conf)\n",
    "    os.system('metaphor_pipeline '+conf)\n",
    "    print('Ready')"
   ]
  },
  {
   "cell_type": "code",
   "execution_count": 8,
   "metadata": {},
   "outputs": [],
   "source": [
    "### Identifying most important IR band\n",
    "expNum=7"
   ]
  },
  {
   "cell_type": "code",
   "execution_count": 9,
   "metadata": {},
   "outputs": [],
   "source": [
    "for band in bands['IR']:\n",
    "    fsetName='Vis_UV_'+band\n",
    "    fset=bands['Vis']+bands['UV']+[band]\n",
    "    makeConfig(dirCat,fileNameCat,idcolumn='Seq',zspeccolumn=zspeccolumn,\n",
    "               features=fset,expNum=expNum,dirConfigs=dirConfigs,\n",
    "                   configName=fileNameCat.replace('.csv','')+'_'+fsetName)\n",
    "    expNum+=1 "
   ]
  },
  {
   "cell_type": "code",
   "execution_count": 10,
   "metadata": {},
   "outputs": [
    {
     "name": "stdout",
     "output_type": "stream",
     "text": [
      "D:\\Sources\\COSMOS_photoZ\\COSMOS_v3.0\\configsArticle\\Vis_UV_IR\\exp007_05_COSMOS_SpectrZ_Zlim_1p2_AllBands_colors_Vis_UV_Ymagap3.ini\n",
      "Ready\n",
      "D:\\Sources\\COSMOS_photoZ\\COSMOS_v3.0\\configsArticle\\Vis_UV_IR\\exp008_05_COSMOS_SpectrZ_Zlim_1p2_AllBands_colors_Vis_UV_Jmagap3.ini\n",
      "Ready\n",
      "D:\\Sources\\COSMOS_photoZ\\COSMOS_v3.0\\configsArticle\\Vis_UV_IR\\exp009_05_COSMOS_SpectrZ_Zlim_1p2_AllBands_colors_Vis_UV_Hmagap3.ini\n",
      "Ready\n",
      "D:\\Sources\\COSMOS_photoZ\\COSMOS_v3.0\\configsArticle\\Vis_UV_IR\\exp010_05_COSMOS_SpectrZ_Zlim_1p2_AllBands_colors_Vis_UV_Ksmagap3.ini\n",
      "Ready\n"
     ]
    }
   ],
   "source": [
    "os.chdir('D:\\\\')\n",
    "\n",
    "configs=os.listdir(dirConfigs)\n",
    "confIds=['exp007','exp008','exp009','exp010']\n",
    "for confID in confIds:\n",
    "    conf=os.path.join(dirConfigs,next(f for f in os.listdir(dirConfigs) if f.startswith(confID)))\n",
    "    print(conf)\n",
    "    os.system('metaphor_pipeline '+conf)\n",
    "    print('Ready')"
   ]
  },
  {
   "cell_type": "code",
   "execution_count": 11,
   "metadata": {},
   "outputs": [],
   "source": [
    "### With narrow bands"
   ]
  },
  {
   "cell_type": "code",
   "execution_count": 12,
   "metadata": {},
   "outputs": [],
   "source": [
    "narrows=['IB574ap3','IA527ap3','IA624ap3','NB816ap3']\n",
    "bandBasic=bands['Vis']+bands['UV']+['Hmagap3']"
   ]
  },
  {
   "cell_type": "code",
   "execution_count": 13,
   "metadata": {},
   "outputs": [
    {
     "data": {
      "text/plain": [
       "11"
      ]
     },
     "execution_count": 13,
     "metadata": {},
     "output_type": "execute_result"
    }
   ],
   "source": [
    "expNum"
   ]
  },
  {
   "cell_type": "code",
   "execution_count": 14,
   "metadata": {},
   "outputs": [],
   "source": [
    "for band in narrows:\n",
    "    fsetName='Vis_UV_'+band\n",
    "    fset=bands['Vis']+bands['UV']+[band]\n",
    "    makeConfig(dirCat,fileNameCat,idcolumn='Seq',zspeccolumn=zspeccolumn,\n",
    "               features=fset,expNum=expNum,dirConfigs=dirConfigs,\n",
    "                   configName=fileNameCat.replace('.csv','')+'_'+fsetName)\n",
    "    expNum+=1 "
   ]
  },
  {
   "cell_type": "code",
   "execution_count": null,
   "metadata": {},
   "outputs": [
    {
     "name": "stdout",
     "output_type": "stream",
     "text": [
      "D:\\Sources\\COSMOS_photoZ\\COSMOS_v3.0\\configsArticle\\Vis_UV_IR\\exp011_05_COSMOS_SpectrZ_Zlim_1p2_AllBands_colors_Vis_UV_IB574ap3.ini\n"
     ]
    }
   ],
   "source": [
    "os.chdir('D:\\\\')\n",
    "\n",
    "configs=os.listdir(dirConfigs)\n",
    "confIds=['exp011','exp012','exp013','exp014']\n",
    "for confID in confIds:\n",
    "    conf=os.path.join(dirConfigs,next(f for f in os.listdir(dirConfigs) if f.startswith(confID)))\n",
    "    print(conf)\n",
    "    os.system('metaphor_pipeline '+conf)\n",
    "    print('Ready')"
   ]
  },
  {
   "cell_type": "code",
   "execution_count": null,
   "metadata": {},
   "outputs": [],
   "source": []
  }
 ],
 "metadata": {
  "kernelspec": {
   "display_name": "Python 3",
   "language": "python",
   "name": "python3"
  },
  "language_info": {
   "codemirror_mode": {
    "name": "ipython",
    "version": 3
   },
   "file_extension": ".py",
   "mimetype": "text/x-python",
   "name": "python",
   "nbconvert_exporter": "python",
   "pygments_lexer": "ipython3",
   "version": "3.6.7"
  }
 },
 "nbformat": 4,
 "nbformat_minor": 2
}
