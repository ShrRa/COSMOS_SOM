{
 "cells": [
  {
   "cell_type": "code",
   "execution_count": 11,
   "metadata": {},
   "outputs": [],
   "source": [
    "import pandas as pd\n",
    "import os\n",
    "import matplotlib.pyplot as plt\n",
    "import func_stat"
   ]
  },
  {
   "cell_type": "code",
   "execution_count": 13,
   "metadata": {},
   "outputs": [],
   "source": [
    "dirCat=r'D:\\Sources\\COSMOS_photoZ\\COSMOS_v3.0\\catalogs\\forPaper\\v05'\n",
    "dirConfigs=r'D:\\Sources\\COSMOS_photoZ\\COSMOS_v3.0\\configsArticle\\Vis_UV_IR'\n",
    "dirExp=r'D:\\Sources\\COSMOS_photoZ\\COSMOS_v3.0\\experimentsArticle\\Vis_UV_IR'\n",
    "expNum=1\n",
    "fileNameCat=r'05_COSMOS_SpectrZ_Zlim_1p2_AllBands_colors.csv'\n",
    "idcolumn='Seq'\n",
    "zspeccolumn='z_spec'\n",
    "cat=pd.read_csv(os.path.join(dirCat,fileNameCat))"
   ]
  },
  {
   "cell_type": "code",
   "execution_count": null,
   "metadata": {},
   "outputs": [],
   "source": [
    "for dExp in os.listdir(dirExp):\n",
    "    os.path.join(dirExp,dExp)"
   ]
  }
 ],
 "metadata": {
  "kernelspec": {
   "display_name": "Python 3",
   "language": "python",
   "name": "python3"
  },
  "language_info": {
   "codemirror_mode": {
    "name": "ipython",
    "version": 3
   },
   "file_extension": ".py",
   "mimetype": "text/x-python",
   "name": "python",
   "nbconvert_exporter": "python",
   "pygments_lexer": "ipython3",
   "version": "3.6.7"
  }
 },
 "nbformat": 4,
 "nbformat_minor": 2
}
