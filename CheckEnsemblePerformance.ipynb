{
 "cells": [
  {
   "cell_type": "code",
   "execution_count": 27,
   "metadata": {},
   "outputs": [],
   "source": [
    "import matplotlib.cm as cm\n",
    "import matplotlib.pyplot as plt\n",
    "import numpy as np\n",
    "import pandas as pd\n",
    "from func_maps import readMaps\n",
    "from func_stat import *\n",
    "from func_visualizations import *\n",
    "from func_dataset_preprocessing import residCol\n",
    "from os.path import join\n",
    "from ast import literal_eval"
   ]
  },
  {
   "cell_type": "code",
   "execution_count": 32,
   "metadata": {},
   "outputs": [],
   "source": [
    "dirSOM=r'D:\\Sources\\COSMOS_photoZ\\COSMOS_v3.0\\SOM\\forArticle'\n",
    "nameOfExperiment='ex018'\n",
    "dirMaps=join(dirSOM,nameOfExperiment,'maps')\n",
    "dirPlots=join(dirSOM,nameOfExperiment,'plots')\n",
    "dirDatasets=join(dirSOM,nameOfExperiment,'datasets')\n",
    "dirMLPQNAExps=join('D:\\Sources\\COSMOS_photoZ\\COSMOS_v3.0\\experimentsArticle')\n",
    "fileWithSOMTrain='05_COSMOS_SpectrZ_Zlim_1p2_SOMinfo.csv'\n",
    "fileWithSOMTest='05_COSMOS_SpectrZ_Zlim_1p2_Test_SOMinfo.csv'"
   ]
  },
  {
   "cell_type": "code",
   "execution_count": 33,
   "metadata": {},
   "outputs": [],
   "source": [
    "SOMInfoTrain=pd.read_csv(join(dirDatasets,fileWithSOMTrain))\n",
    "SOMInfoTest=pd.read_csv(join(dirDatasets,fileWithSOMTest))"
   ]
  },
  {
   "cell_type": "code",
   "execution_count": 34,
   "metadata": {},
   "outputs": [],
   "source": [
    "SOMInfo=SOMInfoTrain.append(SOMInfoTest)"
   ]
  },
  {
   "cell_type": "code",
   "execution_count": 3,
   "metadata": {},
   "outputs": [],
   "source": [
    "idCol='Seq'\n",
    "specZ='specZ'\n",
    "photoZ_ML='photoZ_ML'\n",
    "photoZ_SED='photoZ_SED'\n",
    "residML='resid_ML'\n",
    "residSED='resid_SED'\n",
    "residML_SED='residML_SED'\n",
    "quantErr='quantErr'"
   ]
  },
  {
   "cell_type": "code",
   "execution_count": 4,
   "metadata": {},
   "outputs": [],
   "source": [
    "expResults=[]\n",
    "for i in range(11,20):\n",
    "    train=pd.read_csv(join(dirMLPQNAExps,'exp0'+str(i),'METAPHOR_trainout_05_COSMOS_SpectrZ_Zlim_1p2_AllBands_colors.csv'))\n",
    "    test=pd.read_csv(join(dirMLPQNAExps,'exp0'+str(i),'METAPHOR_testout_05_COSMOS_SpectrZ_Zlim_1p2_AllBands_colors.csv'))\n",
    "    full=train.append(test,ignore_index=True)\n",
    "    expResults.append(full)"
   ]
  },
  {
   "cell_type": "code",
   "execution_count": 8,
   "metadata": {},
   "outputs": [],
   "source": [
    "ensemble=expResults[0]\n",
    "for data in expResults[1:]:\n",
    "    ensemble=ensemble.merge(data,on='Seq')"
   ]
  },
  {
   "cell_type": "code",
   "execution_count": 10,
   "metadata": {},
   "outputs": [],
   "source": [
    "ensemble=ensemble.drop([c for c in ensemble.columns if 'z_spec' in c],axis=1)"
   ]
  },
  {
   "cell_type": "code",
   "execution_count": 13,
   "metadata": {},
   "outputs": [
    {
     "name": "stderr",
     "output_type": "stream",
     "text": [
      "C:\\Anaconda3\\envs\\py36\\lib\\site-packages\\ipykernel_launcher.py:1: SettingWithCopyWarning: \n",
      "A value is trying to be set on a copy of a slice from a DataFrame.\n",
      "Try using .loc[row_indexer,col_indexer] = value instead\n",
      "\n",
      "See the caveats in the documentation: http://pandas.pydata.org/pandas-docs/stable/user_guide/indexing.html#returning-a-view-versus-a-copy\n",
      "  \"\"\"Entry point for launching an IPython kernel.\n",
      "C:\\Anaconda3\\envs\\py36\\lib\\site-packages\\ipykernel_launcher.py:2: SettingWithCopyWarning: \n",
      "A value is trying to be set on a copy of a slice from a DataFrame.\n",
      "Try using .loc[row_indexer,col_indexer] = value instead\n",
      "\n",
      "See the caveats in the documentation: http://pandas.pydata.org/pandas-docs/stable/user_guide/indexing.html#returning-a-view-versus-a-copy\n",
      "  \n",
      "C:\\Anaconda3\\envs\\py36\\lib\\site-packages\\ipykernel_launcher.py:3: SettingWithCopyWarning: \n",
      "A value is trying to be set on a copy of a slice from a DataFrame.\n",
      "Try using .loc[row_indexer,col_indexer] = value instead\n",
      "\n",
      "See the caveats in the documentation: http://pandas.pydata.org/pandas-docs/stable/user_guide/indexing.html#returning-a-view-versus-a-copy\n",
      "  This is separate from the ipykernel package so we can avoid doing imports until\n"
     ]
    }
   ],
   "source": [
    "ensemble['Std']=ensemble[[c for c in ensemble.columns if 'zphoto' in c]].std(axis=1)\n",
    "ensemble['Mean']=ensemble[[c for c in ensemble.columns if 'zphoto' in c]].mean(axis=1)\n",
    "ensemble['Median']=ensemble[[c for c in ensemble.columns if 'zphoto' in c]].median(axis=1)"
   ]
  },
  {
   "cell_type": "code",
   "execution_count": 14,
   "metadata": {},
   "outputs": [
    {
     "data": {
      "text/html": [
       "<div>\n",
       "<style scoped>\n",
       "    .dataframe tbody tr th:only-of-type {\n",
       "        vertical-align: middle;\n",
       "    }\n",
       "\n",
       "    .dataframe tbody tr th {\n",
       "        vertical-align: top;\n",
       "    }\n",
       "\n",
       "    .dataframe thead th {\n",
       "        text-align: right;\n",
       "    }\n",
       "</style>\n",
       "<table border=\"1\" class=\"dataframe\">\n",
       "  <thead>\n",
       "    <tr style=\"text-align: right;\">\n",
       "      <th></th>\n",
       "      <th>Seq</th>\n",
       "      <th>zphoto_x</th>\n",
       "      <th>zphoto_y</th>\n",
       "      <th>zphoto_x</th>\n",
       "      <th>zphoto_y</th>\n",
       "      <th>zphoto_x</th>\n",
       "      <th>zphoto_y</th>\n",
       "      <th>zphoto_x</th>\n",
       "      <th>zphoto_y</th>\n",
       "      <th>zphoto</th>\n",
       "      <th>Std</th>\n",
       "      <th>Mean</th>\n",
       "      <th>Median</th>\n",
       "    </tr>\n",
       "  </thead>\n",
       "  <tbody>\n",
       "    <tr>\n",
       "      <td>0</td>\n",
       "      <td>548386</td>\n",
       "      <td>0.918455</td>\n",
       "      <td>0.953232</td>\n",
       "      <td>0.905686</td>\n",
       "      <td>0.919194</td>\n",
       "      <td>0.941113</td>\n",
       "      <td>0.912289</td>\n",
       "      <td>0.917180</td>\n",
       "      <td>0.955621</td>\n",
       "      <td>0.914675</td>\n",
       "      <td>0.018179</td>\n",
       "      <td>0.927447</td>\n",
       "      <td>0.918455</td>\n",
       "    </tr>\n",
       "    <tr>\n",
       "      <td>1</td>\n",
       "      <td>844990</td>\n",
       "      <td>0.635707</td>\n",
       "      <td>0.641128</td>\n",
       "      <td>0.637595</td>\n",
       "      <td>0.628952</td>\n",
       "      <td>0.636333</td>\n",
       "      <td>0.634847</td>\n",
       "      <td>0.633229</td>\n",
       "      <td>0.644747</td>\n",
       "      <td>0.636215</td>\n",
       "      <td>0.004496</td>\n",
       "      <td>0.636557</td>\n",
       "      <td>0.636215</td>\n",
       "    </tr>\n",
       "    <tr>\n",
       "      <td>2</td>\n",
       "      <td>350923</td>\n",
       "      <td>0.132867</td>\n",
       "      <td>0.125487</td>\n",
       "      <td>0.143219</td>\n",
       "      <td>0.124855</td>\n",
       "      <td>0.111705</td>\n",
       "      <td>0.127726</td>\n",
       "      <td>0.115956</td>\n",
       "      <td>0.109522</td>\n",
       "      <td>0.107816</td>\n",
       "      <td>0.010915</td>\n",
       "      <td>0.123429</td>\n",
       "      <td>0.124855</td>\n",
       "    </tr>\n",
       "    <tr>\n",
       "      <td>3</td>\n",
       "      <td>586803</td>\n",
       "      <td>0.855469</td>\n",
       "      <td>0.873634</td>\n",
       "      <td>0.851444</td>\n",
       "      <td>0.846745</td>\n",
       "      <td>0.865738</td>\n",
       "      <td>0.826927</td>\n",
       "      <td>0.810020</td>\n",
       "      <td>0.830441</td>\n",
       "      <td>0.836532</td>\n",
       "      <td>0.019950</td>\n",
       "      <td>0.844794</td>\n",
       "      <td>0.846745</td>\n",
       "    </tr>\n",
       "    <tr>\n",
       "      <td>4</td>\n",
       "      <td>664674</td>\n",
       "      <td>0.366456</td>\n",
       "      <td>0.374800</td>\n",
       "      <td>0.367278</td>\n",
       "      <td>0.370636</td>\n",
       "      <td>0.362616</td>\n",
       "      <td>0.374248</td>\n",
       "      <td>0.365949</td>\n",
       "      <td>0.359133</td>\n",
       "      <td>0.373570</td>\n",
       "      <td>0.005177</td>\n",
       "      <td>0.367819</td>\n",
       "      <td>0.367278</td>\n",
       "    </tr>\n",
       "    <tr>\n",
       "      <td>...</td>\n",
       "      <td>...</td>\n",
       "      <td>...</td>\n",
       "      <td>...</td>\n",
       "      <td>...</td>\n",
       "      <td>...</td>\n",
       "      <td>...</td>\n",
       "      <td>...</td>\n",
       "      <td>...</td>\n",
       "      <td>...</td>\n",
       "      <td>...</td>\n",
       "      <td>...</td>\n",
       "      <td>...</td>\n",
       "      <td>...</td>\n",
       "    </tr>\n",
       "    <tr>\n",
       "      <td>19171</td>\n",
       "      <td>568485</td>\n",
       "      <td>0.393739</td>\n",
       "      <td>0.389603</td>\n",
       "      <td>0.382238</td>\n",
       "      <td>0.392988</td>\n",
       "      <td>0.395841</td>\n",
       "      <td>0.393241</td>\n",
       "      <td>0.374652</td>\n",
       "      <td>0.369536</td>\n",
       "      <td>0.384355</td>\n",
       "      <td>0.009248</td>\n",
       "      <td>0.386415</td>\n",
       "      <td>0.389603</td>\n",
       "    </tr>\n",
       "    <tr>\n",
       "      <td>19172</td>\n",
       "      <td>272891</td>\n",
       "      <td>0.304016</td>\n",
       "      <td>0.306956</td>\n",
       "      <td>0.300208</td>\n",
       "      <td>0.297360</td>\n",
       "      <td>0.301257</td>\n",
       "      <td>0.301170</td>\n",
       "      <td>0.296502</td>\n",
       "      <td>0.312602</td>\n",
       "      <td>0.297945</td>\n",
       "      <td>0.005003</td>\n",
       "      <td>0.302371</td>\n",
       "      <td>0.301170</td>\n",
       "    </tr>\n",
       "    <tr>\n",
       "      <td>19173</td>\n",
       "      <td>793282</td>\n",
       "      <td>0.450523</td>\n",
       "      <td>0.382896</td>\n",
       "      <td>0.408365</td>\n",
       "      <td>0.266450</td>\n",
       "      <td>0.360623</td>\n",
       "      <td>0.327630</td>\n",
       "      <td>0.308252</td>\n",
       "      <td>0.250744</td>\n",
       "      <td>0.450571</td>\n",
       "      <td>0.067329</td>\n",
       "      <td>0.347652</td>\n",
       "      <td>0.360623</td>\n",
       "    </tr>\n",
       "    <tr>\n",
       "      <td>19174</td>\n",
       "      <td>408387</td>\n",
       "      <td>0.365948</td>\n",
       "      <td>0.345239</td>\n",
       "      <td>0.360707</td>\n",
       "      <td>0.366216</td>\n",
       "      <td>0.360285</td>\n",
       "      <td>0.360932</td>\n",
       "      <td>0.362442</td>\n",
       "      <td>0.357421</td>\n",
       "      <td>0.360942</td>\n",
       "      <td>0.006186</td>\n",
       "      <td>0.359930</td>\n",
       "      <td>0.360932</td>\n",
       "    </tr>\n",
       "    <tr>\n",
       "      <td>19175</td>\n",
       "      <td>535106</td>\n",
       "      <td>0.667452</td>\n",
       "      <td>0.671934</td>\n",
       "      <td>0.665403</td>\n",
       "      <td>0.670085</td>\n",
       "      <td>0.663799</td>\n",
       "      <td>0.662100</td>\n",
       "      <td>0.680121</td>\n",
       "      <td>0.676222</td>\n",
       "      <td>0.670218</td>\n",
       "      <td>0.005835</td>\n",
       "      <td>0.669657</td>\n",
       "      <td>0.670085</td>\n",
       "    </tr>\n",
       "  </tbody>\n",
       "</table>\n",
       "<p>19176 rows × 13 columns</p>\n",
       "</div>"
      ],
      "text/plain": [
       "          Seq  zphoto_x  zphoto_y  zphoto_x  zphoto_y  zphoto_x  zphoto_y  \\\n",
       "0      548386  0.918455  0.953232  0.905686  0.919194  0.941113  0.912289   \n",
       "1      844990  0.635707  0.641128  0.637595  0.628952  0.636333  0.634847   \n",
       "2      350923  0.132867  0.125487  0.143219  0.124855  0.111705  0.127726   \n",
       "3      586803  0.855469  0.873634  0.851444  0.846745  0.865738  0.826927   \n",
       "4      664674  0.366456  0.374800  0.367278  0.370636  0.362616  0.374248   \n",
       "...       ...       ...       ...       ...       ...       ...       ...   \n",
       "19171  568485  0.393739  0.389603  0.382238  0.392988  0.395841  0.393241   \n",
       "19172  272891  0.304016  0.306956  0.300208  0.297360  0.301257  0.301170   \n",
       "19173  793282  0.450523  0.382896  0.408365  0.266450  0.360623  0.327630   \n",
       "19174  408387  0.365948  0.345239  0.360707  0.366216  0.360285  0.360932   \n",
       "19175  535106  0.667452  0.671934  0.665403  0.670085  0.663799  0.662100   \n",
       "\n",
       "       zphoto_x  zphoto_y    zphoto       Std      Mean    Median  \n",
       "0      0.917180  0.955621  0.914675  0.018179  0.927447  0.918455  \n",
       "1      0.633229  0.644747  0.636215  0.004496  0.636557  0.636215  \n",
       "2      0.115956  0.109522  0.107816  0.010915  0.123429  0.124855  \n",
       "3      0.810020  0.830441  0.836532  0.019950  0.844794  0.846745  \n",
       "4      0.365949  0.359133  0.373570  0.005177  0.367819  0.367278  \n",
       "...         ...       ...       ...       ...       ...       ...  \n",
       "19171  0.374652  0.369536  0.384355  0.009248  0.386415  0.389603  \n",
       "19172  0.296502  0.312602  0.297945  0.005003  0.302371  0.301170  \n",
       "19173  0.308252  0.250744  0.450571  0.067329  0.347652  0.360623  \n",
       "19174  0.362442  0.357421  0.360942  0.006186  0.359930  0.360932  \n",
       "19175  0.680121  0.676222  0.670218  0.005835  0.669657  0.670085  \n",
       "\n",
       "[19176 rows x 13 columns]"
      ]
     },
     "execution_count": 14,
     "metadata": {},
     "output_type": "execute_result"
    }
   ],
   "source": [
    "ensemble"
   ]
  },
  {
   "cell_type": "code",
   "execution_count": 17,
   "metadata": {},
   "outputs": [
    {
     "data": {
      "text/plain": [
       "<matplotlib.collections.PathCollection at 0x1f989d1cf28>"
      ]
     },
     "execution_count": 17,
     "metadata": {},
     "output_type": "execute_result"
    },
    {
     "data": {
      "image/png": "[encoded data removed]",
      "text/plain": [
       "<Figure size 432x288 with 1 Axes>"
      ]
     },
     "metadata": {
      "needs_background": "light"
     },
     "output_type": "display_data"
    }
   ],
   "source": [
    "plt.scatter(ensemble['zphoto'],ensemble['Median'],s=1)"
   ]
  },
  {
   "cell_type": "code",
   "execution_count": 36,
   "metadata": {},
   "outputs": [],
   "source": [
    "SOMInfoEns=SOMInfo.merge(ensemble,on='Seq')"
   ]
  },
  {
   "cell_type": "code",
   "execution_count": 37,
   "metadata": {},
   "outputs": [
    {
     "data": {
      "text/plain": [
       "Index(['RAJ2000', 'DEJ2000', 'Seq', 'Ksmagap3', 'Ymagap3', 'Hmagap3',\n",
       "       'Jmagap3', 'Bmagap3', 'Vmagap3', 'ipmagap3', 'rmagap3', 'umagap3',\n",
       "       'zppmagap3', 'IB574ap3', 'photoZ_SED', 'specZ', 'Instr', 'Q_f',\n",
       "       'sc_Ksmagap3', 'sc_Ymagap3', 'sc_Hmagap3', 'sc_Jmagap3', 'sc_Bmagap3',\n",
       "       'sc_Vmagap3', 'sc_ipmagap3', 'sc_rmagap3', 'sc_umagap3', 'sc_zppmagap3',\n",
       "       'photoZ_ML', 'resid_ML', 'resid_SED', 'residML_SED', 'w_sc_Ksmagap3',\n",
       "       'w_sc_Ymagap3', 'w_sc_Hmagap3', 'w_sc_Jmagap3', 'w_sc_Bmagap3',\n",
       "       'w_sc_Vmagap3', 'w_sc_ipmagap3', 'w_sc_rmagap3', 'w_sc_umagap3',\n",
       "       'w_sc_zppmagap3', 'quantErr', 'cellID_TrainSOM', 'cellID_RunSOM',\n",
       "       'cellID_RunBigSOM', 'specZ_outlCoeff', 'photoZ_ML_outlCoeff',\n",
       "       'photoZ_SED_outlCoeff', 'quantErr_outlCoeff', 'trainMapOccupation',\n",
       "       'zphoto_x', 'zphoto_y', 'zphoto_x', 'zphoto_y', 'zphoto_x', 'zphoto_y',\n",
       "       'zphoto_x', 'zphoto_y', 'zphoto', 'Std', 'Mean', 'Median'],\n",
       "      dtype='object')"
      ]
     },
     "execution_count": 37,
     "metadata": {},
     "output_type": "execute_result"
    }
   ],
   "source": [
    "SOMInfoEns.columns"
   ]
  },
  {
   "cell_type": "code",
   "execution_count": 38,
   "metadata": {},
   "outputs": [],
   "source": [
    "SOMInfoEns=residCol(SOMInfoEns,colSpectrZ='specZ', colPhotoZ='Median',colResid='resid_Ens')"
   ]
  },
  {
   "cell_type": "code",
   "execution_count": 40,
   "metadata": {},
   "outputs": [
    {
     "name": "stdout",
     "output_type": "stream",
     "text": [
      "{'Num objects': 19176, 'Std': 0.047, 'NMAD': 0.018, 'Mean': -0.0021, '% outl_15': 1.75}\n"
     ]
    }
   ],
   "source": [
    "print(statResid(SOMInfoEns,residML))"
   ]
  },
  {
   "cell_type": "code",
   "execution_count": 41,
   "metadata": {},
   "outputs": [
    {
     "name": "stdout",
     "output_type": "stream",
     "text": [
      "{'Num objects': 19176, 'Std': 0.046, 'NMAD': 0.017, 'Mean': -0.0019, '% outl_15': 1.73}\n"
     ]
    }
   ],
   "source": [
    "print(statResid(SOMInfoEns,'resid_Ens'))"
   ]
  },
  {
   "cell_type": "code",
   "execution_count": 42,
   "metadata": {},
   "outputs": [
    {
     "name": "stdout",
     "output_type": "stream",
     "text": [
      "{'Num objects': 19176, 'Std': 0.098, 'NMAD': 0.011, 'Mean': -0.0053, '% outl_15': 2.42}\n"
     ]
    }
   ],
   "source": [
    "print(statResid(SOMInfoEns,residSED))"
   ]
  },
  {
   "cell_type": "code",
   "execution_count": 43,
   "metadata": {},
   "outputs": [
    {
     "name": "stdout",
     "output_type": "stream",
     "text": [
      "{'Num objects': 16877, 'Std': 0.026, 'NMAD': 0.016, 'Mean': 0.0004, '% outl_15': 0.3}\n"
     ]
    }
   ],
   "source": [
    "print(statResid(SOMInfoEns[SOMInfoEns['specZ_outlCoeff'].abs()<1.5],'resid_Ens'))"
   ]
  },
  {
   "cell_type": "code",
   "execution_count": 45,
   "metadata": {},
   "outputs": [
    {
     "name": "stdout",
     "output_type": "stream",
     "text": [
      "{'Num objects': 16877, 'Std': 0.027, 'NMAD': 0.017, 'Mean': 0.0001, '% outl_15': 0.33}\n"
     ]
    }
   ],
   "source": [
    "print(statResid(SOMInfoEns[SOMInfoEns['specZ_outlCoeff'].abs()<1.5],residML))"
   ]
  },
  {
   "cell_type": "code",
   "execution_count": null,
   "metadata": {},
   "outputs": [],
   "source": []
  }
 ],
 "metadata": {
  "kernelspec": {
   "display_name": "Python 3",
   "language": "python",
   "name": "python3"
  },
  "language_info": {
   "codemirror_mode": {
    "name": "ipython",
    "version": 3
   },
   "file_extension": ".py",
   "mimetype": "text/x-python",
   "name": "python",
   "nbconvert_exporter": "python",
   "pygments_lexer": "ipython3",
   "version": "3.6.7"
  }
 },
 "nbformat": 4,
 "nbformat_minor": 2
}
