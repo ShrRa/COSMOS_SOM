{
 "cells": [
  {
   "cell_type": "code",
   "execution_count": 11,
   "metadata": {},
   "outputs": [],
   "source": [
    "### import libraries ###\n",
    "from astropy.io import fits\n",
    "from astropy import table\n",
    "import os\n",
    "import pandas as pd\n",
    "from func_stat import statResid\n",
    "import matplotlib.pyplot as plt"
   ]
  },
  {
   "cell_type": "code",
   "execution_count": 2,
   "metadata": {},
   "outputs": [],
   "source": [
    "### Working directories and file names ###\n",
    "dirCatalogs=r'/mnt/Data/Work/Sources/COSMOS/Catalogs/DuplicateCheck'\n",
    "os.chdir(dirCatalogs)\n",
    "\n",
    "testDuplInFileName=r\"Test_MSpecOrig_duplicatesIn.csv\""
   ]
  },
  {
   "cell_type": "code",
   "execution_count": 3,
   "metadata": {},
   "outputs": [],
   "source": [
    "test=pd.read_csv(testDuplInFileName)"
   ]
  },
  {
   "cell_type": "code",
   "execution_count": 17,
   "metadata": {},
   "outputs": [
    {
     "data": {
      "text/plain": [
       "(array([5.210e+02, 1.728e+03, 1.743e+03, 2.059e+03, 1.538e+03, 8.040e+02,\n",
       "        2.340e+02, 1.200e+01, 7.000e+00, 2.000e+00]),\n",
       " array([0.0027  , 0.185484, 0.368268, 0.551052, 0.733836, 0.91662 ,\n",
       "        1.099404, 1.282188, 1.464972, 1.647756, 1.83054 ]),\n",
       " <a list of 10 Patch objects>)"
      ]
     },
     "execution_count": 17,
     "metadata": {},
     "output_type": "execute_result"
    },
    {
     "data": {
      "image/png": "[encoded data removed]",
      "text/plain": [
       "<Figure size 432x288 with 1 Axes>"
      ]
     },
     "metadata": {
      "needs_background": "light"
     },
     "output_type": "display_data"
    }
   ],
   "source": [
    "test=test[(test['z_spec']>0) & (test['z_spec']<8)]\n",
    "plt.hist(test['z_spec'])"
   ]
  },
  {
   "cell_type": "code",
   "execution_count": 18,
   "metadata": {},
   "outputs": [],
   "source": [
    "# Identifying and counting objects with multiple measurements\n",
    "test_uniq=test['Seq'].value_counts()"
   ]
  },
  {
   "cell_type": "code",
   "execution_count": 19,
   "metadata": {},
   "outputs": [],
   "source": [
    "# Creating a column where we calculate max difference between the measurements for every object\n",
    "test['SpecScatter']=0"
   ]
  },
  {
   "cell_type": "code",
   "execution_count": 20,
   "metadata": {},
   "outputs": [],
   "source": [
    "# INTify Seq column (aka ID)\n",
    "test['Seq']=test['Seq'].apply(int)"
   ]
  },
  {
   "cell_type": "code",
   "execution_count": 21,
   "metadata": {},
   "outputs": [],
   "source": [
    "# Calculating max difference between the measurements for every object \n",
    "for i in test_uniq[test_uniq>1].index:\n",
    "    diff=test.loc[test['Seq']==i,'z_spec'].max()-test.loc[test['Seq']==i,'z_spec'].min()\n",
    "    test.loc[test['Seq']==i,'SpecScatter']=diff"
   ]
  },
  {
   "cell_type": "code",
   "execution_count": 22,
   "metadata": {},
   "outputs": [
    {
     "name": "stdout",
     "output_type": "stream",
     "text": [
      "277 objects with SpecScatter>0.1 out of 5967\n"
     ]
    }
   ],
   "source": [
    "# Counting how many objects are with big differences within their groups\n",
    "print(test[test['SpecScatter']>=0.1]['Seq'].nunique(),'objects with SpecScatter>0.1 out of',test['Seq'].nunique())"
   ]
  },
  {
   "cell_type": "code",
   "execution_count": 23,
   "metadata": {},
   "outputs": [
    {
     "data": {
      "text/plain": [
       "Index(['RAJ2000', 'DEJ2000', 'Seq', 'Ksmagap3', 'Ymagap3', 'Hmagap3',\n",
       "       'Jmagap3', 'Bmagap3', 'Vmagap3', 'ipmagap3', 'rmagap3', 'umagap3',\n",
       "       'zppmagap3', 'IB574ap3', 'photoZ_SED', 'specZ', 'Instr_1', 'Q_f_1',\n",
       "       'sc_Ksmagap3', 'sc_Ymagap3', 'sc_Hmagap3', 'sc_Jmagap3', 'sc_Bmagap3',\n",
       "       'sc_Vmagap3', 'sc_ipmagap3', 'sc_rmagap3', 'sc_umagap3', 'sc_zppmagap3',\n",
       "       'photoZ_ML', 'resid_ML', 'resid_SED', 'residML_SED', 'w_sc_Ksmagap3',\n",
       "       'w_sc_Ymagap3', 'w_sc_Hmagap3', 'w_sc_Jmagap3', 'w_sc_Bmagap3',\n",
       "       'w_sc_Vmagap3', 'w_sc_ipmagap3', 'w_sc_rmagap3', 'w_sc_umagap3',\n",
       "       'w_sc_zppmagap3', 'quantErr', 'cellID_TrainSOM', 'cellID_RunSOM',\n",
       "       'cellID_RunBigSOM', 'specZ_outlCoeff', 'photoZ_ML_outlCoeff',\n",
       "       'photoZ_SED_outlCoeff', 'quantErr_outlCoeff', 'trainMapOccupation',\n",
       "       'L_ID', 'Instr_2', 'ORI_RA', 'ORI_Dec', 'ORI_ID', 'z_spec', 'Q_f_2',\n",
       "       'RA_corr', 'Dec_corr', 'ID', 'ALPHA_J2000', 'DELTA_J2000', 'GroupID_2',\n",
       "       'GroupSize_2', 'Contact', 'GroupID', 'GroupSize', 'Separation',\n",
       "       'SpecScatter'],\n",
       "      dtype='object')"
      ]
     },
     "execution_count": 23,
     "metadata": {},
     "output_type": "execute_result"
    }
   ],
   "source": [
    "test.columns"
   ]
  },
  {
   "cell_type": "code",
   "execution_count": 32,
   "metadata": {},
   "outputs": [
    {
     "data": {
      "text/plain": [
       "(array([4955.,  680.,  435.,  343.,  256.,  188.,  164.,   83.,   86.,\n",
       "          68.]),\n",
       " array([0.        , 0.00199218, 0.00398436, 0.00597654, 0.00796872,\n",
       "        0.0099609 , 0.01195308, 0.01394526, 0.01593744, 0.01792962,\n",
       "        0.0199218 ]),\n",
       " <a list of 10 Patch objects>)"
      ]
     },
     "execution_count": 32,
     "metadata": {},
     "output_type": "execute_result"
    },
    {
     "data": {
      "image/png": "[encoded data removed]",
      "text/plain": [
       "<Figure size 432x288 with 1 Axes>"
      ]
     },
     "metadata": {
      "needs_background": "light"
     },
     "output_type": "display_data"
    }
   ],
   "source": [
    "plt.hist(test[test['SpecScatter']<0.02]['SpecScatter'])"
   ]
  },
  {
   "cell_type": "code",
   "execution_count": 40,
   "metadata": {},
   "outputs": [
    {
     "name": "stdout",
     "output_type": "stream",
     "text": [
      "Big scatter  606\n",
      "Small scatter  5361\n"
     ]
    }
   ],
   "source": [
    "print('Big scatter ',len(test[test['SpecScatter']>=0.02]['Seq'].unique()))\n",
    "print('Small scatter ',len(test[test['SpecScatter']<0.02]['Seq'].unique()))"
   ]
  },
  {
   "cell_type": "code",
   "execution_count": 36,
   "metadata": {},
   "outputs": [
    {
     "name": "stdout",
     "output_type": "stream",
     "text": [
      "Stats for resids for ML photo-z for objects with big scatter\n",
      "{'Num objects': 277, 'Std': 0.119, 'NMAD': 0.03, 'Mean': -0.0091, '% outl_15': 11.19}\n",
      "Stats for resids for SED photo-z for objects with big scatter\n",
      "{'Num objects': 277, 'Std': 0.152, 'NMAD': 0.021, 'Mean': -0.0207, '% outl_15': 10.83}\n"
     ]
    }
   ],
   "source": [
    "# Calculating stats for residuals for objects with big scatter\n",
    "print('Stats for resids for ML photo-z for objects with big scatter')\n",
    "print(statResid(test[test['SpecScatter']>=0.1].drop_duplicates(subset='Seq'),'resid_ML'))\n",
    "print('Stats for resids for SED photo-z for objects with big scatter')\n",
    "print(statResid(test[test['SpecScatter']>=0.1].drop_duplicates(subset='Seq'),'resid_SED'))"
   ]
  },
  {
   "cell_type": "code",
   "execution_count": 37,
   "metadata": {},
   "outputs": [
    {
     "name": "stdout",
     "output_type": "stream",
     "text": [
      "Stats for resids for ML photo-z for objects with small scatter\n",
      "{'Num objects': 1923, 'Std': 0.024, 'NMAD': 0.016, 'Mean': 0.0017, '% outl_15': 0.16}\n",
      "Stats for resids for SED photo-z for objects with small scatter\n",
      "{'Num objects': 1923, 'Std': 0.056, 'NMAD': 0.009, 'Mean': 0.0016, '% outl_15': 0.21}\n"
     ]
    }
   ],
   "source": [
    "# Calculating stats for residuals for objects with small scatte\n",
    "print('Stats for resids for ML photo-z for objects with small scatter')\n",
    "print(statResid(test[(test['SpecScatter']>0) & (test['SpecScatter']<0.1)].drop_duplicates(subset='Seq'),'resid_ML'))\n",
    "print('Stats for resids for SED photo-z for objects with small scatter')\n",
    "print(statResid(test[(test['SpecScatter']>0) & (test['SpecScatter']<0.1)].drop_duplicates(subset='Seq'),'resid_SED'))"
   ]
  },
  {
   "cell_type": "code",
   "execution_count": 38,
   "metadata": {},
   "outputs": [
    {
     "name": "stdout",
     "output_type": "stream",
     "text": [
      "Stats for resids for ML photo-z for objects with only one measurement\n",
      "{'Num objects': 3767, 'Std': 0.048, 'NMAD': 0.02, 'Mean': -0.0038, '% outl_15': 1.7}\n",
      "Stats for resids for SED photo-z for objects with only one measurement\n",
      "{'Num objects': 3767, 'Std': 0.104, 'NMAD': 0.012, 'Mean': -0.0058, '% outl_15': 2.63}\n"
     ]
    }
   ],
   "source": [
    "# Calculating stats for residuals for objects with only one measurement\n",
    "print('Stats for resids for ML photo-z for objects with only one measurement')\n",
    "print(statResid(test[test['SpecScatter']==0].drop_duplicates(subset='Seq'),'resid_ML'))\n",
    "print('Stats for resids for SED photo-z for objects with only one measurement')\n",
    "print(statResid(test[test['SpecScatter']==0].drop_duplicates(subset='Seq'),'resid_SED'))"
   ]
  },
  {
   "cell_type": "code",
   "execution_count": 52,
   "metadata": {},
   "outputs": [
    {
     "name": "stdout",
     "output_type": "stream",
     "text": [
      "Median, min and max specz_outlCoeff for objects with big scatter\n",
      "[0.784, 0.003, 17.445]\n"
     ]
    }
   ],
   "source": [
    "# Calculating mean specz_outlCoeff for objects with big scatter\n",
    "print('Median, min and max specz_outlCoeff for objects with big scatter')\n",
    "t=test[test['SpecScatter']>=0.1].drop_duplicates(subset='Seq')['specZ_outlCoeff'].astype(float).abs()\n",
    "print(list(map(lambda x:round(x,3),[t.median(),t.min(),t.max()])))"
   ]
  },
  {
   "cell_type": "code",
   "execution_count": 54,
   "metadata": {},
   "outputs": [
    {
     "name": "stdout",
     "output_type": "stream",
     "text": [
      "Median, min and max specz_outlCoeff for objects with small scatter\n",
      "[0.563, 0.0, 9.802]\n"
     ]
    }
   ],
   "source": [
    "# Calculating mean specz_outlCoeff for objects with small scatter\n",
    "print('Median, min and max specz_outlCoeff for objects with small scatter')\n",
    "t=test[(test['SpecScatter']>0) & (test['SpecScatter']<0.1)].drop_duplicates(subset='Seq')['specZ_outlCoeff'].astype(float).abs()\n",
    "print(list(map(lambda x:round(x,3),[t.median(),t.min(),t.max()])))"
   ]
  },
  {
   "cell_type": "code",
   "execution_count": 53,
   "metadata": {},
   "outputs": [
    {
     "name": "stdout",
     "output_type": "stream",
     "text": [
      "Median, min and max specz_outlCoeff for objects with zero scatter\n",
      "[0.578, 0.0, inf]\n"
     ]
    }
   ],
   "source": [
    "# Calculating mean specz_outlCoeff for objects with only one measurement\n",
    "print('Median, min and max specz_outlCoeff for objects with zero scatter')\n",
    "t=test[test['SpecScatter']==0].drop_duplicates(subset='Seq')['specZ_outlCoeff'].astype(float).abs()\n",
    "print(list(map(lambda x:round(x,3),[t.median(),t.min(),t.max()])))"
   ]
  },
  {
   "cell_type": "code",
   "execution_count": 101,
   "metadata": {
    "scrolled": true
   },
   "outputs": [
    {
     "name": "stdout",
     "output_type": "stream",
     "text": [
      "N SED outliers_0.15:  133\n",
      "N SED outliers_0.15 with small scatter of spec_z:  4\n",
      "Median scatter of spec-z:  0.002\n"
     ]
    },
    {
     "name": "stderr",
     "output_type": "stream",
     "text": [
      "/home/alex/anaconda3/lib/python3.7/site-packages/ipykernel_launcher.py:2: UserWarning: Boolean Series key will be reindexed to match DataFrame index.\n",
      "  \n"
     ]
    }
   ],
   "source": [
    "# SED outliers with small scatter of spec-z\n",
    "t=test.drop_duplicates(subset='Seq')[test['resid_SED'].abs()>0.15]\n",
    "print('N SED outliers_0.15: ',len(t))\n",
    "t=t[(t['SpecScatter']>0) & (t['SpecScatter']<0.15)]\n",
    "print('N SED outliers_0.15 with small scatter of spec_z: ',len(t))\n",
    "print('Median scatter of spec-z: ',round(t['SpecScatter'].median(),3))\n",
    "#t[['specZ_outlCoeff','resid_SED','resid_ML','residML_SED','SpecScatter','specZ']]"
   ]
  },
  {
   "cell_type": "code",
   "execution_count": 103,
   "metadata": {
    "scrolled": true
   },
   "outputs": [
    {
     "name": "stdout",
     "output_type": "stream",
     "text": [
      "N SED outliers_0.15:  133\n",
      "N SED outliers_0.15 with big scatter of spec_z:  30\n",
      "Median scatter of spec-z:  0.437\n"
     ]
    },
    {
     "name": "stderr",
     "output_type": "stream",
     "text": [
      "/home/alex/anaconda3/lib/python3.7/site-packages/ipykernel_launcher.py:2: UserWarning: Boolean Series key will be reindexed to match DataFrame index.\n",
      "  \n"
     ]
    }
   ],
   "source": [
    "# SED outliers with big scatter of spec-z\n",
    "t=test.drop_duplicates(subset='Seq')[test['resid_SED'].abs()>0.15]\n",
    "print('N SED outliers_0.15: ',len(t))\n",
    "t=t[t['SpecScatter']>=0.15]\n",
    "print('N SED outliers_0.15 with big scatter of spec_z: ',len(t))\n",
    "print('Median scatter of spec-z: ',round(t['SpecScatter'].median(),3))\n",
    "#t[['specZ_outlCoeff','resid_SED','resid_ML','SpecScatter']]"
   ]
  },
  {
   "cell_type": "code",
   "execution_count": 104,
   "metadata": {},
   "outputs": [
    {
     "name": "stdout",
     "output_type": "stream",
     "text": [
      "N ML outliers_0.15:  98\n",
      "N ML outliers_0.15 with small scatter of spec_z:  3\n",
      "Median scatter of spec-z:  0.001\n"
     ]
    },
    {
     "name": "stderr",
     "output_type": "stream",
     "text": [
      "/home/alex/anaconda3/lib/python3.7/site-packages/ipykernel_launcher.py:1: UserWarning: Boolean Series key will be reindexed to match DataFrame index.\n",
      "  \"\"\"Entry point for launching an IPython kernel.\n"
     ]
    }
   ],
   "source": [
    "t=test.drop_duplicates(subset='Seq')[test['resid_ML'].abs()>0.15]\n",
    "print('N ML outliers_0.15: ',len(t))\n",
    "t=t[(t['SpecScatter']>0) & (t['SpecScatter']<0.15)]\n",
    "print('N ML outliers_0.15 with small scatter of spec_z: ',len(t))\n",
    "print('Median scatter of spec-z: ',round(t['SpecScatter'].median(),3))\n",
    "#t[['specZ_outlCoeff','resid_SED','resid_ML','SpecScatter']]"
   ]
  },
  {
   "cell_type": "code",
   "execution_count": 106,
   "metadata": {
    "scrolled": true
   },
   "outputs": [
    {
     "name": "stdout",
     "output_type": "stream",
     "text": [
      "N ML outliers_0.15:  98\n",
      "N ML outliers_0.15 with big scatter of spec_z:  31\n",
      "Median scatter of spec-z:  0.365\n"
     ]
    },
    {
     "name": "stderr",
     "output_type": "stream",
     "text": [
      "/home/alex/anaconda3/lib/python3.7/site-packages/ipykernel_launcher.py:1: UserWarning: Boolean Series key will be reindexed to match DataFrame index.\n",
      "  \"\"\"Entry point for launching an IPython kernel.\n"
     ]
    }
   ],
   "source": [
    "t=test.drop_duplicates(subset='Seq')[test['resid_ML'].abs()>0.15]\n",
    "print('N ML outliers_0.15: ',len(t))\n",
    "t=t[t['SpecScatter']>0.15]\n",
    "print('N ML outliers_0.15 with big scatter of spec_z: ',len(t))\n",
    "print('Median scatter of spec-z: ',round(t['SpecScatter'].median(),3))\n",
    "#t[['specZ_outlCoeff','resid_SED','resid_ML','SpecScatter']]"
   ]
  },
  {
   "cell_type": "code",
   "execution_count": 113,
   "metadata": {},
   "outputs": [
    {
     "name": "stdout",
     "output_type": "stream",
     "text": [
      "N SED non-outliers:  5834\n",
      "N SED non-outliers with big scatter of spec_z:  146\n",
      "Median scatter of spec-z:  0.236\n"
     ]
    },
    {
     "name": "stderr",
     "output_type": "stream",
     "text": [
      "/home/alex/anaconda3/lib/python3.7/site-packages/ipykernel_launcher.py:1: UserWarning: Boolean Series key will be reindexed to match DataFrame index.\n",
      "  \"\"\"Entry point for launching an IPython kernel.\n"
     ]
    }
   ],
   "source": [
    "t=test.drop_duplicates(subset='Seq')[test['resid_SED'].abs()<=0.15]\n",
    "print('N SED non-outliers: ',len(t))\n",
    "t=t[t['SpecScatter']>0.15]\n",
    "print('N SED non-outliers with big scatter of spec_z: ',len(t))\n",
    "print('Median scatter of spec-z: ',round(t['SpecScatter'].median(),3))\n",
    "#t[['specZ_outlCoeff','resid_SED','resid_ML','SpecScatter']]"
   ]
  },
  {
   "cell_type": "code",
   "execution_count": 114,
   "metadata": {},
   "outputs": [
    {
     "name": "stdout",
     "output_type": "stream",
     "text": [
      "N SED non-outliers:  5834\n",
      "N SED non-outliers with small scatter of spec_z:  2020\n",
      "Median scatter of spec-z:  0.005\n"
     ]
    },
    {
     "name": "stderr",
     "output_type": "stream",
     "text": [
      "/home/alex/anaconda3/lib/python3.7/site-packages/ipykernel_launcher.py:1: UserWarning: Boolean Series key will be reindexed to match DataFrame index.\n",
      "  \"\"\"Entry point for launching an IPython kernel.\n"
     ]
    }
   ],
   "source": [
    "t=test.drop_duplicates(subset='Seq')[test['resid_SED'].abs()<=0.15]\n",
    "print('N SED non-outliers: ',len(t))\n",
    "t=t[(t['SpecScatter']>0) & (t['SpecScatter']<=0.15)]\n",
    "print('N SED non-outliers with small scatter of spec_z: ',len(t))\n",
    "print('Median scatter of spec-z: ',round(t['SpecScatter'].median(),3))\n",
    "#t[['specZ_outlCoeff','resid_SED','resid_ML','SpecScatter']]"
   ]
  },
  {
   "cell_type": "code",
   "execution_count": 117,
   "metadata": {},
   "outputs": [
    {
     "name": "stdout",
     "output_type": "stream",
     "text": [
      "N ML non-outliers:  5869\n",
      "N ML non-outliers with big scatter of spec_z:  145\n",
      "Median scatter of spec-z:  0.238\n"
     ]
    },
    {
     "name": "stderr",
     "output_type": "stream",
     "text": [
      "/home/alex/anaconda3/lib/python3.7/site-packages/ipykernel_launcher.py:1: UserWarning: Boolean Series key will be reindexed to match DataFrame index.\n",
      "  \"\"\"Entry point for launching an IPython kernel.\n"
     ]
    }
   ],
   "source": [
    "t=test.drop_duplicates(subset='Seq')[test['resid_ML'].abs()<=0.15]\n",
    "print('N ML non-outliers: ',len(t))\n",
    "t=t[t['SpecScatter']>0.15]\n",
    "print('N ML non-outliers with big scatter of spec_z: ',len(t))\n",
    "print('Median scatter of spec-z: ',round(t['SpecScatter'].median(),3))\n",
    "#t[['specZ_outlCoeff','resid_SED','resid_ML','SpecScatter']]"
   ]
  },
  {
   "cell_type": "code",
   "execution_count": 115,
   "metadata": {},
   "outputs": [
    {
     "name": "stdout",
     "output_type": "stream",
     "text": [
      "N ML non-outliers:  5869\n",
      "N ML non-outliers with small scatter of spec_z:  2021\n",
      "Median scatter of spec-z:  0.005\n"
     ]
    },
    {
     "name": "stderr",
     "output_type": "stream",
     "text": [
      "/home/alex/anaconda3/lib/python3.7/site-packages/ipykernel_launcher.py:1: UserWarning: Boolean Series key will be reindexed to match DataFrame index.\n",
      "  \"\"\"Entry point for launching an IPython kernel.\n"
     ]
    }
   ],
   "source": [
    "t=test.drop_duplicates(subset='Seq')[test['resid_ML'].abs()<=0.15]\n",
    "print('N ML non-outliers: ',len(t))\n",
    "t=t[(t['SpecScatter']>0) & (t['SpecScatter']<=0.15)]\n",
    "print('N ML non-outliers with small scatter of spec_z: ',len(t))\n",
    "print('Median scatter of spec-z: ',round(t['SpecScatter'].median(),3))\n",
    "#t[['specZ_outlCoeff','resid_SED','resid_ML','SpecScatter']]"
   ]
  },
  {
   "cell_type": "code",
   "execution_count": 127,
   "metadata": {},
   "outputs": [
    {
     "name": "stderr",
     "output_type": "stream",
     "text": [
      "/home/alex/anaconda3/lib/python3.7/site-packages/ipykernel_launcher.py:1: UserWarning: Boolean Series key will be reindexed to match DataFrame index.\n",
      "  \"\"\"Entry point for launching an IPython kernel.\n",
      "/home/alex/anaconda3/lib/python3.7/site-packages/ipykernel_launcher.py:4: UserWarning: Boolean Series key will be reindexed to match DataFrame index.\n",
      "  after removing the cwd from sys.path.\n"
     ]
    },
    {
     "data": {
      "text/plain": [
       "{470262, 644337, 982888}"
      ]
     },
     "execution_count": 127,
     "metadata": {},
     "output_type": "execute_result"
    }
   ],
   "source": [
    "t=test.drop_duplicates(subset='Seq')[test['resid_ML'].abs()>0.15]\n",
    "t=t[t['SpecScatter']>0.15]\n",
    "ML_outl=t['Seq']\n",
    "t=test.drop_duplicates(subset='Seq')[test['resid_SED'].abs()>0.15]\n",
    "t=t[t['SpecScatter']>0.15]\n",
    "SED_outl=t['Seq']\n",
    "set(ML_outl)-set(SED_outl)"
   ]
  },
  {
   "cell_type": "code",
   "execution_count": 128,
   "metadata": {},
   "outputs": [
    {
     "data": {
      "text/plain": [
       "{826511, 831553}"
      ]
     },
     "execution_count": 128,
     "metadata": {},
     "output_type": "execute_result"
    }
   ],
   "source": [
    "set(SED_outl)-set(ML_outl)"
   ]
  },
  {
   "cell_type": "code",
   "execution_count": 130,
   "metadata": {},
   "outputs": [
    {
     "data": {
      "text/plain": [
       "0.020351526364477335"
      ]
     },
     "execution_count": 130,
     "metadata": {},
     "output_type": "execute_result"
    }
   ],
   "source": [
    "t=test.drop_duplicates(subset='Seq')\n",
    "t=t[t['SpecScatter']>0.15]\n",
    "len(t)/len(test)"
   ]
  },
  {
   "cell_type": "code",
   "execution_count": null,
   "metadata": {},
   "outputs": [],
   "source": []
  }
 ],
 "metadata": {
  "kernelspec": {
   "display_name": "Python 3",
   "language": "python",
   "name": "python3"
  },
  "language_info": {
   "codemirror_mode": {
    "name": "ipython",
    "version": 3
   },
   "file_extension": ".py",
   "mimetype": "text/x-python",
   "name": "python",
   "nbconvert_exporter": "python",
   "pygments_lexer": "ipython3",
   "version": "3.7.3"
  }
 },
 "nbformat": 4,
 "nbformat_minor": 2
}
