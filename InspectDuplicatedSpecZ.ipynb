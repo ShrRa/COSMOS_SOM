{
 "cells": [
  {
   "cell_type": "code",
   "execution_count": 2,
   "metadata": {},
   "outputs": [],
   "source": [
    "### import libraries ###\n",
    "from astropy.io import fits\n",
    "from astropy import table\n",
    "import os\n",
    "import pandas as pd\n",
    "from func_stat import statResid\n",
    "import matplotlib.pyplot as plt"
   ]
  },
  {
   "cell_type": "code",
   "execution_count": 3,
   "metadata": {},
   "outputs": [],
   "source": [
    "### Working directories and file names ###\n",
    "dirCatalogs=r'/mnt/Data/Work/Sources/COSMOS/Catalogs/DuplicateCheck'\n",
    "os.chdir(dirCatalogs)\n",
    "\n",
    "testDuplInFileName=r\"Test_MSpecOrig_duplicatesIn.csv\""
   ]
  },
  {
   "cell_type": "code",
   "execution_count": 4,
   "metadata": {},
   "outputs": [],
   "source": [
    "test=pd.read_csv(testDuplInFileName)\n",
    "# INTify Seq column (aka ID)\n",
    "test['Seq']=test['Seq'].apply(int)\n",
    "# Fix 'Infinities'\n",
    "test.loc[test['specZ_outlCoeff']=='Infinity','specZ_outlCoeff']=-99.9\n",
    "test['specZ_outlCoeff']=test['specZ_outlCoeff'].astype(float)\n",
    "# Limit crazy spec-z\n",
    "test=test[(test['z_spec']>0) & (test['z_spec']<8)]"
   ]
  },
  {
   "cell_type": "code",
   "execution_count": 5,
   "metadata": {},
   "outputs": [],
   "source": [
    "# Creating a column where we calculate max difference between the measurements for every object\n",
    "test['SpecScatter']=0\n",
    "test['NumMeasurements']=0\n",
    "# Identifying and counting objects with multiple measurements\n",
    "test_uniq=test['Seq'].value_counts()\n",
    "# Calculating max difference between the measurements for every object \n",
    "for i in test_uniq[test_uniq>1].index:\n",
    "    diff=test.loc[test['Seq']==i,'z_spec'].max()-test.loc[test['Seq']==i,'z_spec'].min()\n",
    "    test.loc[test['Seq']==i,'SpecScatter']=diff\n",
    "    test.loc[test['Seq']==i,'NumMeasurements']=test_uniq[i]"
   ]
  },
  {
   "cell_type": "code",
   "execution_count": null,
   "metadata": {},
   "outputs": [],
   "source": []
  },
  {
   "cell_type": "code",
   "execution_count": 6,
   "metadata": {},
   "outputs": [],
   "source": [
    "def countOutlStat(df,case:str):\n",
    "    df=df.drop_duplicates(subset='Seq')\n",
    "    stat={}\n",
    "    stat['Case']=case\n",
    "    stat['Num_obj']=len(df)\n",
    "    d=df[df['resid_ML'].abs()>=0.15]\n",
    "    stat['Num_outl_ML']=len(d)\n",
    "    stat['% outl_ML']=round(len(d)/len(df)*100,2)\n",
    "    d=df[df['resid_SED'].abs()>=0.15]\n",
    "    stat['Num_outl_SED']=len(d)\n",
    "    stat['% outl_SED']=round(len(d)/len(df)*100,2)\n",
    "    d=df[df['residML_SED'].abs()>=0.15]\n",
    "    stat['Num_outl_ML/SED']=len(d)\n",
    "    stat['% outl_ML/SED']=round(len(d)/len(df)*100,2)\n",
    "    return stat"
   ]
  },
  {
   "cell_type": "code",
   "execution_count": 7,
   "metadata": {},
   "outputs": [],
   "source": [
    "outlAnalysis=pd.DataFrame(columns=['Case','Num_obj',\n",
    "                                   'Num_outl_ML','% outl_ML',\n",
    "                                   'Num_outl_SED','% outl_SED',\n",
    "                                   'Num_outl_ML/SED','% outl_ML/SED'])\n",
    "\n",
    "t=test\n",
    "outlAnalysis=outlAnalysis.append(countOutlStat(t,'Total'),ignore_index=True)\n",
    "\n",
    "t=test[test['NumMeasurements']<=1]\n",
    "outlAnalysis=outlAnalysis.append(countOutlStat(t,'Single measurement'),ignore_index=True)\n",
    "\n",
    "t=test[test['NumMeasurements']>1]\n",
    "t=t[t['SpecScatter']<0.1]\n",
    "outlAnalysis=outlAnalysis.append(countOutlStat(t,'Multiple measurements, spec-z scatter <0.1'),\n",
    "                                 ignore_index=True)\n",
    "\n",
    "t=test[test['NumMeasurements']>1]\n",
    "t=t[t['SpecScatter']>=0.1]\n",
    "outlAnalysis=outlAnalysis.append(countOutlStat(t,'Multiple measurements, spec-z scatter >=0.1'),\n",
    "                                 ignore_index=True)"
   ]
  },
  {
   "cell_type": "code",
   "execution_count": 8,
   "metadata": {},
   "outputs": [
    {
     "data": {
      "text/html": [
       "<div>\n",
       "<style scoped>\n",
       "    .dataframe tbody tr th:only-of-type {\n",
       "        vertical-align: middle;\n",
       "    }\n",
       "\n",
       "    .dataframe tbody tr th {\n",
       "        vertical-align: top;\n",
       "    }\n",
       "\n",
       "    .dataframe thead th {\n",
       "        text-align: right;\n",
       "    }\n",
       "</style>\n",
       "<table border=\"1\" class=\"dataframe\">\n",
       "  <thead>\n",
       "    <tr style=\"text-align: right;\">\n",
       "      <th></th>\n",
       "      <th>Case</th>\n",
       "      <th>Num_obj</th>\n",
       "      <th>Num_outl_ML</th>\n",
       "      <th>% outl_ML</th>\n",
       "      <th>Num_outl_SED</th>\n",
       "      <th>% outl_SED</th>\n",
       "      <th>Num_outl_ML/SED</th>\n",
       "      <th>% outl_ML/SED</th>\n",
       "    </tr>\n",
       "  </thead>\n",
       "  <tbody>\n",
       "    <tr>\n",
       "      <th>0</th>\n",
       "      <td>Total</td>\n",
       "      <td>5967</td>\n",
       "      <td>98</td>\n",
       "      <td>1.64</td>\n",
       "      <td>133</td>\n",
       "      <td>2.23</td>\n",
       "      <td>69</td>\n",
       "      <td>1.16</td>\n",
       "    </tr>\n",
       "    <tr>\n",
       "      <th>1</th>\n",
       "      <td>Single measurement</td>\n",
       "      <td>3745</td>\n",
       "      <td>63</td>\n",
       "      <td>1.68</td>\n",
       "      <td>98</td>\n",
       "      <td>2.62</td>\n",
       "      <td>58</td>\n",
       "      <td>1.55</td>\n",
       "    </tr>\n",
       "    <tr>\n",
       "      <th>2</th>\n",
       "      <td>Multiple measurements, spec-z scatter &lt;0.1</td>\n",
       "      <td>1945</td>\n",
       "      <td>4</td>\n",
       "      <td>0.21</td>\n",
       "      <td>5</td>\n",
       "      <td>0.26</td>\n",
       "      <td>4</td>\n",
       "      <td>0.21</td>\n",
       "    </tr>\n",
       "    <tr>\n",
       "      <th>3</th>\n",
       "      <td>Multiple measurements, spec-z scatter &gt;=0.1</td>\n",
       "      <td>277</td>\n",
       "      <td>31</td>\n",
       "      <td>11.19</td>\n",
       "      <td>30</td>\n",
       "      <td>10.83</td>\n",
       "      <td>7</td>\n",
       "      <td>2.53</td>\n",
       "    </tr>\n",
       "  </tbody>\n",
       "</table>\n",
       "</div>"
      ],
      "text/plain": [
       "                                          Case Num_obj Num_outl_ML  % outl_ML  \\\n",
       "0                                        Total    5967          98       1.64   \n",
       "1                           Single measurement    3745          63       1.68   \n",
       "2   Multiple measurements, spec-z scatter <0.1    1945           4       0.21   \n",
       "3  Multiple measurements, spec-z scatter >=0.1     277          31      11.19   \n",
       "\n",
       "  Num_outl_SED  % outl_SED Num_outl_ML/SED  % outl_ML/SED  \n",
       "0          133        2.23              69           1.16  \n",
       "1           98        2.62              58           1.55  \n",
       "2            5        0.26               4           0.21  \n",
       "3           30       10.83               7           2.53  "
      ]
     },
     "execution_count": 8,
     "metadata": {},
     "output_type": "execute_result"
    }
   ],
   "source": [
    "outlAnalysis"
   ]
  },
  {
   "cell_type": "code",
   "execution_count": 9,
   "metadata": {},
   "outputs": [
    {
     "name": "stdout",
     "output_type": "stream",
     "text": [
      "{'Num objects': 1945, 'Std': 0.024, 'NMAD': 0.017, 'Mean': 0.0017, '% outl_15': 0.21}\n",
      "{'Num objects': 1945, 'Std': 0.056, 'NMAD': 0.009, 'Mean': 0.0015, '% outl_15': 0.26}\n"
     ]
    }
   ],
   "source": [
    "t=test.drop_duplicates('Seq')\n",
    "t=t[t['NumMeasurements']>1]\n",
    "t=t[t['SpecScatter']<0.1]\n",
    "print(statResid(t,'resid_ML'))\n",
    "print(statResid(t,'resid_SED'))"
   ]
  },
  {
   "cell_type": "code",
   "execution_count": 10,
   "metadata": {},
   "outputs": [
    {
     "name": "stdout",
     "output_type": "stream",
     "text": [
      "{'Num objects': 3745, 'Std': 0.048, 'NMAD': 0.02, 'Mean': -0.0038, '% outl_15': 1.68}\n",
      "{'Num objects': 3745, 'Std': 0.104, 'NMAD': 0.012, 'Mean': -0.0058, '% outl_15': 2.62}\n"
     ]
    }
   ],
   "source": [
    "t=test.drop_duplicates('Seq')\n",
    "t=t[t['NumMeasurements']==0]\n",
    "#t=t[t['SpecScatter']<0.1]\n",
    "print(statResid(t,'resid_ML'))\n",
    "print(statResid(t,'resid_SED'))"
   ]
  },
  {
   "cell_type": "code",
   "execution_count": 11,
   "metadata": {},
   "outputs": [],
   "source": [
    "outlAnalysis_outlCoeff=pd.DataFrame(columns=['Case','Num_obj',\n",
    "                                   'Num_outl_ML','% outl_ML',\n",
    "                                   'Num_outl_SED','% outl_SED',\n",
    "                                   'Num_outl_ML/SED','% outl_ML/SED'])\n",
    "t=test\n",
    "t=t[t['specZ_outlCoeff'].abs()<=1]\n",
    "\n",
    "outlAnalysis_outlCoeff=outlAnalysis_outlCoeff.append(countOutlStat(t,'Total'),ignore_index=True)\n",
    "\n",
    "t=test[test['NumMeasurements']<=1]\n",
    "t=t[t['specZ_outlCoeff'].abs()<=1]\n",
    "outlAnalysis_outlCoeff=outlAnalysis_outlCoeff.append(countOutlStat(t,'Single measurement'),ignore_index=True)\n",
    "\n",
    "t=test[test['NumMeasurements']>1]\n",
    "t=t[t['SpecScatter']<0.1]\n",
    "t=t[t['specZ_outlCoeff'].abs()<=1]\n",
    "outlAnalysis_outlCoeff=outlAnalysis_outlCoeff.append(countOutlStat(t,'Multiple measurements, spec-z scatter <0.1'),\n",
    "                                 ignore_index=True)\n",
    "\n",
    "t=test[test['NumMeasurements']>1]\n",
    "t=t[t['SpecScatter']>=0.1]\n",
    "t=t[t['specZ_outlCoeff'].abs()<=1]\n",
    "outlAnalysis_outlCoeff=outlAnalysis_outlCoeff.append(countOutlStat(t,'Multiple measurements, spec-z scatter >=0.1'),\n",
    "                                 ignore_index=True)"
   ]
  },
  {
   "cell_type": "code",
   "execution_count": 12,
   "metadata": {},
   "outputs": [
    {
     "data": {
      "text/html": [
       "<div>\n",
       "<style scoped>\n",
       "    .dataframe tbody tr th:only-of-type {\n",
       "        vertical-align: middle;\n",
       "    }\n",
       "\n",
       "    .dataframe tbody tr th {\n",
       "        vertical-align: top;\n",
       "    }\n",
       "\n",
       "    .dataframe thead th {\n",
       "        text-align: right;\n",
       "    }\n",
       "</style>\n",
       "<table border=\"1\" class=\"dataframe\">\n",
       "  <thead>\n",
       "    <tr style=\"text-align: right;\">\n",
       "      <th></th>\n",
       "      <th>Case</th>\n",
       "      <th>Num_obj</th>\n",
       "      <th>Num_outl_ML</th>\n",
       "      <th>% outl_ML</th>\n",
       "      <th>Num_outl_SED</th>\n",
       "      <th>% outl_SED</th>\n",
       "      <th>Num_outl_ML/SED</th>\n",
       "      <th>% outl_ML/SED</th>\n",
       "    </tr>\n",
       "  </thead>\n",
       "  <tbody>\n",
       "    <tr>\n",
       "      <th>0</th>\n",
       "      <td>Total</td>\n",
       "      <td>5967</td>\n",
       "      <td>98</td>\n",
       "      <td>1.64</td>\n",
       "      <td>133</td>\n",
       "      <td>2.23</td>\n",
       "      <td>69</td>\n",
       "      <td>1.16</td>\n",
       "    </tr>\n",
       "    <tr>\n",
       "      <th>1</th>\n",
       "      <td>Single measurement</td>\n",
       "      <td>3745</td>\n",
       "      <td>63</td>\n",
       "      <td>1.68</td>\n",
       "      <td>98</td>\n",
       "      <td>2.62</td>\n",
       "      <td>58</td>\n",
       "      <td>1.55</td>\n",
       "    </tr>\n",
       "    <tr>\n",
       "      <th>2</th>\n",
       "      <td>Multiple measurements, spec-z scatter &lt;0.1</td>\n",
       "      <td>1945</td>\n",
       "      <td>4</td>\n",
       "      <td>0.21</td>\n",
       "      <td>5</td>\n",
       "      <td>0.26</td>\n",
       "      <td>4</td>\n",
       "      <td>0.21</td>\n",
       "    </tr>\n",
       "    <tr>\n",
       "      <th>3</th>\n",
       "      <td>Multiple measurements, spec-z scatter &gt;=0.1</td>\n",
       "      <td>277</td>\n",
       "      <td>31</td>\n",
       "      <td>11.19</td>\n",
       "      <td>30</td>\n",
       "      <td>10.83</td>\n",
       "      <td>7</td>\n",
       "      <td>2.53</td>\n",
       "    </tr>\n",
       "  </tbody>\n",
       "</table>\n",
       "</div>"
      ],
      "text/plain": [
       "                                          Case Num_obj Num_outl_ML  % outl_ML  \\\n",
       "0                                        Total    5967          98       1.64   \n",
       "1                           Single measurement    3745          63       1.68   \n",
       "2   Multiple measurements, spec-z scatter <0.1    1945           4       0.21   \n",
       "3  Multiple measurements, spec-z scatter >=0.1     277          31      11.19   \n",
       "\n",
       "  Num_outl_SED  % outl_SED Num_outl_ML/SED  % outl_ML/SED  \n",
       "0          133        2.23              69           1.16  \n",
       "1           98        2.62              58           1.55  \n",
       "2            5        0.26               4           0.21  \n",
       "3           30       10.83               7           2.53  "
      ]
     },
     "execution_count": 12,
     "metadata": {},
     "output_type": "execute_result"
    }
   ],
   "source": [
    "outlAnalysis"
   ]
  },
  {
   "cell_type": "code",
   "execution_count": 13,
   "metadata": {
    "scrolled": true
   },
   "outputs": [
    {
     "data": {
      "text/html": [
       "<div>\n",
       "<style scoped>\n",
       "    .dataframe tbody tr th:only-of-type {\n",
       "        vertical-align: middle;\n",
       "    }\n",
       "\n",
       "    .dataframe tbody tr th {\n",
       "        vertical-align: top;\n",
       "    }\n",
       "\n",
       "    .dataframe thead th {\n",
       "        text-align: right;\n",
       "    }\n",
       "</style>\n",
       "<table border=\"1\" class=\"dataframe\">\n",
       "  <thead>\n",
       "    <tr style=\"text-align: right;\">\n",
       "      <th></th>\n",
       "      <th>Case</th>\n",
       "      <th>Num_obj</th>\n",
       "      <th>Num_outl_ML</th>\n",
       "      <th>% outl_ML</th>\n",
       "      <th>Num_outl_SED</th>\n",
       "      <th>% outl_SED</th>\n",
       "      <th>Num_outl_ML/SED</th>\n",
       "      <th>% outl_ML/SED</th>\n",
       "    </tr>\n",
       "  </thead>\n",
       "  <tbody>\n",
       "    <tr>\n",
       "      <th>0</th>\n",
       "      <td>Total</td>\n",
       "      <td>4311</td>\n",
       "      <td>8</td>\n",
       "      <td>0.19</td>\n",
       "      <td>30</td>\n",
       "      <td>0.70</td>\n",
       "      <td>33</td>\n",
       "      <td>0.77</td>\n",
       "    </tr>\n",
       "    <tr>\n",
       "      <th>1</th>\n",
       "      <td>Single measurement</td>\n",
       "      <td>2683</td>\n",
       "      <td>5</td>\n",
       "      <td>0.19</td>\n",
       "      <td>24</td>\n",
       "      <td>0.89</td>\n",
       "      <td>28</td>\n",
       "      <td>1.04</td>\n",
       "    </tr>\n",
       "    <tr>\n",
       "      <th>2</th>\n",
       "      <td>Multiple measurements, spec-z scatter &lt;0.1</td>\n",
       "      <td>1468</td>\n",
       "      <td>0</td>\n",
       "      <td>0.00</td>\n",
       "      <td>1</td>\n",
       "      <td>0.07</td>\n",
       "      <td>1</td>\n",
       "      <td>0.07</td>\n",
       "    </tr>\n",
       "    <tr>\n",
       "      <th>3</th>\n",
       "      <td>Multiple measurements, spec-z scatter &gt;=0.1</td>\n",
       "      <td>160</td>\n",
       "      <td>3</td>\n",
       "      <td>1.88</td>\n",
       "      <td>5</td>\n",
       "      <td>3.12</td>\n",
       "      <td>4</td>\n",
       "      <td>2.50</td>\n",
       "    </tr>\n",
       "  </tbody>\n",
       "</table>\n",
       "</div>"
      ],
      "text/plain": [
       "                                          Case Num_obj Num_outl_ML  % outl_ML  \\\n",
       "0                                        Total    4311           8       0.19   \n",
       "1                           Single measurement    2683           5       0.19   \n",
       "2   Multiple measurements, spec-z scatter <0.1    1468           0       0.00   \n",
       "3  Multiple measurements, spec-z scatter >=0.1     160           3       1.88   \n",
       "\n",
       "  Num_outl_SED  % outl_SED Num_outl_ML/SED  % outl_ML/SED  \n",
       "0           30        0.70              33           0.77  \n",
       "1           24        0.89              28           1.04  \n",
       "2            1        0.07               1           0.07  \n",
       "3            5        3.12               4           2.50  "
      ]
     },
     "execution_count": 13,
     "metadata": {},
     "output_type": "execute_result"
    }
   ],
   "source": [
    "outlAnalysis_outlCoeff"
   ]
  },
  {
   "cell_type": "code",
   "execution_count": 14,
   "metadata": {},
   "outputs": [
    {
     "data": {
      "text/plain": [
       "864     2\n",
       "1002    2\n",
       "2524    2\n",
       "4212    2\n",
       "Name: NumMeasurements, dtype: int64"
      ]
     },
     "execution_count": 14,
     "metadata": {},
     "output_type": "execute_result"
    }
   ],
   "source": [
    "t=test.drop_duplicates('Seq')\n",
    "t=t[t['NumMeasurements']>1]\n",
    "t=t[t['SpecScatter']<0.1]\n",
    "t=t[t['resid_ML'].abs()>=0.15]\n",
    "t['NumMeasurements']"
   ]
  },
  {
   "cell_type": "code",
   "execution_count": 15,
   "metadata": {},
   "outputs": [],
   "source": [
    "from numpy import inf\n",
    "test.loc[test['specZ_outlCoeff']==-inf,'specZ_outlCoeff']=-99\n",
    "t=test.drop_duplicates('Seq')"
   ]
  },
  {
   "cell_type": "code",
   "execution_count": 16,
   "metadata": {},
   "outputs": [
    {
     "data": {
      "image/png": "[encoded data removed]",
      "text/plain": [
       "<Figure size 432x288 with 1 Axes>"
      ]
     },
     "metadata": {
      "needs_background": "light"
     },
     "output_type": "display_data"
    }
   ],
   "source": [
    "t=t[t['specZ_outlCoeff']>-99]\n",
    "plt.hist(t['specZ_outlCoeff'],40)\n",
    "plt.yscale('log')"
   ]
  },
  {
   "cell_type": "code",
   "execution_count": 17,
   "metadata": {},
   "outputs": [
    {
     "data": {
      "text/plain": [
       "<matplotlib.collections.PathCollection at 0x7ff5f561b1d0>"
      ]
     },
     "execution_count": 17,
     "metadata": {},
     "output_type": "execute_result"
    },
    {
     "data": {
      "image/png": "[encoded data removed]",
      "text/plain": [
       "<Figure size 432x288 with 1 Axes>"
      ]
     },
     "metadata": {
      "needs_background": "light"
     },
     "output_type": "display_data"
    }
   ],
   "source": [
    "t=t[t['trainMapOccupation']>5]\n",
    "plt.scatter(t['specZ_outlCoeff'],t['resid_ML'])"
   ]
  },
  {
   "cell_type": "code",
   "execution_count": 18,
   "metadata": {},
   "outputs": [
    {
     "data": {
      "text/plain": [
       "Index(['RAJ2000', 'DEJ2000', 'Seq', 'Ksmagap3', 'Ymagap3', 'Hmagap3',\n",
       "       'Jmagap3', 'Bmagap3', 'Vmagap3', 'ipmagap3', 'rmagap3', 'umagap3',\n",
       "       'zppmagap3', 'IB574ap3', 'photoZ_SED', 'specZ', 'Instr_1', 'Q_f_1',\n",
       "       'sc_Ksmagap3', 'sc_Ymagap3', 'sc_Hmagap3', 'sc_Jmagap3', 'sc_Bmagap3',\n",
       "       'sc_Vmagap3', 'sc_ipmagap3', 'sc_rmagap3', 'sc_umagap3', 'sc_zppmagap3',\n",
       "       'photoZ_ML', 'resid_ML', 'resid_SED', 'residML_SED', 'w_sc_Ksmagap3',\n",
       "       'w_sc_Ymagap3', 'w_sc_Hmagap3', 'w_sc_Jmagap3', 'w_sc_Bmagap3',\n",
       "       'w_sc_Vmagap3', 'w_sc_ipmagap3', 'w_sc_rmagap3', 'w_sc_umagap3',\n",
       "       'w_sc_zppmagap3', 'quantErr', 'cellID_TrainSOM', 'cellID_RunSOM',\n",
       "       'cellID_RunBigSOM', 'specZ_outlCoeff', 'photoZ_ML_outlCoeff',\n",
       "       'photoZ_SED_outlCoeff', 'quantErr_outlCoeff', 'trainMapOccupation',\n",
       "       'L_ID', 'Instr_2', 'ORI_RA', 'ORI_Dec', 'ORI_ID', 'z_spec', 'Q_f_2',\n",
       "       'RA_corr', 'Dec_corr', 'ID', 'ALPHA_J2000', 'DELTA_J2000', 'GroupID_2',\n",
       "       'GroupSize_2', 'Contact', 'GroupID', 'GroupSize', 'Separation',\n",
       "       'SpecScatter', 'NumMeasurements'],\n",
       "      dtype='object')"
      ]
     },
     "execution_count": 18,
     "metadata": {},
     "output_type": "execute_result"
    }
   ],
   "source": [
    "test.columns"
   ]
  },
  {
   "cell_type": "code",
   "execution_count": 19,
   "metadata": {},
   "outputs": [
    {
     "data": {
      "text/plain": [
       "<matplotlib.collections.PathCollection at 0x7ff5f555c128>"
      ]
     },
     "execution_count": 19,
     "metadata": {},
     "output_type": "execute_result"
    },
    {
     "data": {
      "image/png": "[encoded data removed]",
      "text/plain": [
       "<Figure size 432x288 with 1 Axes>"
      ]
     },
     "metadata": {
      "needs_background": "light"
     },
     "output_type": "display_data"
    }
   ],
   "source": [
    "t=test\n",
    "plt.scatter(t['rmagap3'],t['umagap3']-t['rmagap3'],s=1)\n",
    "t=t[t['specZ_outlCoeff']>1]\n",
    "plt.scatter(t['rmagap3'],t['umagap3']-t['rmagap3'],s=1)"
   ]
  },
  {
   "cell_type": "code",
   "execution_count": 37,
   "metadata": {},
   "outputs": [
    {
     "data": {
      "text/plain": [
       "(0.1, 0.2)"
      ]
     },
     "execution_count": 37,
     "metadata": {},
     "output_type": "execute_result"
    },
    {
     "data": {
      "image/png": "[encoded data removed]",
      "text/plain": [
       "<Figure size 432x288 with 1 Axes>"
      ]
     },
     "metadata": {
      "needs_background": "light"
     },
     "output_type": "display_data"
    }
   ],
   "source": [
    "t=test\n",
    "plt.scatter(t['specZ'],t['ipmagap3'],s=1)\n",
    "t=t[t['specZ_outlCoeff']>=1]\n",
    "plt.scatter(t['specZ'],t['ipmagap3'],s=0.5)\n",
    "plt.xlim(0.1,0.2)"
   ]
  },
  {
   "cell_type": "code",
   "execution_count": null,
   "metadata": {},
   "outputs": [],
   "source": []
  }
 ],
 "metadata": {
  "kernelspec": {
   "display_name": "Python 3",
   "language": "python",
   "name": "python3"
  },
  "language_info": {
   "codemirror_mode": {
    "name": "ipython",
    "version": 3
   },
   "file_extension": ".py",
   "mimetype": "text/x-python",
   "name": "python",
   "nbconvert_exporter": "python",
   "pygments_lexer": "ipython3",
   "version": "3.7.3"
  }
 },
 "nbformat": 4,
 "nbformat_minor": 2
}
