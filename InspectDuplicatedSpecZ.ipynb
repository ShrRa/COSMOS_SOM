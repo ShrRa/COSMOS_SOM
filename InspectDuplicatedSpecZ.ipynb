{
 "cells": [
  {
   "cell_type": "code",
   "execution_count": 53,
   "metadata": {},
   "outputs": [],
   "source": [
    "### import libraries ###\n",
    "from astropy.io import fits\n",
    "from astropy import table\n",
    "import os\n",
    "import pandas as pd\n",
    "from func_stat import statResid"
   ]
  },
  {
   "cell_type": "code",
   "execution_count": 2,
   "metadata": {},
   "outputs": [],
   "source": [
    "### Working directories and file names ###\n",
    "dirCatalogs=r'/mnt/Data/Work/Sources/COSMOS/Catalogs/DuplicateCheck'\n",
    "os.chdir(dirCatalogs)\n",
    "\n",
    "testDuplInFileName=r\"Test_MSpecOrig_duplicatesIn.csv\""
   ]
  },
  {
   "cell_type": "code",
   "execution_count": 3,
   "metadata": {},
   "outputs": [],
   "source": [
    "test=pd.read_csv(testDuplInFileName)"
   ]
  },
  {
   "cell_type": "code",
   "execution_count": 12,
   "metadata": {},
   "outputs": [],
   "source": [
    "# Identifying and counting objects with multiple measurements\n",
    "test_uniq=test['Seq'].value_counts()"
   ]
  },
  {
   "cell_type": "code",
   "execution_count": 23,
   "metadata": {},
   "outputs": [],
   "source": [
    "# Creating a column where we calculate max difference between the measurements for every object\n",
    "test['SpecScatter']=0"
   ]
  },
  {
   "cell_type": "code",
   "execution_count": 34,
   "metadata": {},
   "outputs": [],
   "source": [
    "# INTify Seq column (aka ID)\n",
    "test['Seq']=test['Seq'].apply(int)"
   ]
  },
  {
   "cell_type": "code",
   "execution_count": 43,
   "metadata": {},
   "outputs": [],
   "source": [
    "# Calculating max difference between the measurements for every object \n",
    "for i in test_uniq[test_uniq>1].index:\n",
    "    diff=test.loc[test['Seq']==i,'z_spec'].max()-test.loc[test['Seq']==i,'z_spec'].min()\n",
    "    test.loc[test['Seq']==i,'SpecScatter']=diff"
   ]
  },
  {
   "cell_type": "code",
   "execution_count": 65,
   "metadata": {},
   "outputs": [
    {
     "name": "stdout",
     "output_type": "stream",
     "text": [
      "461 objects with SpecScatter>0.1 out of 5967\n"
     ]
    }
   ],
   "source": [
    "# Counting how many objects are with big differences within their groups\n",
    "print(test[test['SpecScatter']>=0.1]['Seq'].nunique(),'objects with SpecScatter>0.1 out of',test['Seq'].nunique())"
   ]
  },
  {
   "cell_type": "code",
   "execution_count": 51,
   "metadata": {},
   "outputs": [
    {
     "data": {
      "text/plain": [
       "Index(['RAJ2000', 'DEJ2000', 'Seq', 'Ksmagap3', 'Ymagap3', 'Hmagap3',\n",
       "       'Jmagap3', 'Bmagap3', 'Vmagap3', 'ipmagap3', 'rmagap3', 'umagap3',\n",
       "       'zppmagap3', 'IB574ap3', 'photoZ_SED', 'specZ', 'Instr_1', 'Q_f_1',\n",
       "       'sc_Ksmagap3', 'sc_Ymagap3', 'sc_Hmagap3', 'sc_Jmagap3', 'sc_Bmagap3',\n",
       "       'sc_Vmagap3', 'sc_ipmagap3', 'sc_rmagap3', 'sc_umagap3', 'sc_zppmagap3',\n",
       "       'photoZ_ML', 'resid_ML', 'resid_SED', 'residML_SED', 'w_sc_Ksmagap3',\n",
       "       'w_sc_Ymagap3', 'w_sc_Hmagap3', 'w_sc_Jmagap3', 'w_sc_Bmagap3',\n",
       "       'w_sc_Vmagap3', 'w_sc_ipmagap3', 'w_sc_rmagap3', 'w_sc_umagap3',\n",
       "       'w_sc_zppmagap3', 'quantErr', 'cellID_TrainSOM', 'cellID_RunSOM',\n",
       "       'cellID_RunBigSOM', 'specZ_outlCoeff', 'photoZ_ML_outlCoeff',\n",
       "       'photoZ_SED_outlCoeff', 'quantErr_outlCoeff', 'trainMapOccupation',\n",
       "       'L_ID', 'Instr_2', 'ORI_RA', 'ORI_Dec', 'ORI_ID', 'z_spec', 'Q_f_2',\n",
       "       'RA_corr', 'Dec_corr', 'ID', 'ALPHA_J2000', 'DELTA_J2000', 'GroupID_2',\n",
       "       'GroupSize_2', 'Contact', 'GroupID', 'GroupSize', 'Separation',\n",
       "       'SpecScatter'],\n",
       "      dtype='object')"
      ]
     },
     "execution_count": 51,
     "metadata": {},
     "output_type": "execute_result"
    }
   ],
   "source": [
    "test.columns"
   ]
  },
  {
   "cell_type": "code",
   "execution_count": 64,
   "metadata": {},
   "outputs": [
    {
     "name": "stdout",
     "output_type": "stream",
     "text": [
      "Stats for resids for ML photo-z for objects with big scatter\n",
      "{'Num objects': 461, 'Std': 0.096, 'NMAD': 0.028, 'Mean': -0.0088, '% outl_15': 7.81}\n",
      "Stats for resids for SED photo-z for objects with big scatter\n",
      "{'Num objects': 461, 'Std': 0.121, 'NMAD': 0.018, 'Mean': -0.0129, '% outl_15': 7.16}\n"
     ]
    }
   ],
   "source": [
    "# Calculating stats for residuals for objects with big scatter\n",
    "print('Stats for resids for ML photo-z for objects with big scatter')\n",
    "print(statResid(test[test['SpecScatter']>=0.1].drop_duplicates(subset='Seq'),'resid_ML'))\n",
    "print('Stats for resids for SED photo-z for objects with big scatter')\n",
    "print(statResid(test[test['SpecScatter']>=0.1].drop_duplicates(subset='Seq'),'resid_SED'))"
   ]
  },
  {
   "cell_type": "code",
   "execution_count": 66,
   "metadata": {},
   "outputs": [
    {
     "name": "stdout",
     "output_type": "stream",
     "text": [
      "Stats for resids for ML photo-z for objects with small scatter\n",
      "{'Num objects': 1879, 'Std': 0.024, 'NMAD': 0.016, 'Mean': 0.0015, '% outl_15': 0.21}\n",
      "Stats for resids for SED photo-z for objects with small scatter\n",
      "{'Num objects': 1879, 'Std': 0.057, 'NMAD': 0.009, 'Mean': 0.0014, '% outl_15': 0.27}\n"
     ]
    }
   ],
   "source": [
    "# Calculating stats for residuals for objects with small scatte\n",
    "print('Stats for resids for ML photo-z for objects with small scatter')\n",
    "print(statResid(test[(test['SpecScatter']>0) & (test['SpecScatter']<0.1)].drop_duplicates(subset='Seq'),'resid_ML'))\n",
    "print('Stats for resids for SED photo-z for objects with small scatter')\n",
    "print(statResid(test[(test['SpecScatter']>0) & (test['SpecScatter']<0.1)].drop_duplicates(subset='Seq'),'resid_SED'))"
   ]
  },
  {
   "cell_type": "code",
   "execution_count": 67,
   "metadata": {},
   "outputs": [
    {
     "name": "stdout",
     "output_type": "stream",
     "text": [
      "Stats for resids for ML photo-z for objects with only one measurement\n",
      "{'Num objects': 3627, 'Std': 0.048, 'NMAD': 0.02, 'Mean': -0.0034, '% outl_15': 1.6}\n",
      "Stats for resids for SED photo-z for objects with only one measurement\n",
      "{'Num objects': 3627, 'Std': 0.105, 'NMAD': 0.012, 'Mean': -0.0058, '% outl_15': 2.62}\n"
     ]
    }
   ],
   "source": [
    "# Calculating stats for residuals for objects with only one measurement\n",
    "print('Stats for resids for ML photo-z for objects with only one measurement')\n",
    "print(statResid(test[test['SpecScatter']==0].drop_duplicates(subset='Seq'),'resid_ML'))\n",
    "print('Stats for resids for SED photo-z for objects with only one measurement')\n",
    "print(statResid(test[test['SpecScatter']==0].drop_duplicates(subset='Seq'),'resid_SED'))"
   ]
  },
  {
   "cell_type": "code",
   "execution_count": 88,
   "metadata": {},
   "outputs": [
    {
     "name": "stdout",
     "output_type": "stream",
     "text": [
      "Mean specz_outlCoeff for objects with big scatter\n",
      "0.6854191113268312 0.0010838265519637525 17.44538274914747\n"
     ]
    }
   ],
   "source": [
    "# Calculating mean specz_outlCoeff for objects with big scatter\n",
    "print('Mean specz_outlCoeff for objects with big scatter')\n",
    "print(test[test['SpecScatter']>=0.1].drop_duplicates(subset='Seq')['specZ_outlCoeff'].astype(float).abs().median(),\n",
    "     test[test['SpecScatter']>=0.1].drop_duplicates(subset='Seq')['specZ_outlCoeff'].astype(float).abs().min(),\n",
    "     test[test['SpecScatter']>=0.1].drop_duplicates(subset='Seq')['specZ_outlCoeff'].astype(float).abs().max())"
   ]
  },
  {
   "cell_type": "code",
   "execution_count": 89,
   "metadata": {},
   "outputs": [
    {
     "name": "stdout",
     "output_type": "stream",
     "text": [
      "Mean specz_outlCoeff for objects with small scatter\n",
      "0.5628471633129158 0.0004121590188503939 9.801720873893373\n"
     ]
    }
   ],
   "source": [
    "# Calculating mean specz_outlCoeff for objects with small scatter\n",
    "print('Mean specz_outlCoeff for objects with small scatter')\n",
    "print(test[(test['SpecScatter']>0) & (test['SpecScatter']<0.1)].drop_duplicates(subset='Seq')['specZ_outlCoeff'].astype(float).abs().median(),\n",
    "     test[(test['SpecScatter']>0) & (test['SpecScatter']<0.1)].drop_duplicates(subset='Seq')['specZ_outlCoeff'].astype(float).abs().min(),\n",
    "     test[(test['SpecScatter']>0) & (test['SpecScatter']<0.1)].drop_duplicates(subset='Seq')['specZ_outlCoeff'].astype(float).abs().max())"
   ]
  },
  {
   "cell_type": "code",
   "execution_count": 90,
   "metadata": {},
   "outputs": [
    {
     "name": "stdout",
     "output_type": "stream",
     "text": [
      "Mean specz_outlCoeff for objects with only one measurement\n",
      "0.5795997366004416 2.3515171905236832e-05 inf\n"
     ]
    }
   ],
   "source": [
    "# Calculating mean specz_outlCoeff for objects with only one measurement\n",
    "print('Mean specz_outlCoeff for objects with only one measurement')\n",
    "print(test[test['SpecScatter']==0].drop_duplicates(subset='Seq')['specZ_outlCoeff'].astype(float).abs().median(),\n",
    "     test[test['SpecScatter']==0].drop_duplicates(subset='Seq')['specZ_outlCoeff'].astype(float).abs().min(),\n",
    "     test[test['SpecScatter']==0].drop_duplicates(subset='Seq')['specZ_outlCoeff'].astype(float).abs().max())"
   ]
  },
  {
   "cell_type": "code",
   "execution_count": null,
   "metadata": {},
   "outputs": [],
   "source": []
  }
 ],
 "metadata": {
  "kernelspec": {
   "display_name": "Python 3",
   "language": "python",
   "name": "python3"
  },
  "language_info": {
   "codemirror_mode": {
    "name": "ipython",
    "version": 3
   },
   "file_extension": ".py",
   "mimetype": "text/x-python",
   "name": "python",
   "nbconvert_exporter": "python",
   "pygments_lexer": "ipython3",
   "version": "3.7.3"
  }
 },
 "nbformat": 4,
 "nbformat_minor": 2
}
