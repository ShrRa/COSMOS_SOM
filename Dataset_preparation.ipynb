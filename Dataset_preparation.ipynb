{
 "cells": [
  {
   "cell_type": "markdown",
   "metadata": {},
   "source": [
    "### Table of contents\n",
    "[Imports](#funcs)\n",
    "\n",
    "[Parameters, filenames and directories](#params)\n",
    "\n",
    "[Reading and normalizing datasets](#readCatalogs)"
   ]
  },
  {
   "cell_type": "code",
   "execution_count": 5,
   "metadata": {},
   "outputs": [],
   "source": [
    "from func_dataset_preprocessing import residCol, scaleMags, mergeCatalogs\n",
    "import pandas as pd\n",
    "import os"
   ]
  },
  {
   "cell_type": "markdown",
   "metadata": {},
   "source": [
    "### Parameters, filenames and directories\n",
    "<a id='params'>#params<a>"
   ]
  },
  {
   "cell_type": "code",
   "execution_count": 2,
   "metadata": {},
   "outputs": [],
   "source": [
    "### Files and directories ###\n",
    "dirCatalogs=r'D:\\Sources\\COSMOS_photoZ\\COSMOS_v3.0\\catalogs\\forPaper\\v06'\n",
    "dirMLPQNA=r'D:\\Sources\\COSMOS_photoZ\\COSMOS_v3.0\\experimentsArticle\\exp022'\n",
    "\n",
    "nameTrain=r'05_COSMOS_SpectrZ_Zlim_1p2.csv'\n",
    "nameTest=r'05_COSMOS_SpectrZ_Zlim_1p2_Test.csv'\n",
    "nameRun=r'04_COSMOS2015_run_WorkBands.csv'\n",
    "nameDeimos=r'04_COSMOS_DEIMOS_QfFilter.csv'\n",
    "\n",
    "nameTrainOutput=r'METAPHOR_trainout_05_COSMOS_SpectrZ_Zlim_1p2.csv'\n",
    "nameTestOutput=r'METAPHOR_testout_05_COSMOS_SpectrZ_Zlim_1p2.csv'\n",
    "nameRunOutput=r'METAPHOR_runout_04_COSMOS2015_run_WorkBands.csv'"
   ]
  },
  {
   "cell_type": "code",
   "execution_count": 3,
   "metadata": {},
   "outputs": [],
   "source": [
    "### Column names for training and filtering ###\n",
    "mags=['Ksmagap3','Ymagap3','Hmagap3','Jmagap3','Bmagap3','Vmagap3','ipmagap3','rmagap3','umagap3','zppmagap3']\n",
    "magsScaled=['sc_'+s for s in mags]\n",
    "idCol='Seq'\n",
    "specZ='specZ'\n",
    "photoZ_ML='photoZ_ML'\n",
    "photoZ_SED='photoZ_SED'\n",
    "residML='resid_ML'\n",
    "residSED='resid_SED'\n",
    "residML_SED='residML_SED'"
   ]
  },
  {
   "cell_type": "markdown",
   "metadata": {},
   "source": [
    "### Reading and normalizing datasets\n",
    "<a id='readCatalogs'>#readCatalogs<a>"
   ]
  },
  {
   "cell_type": "code",
   "execution_count": 6,
   "metadata": {},
   "outputs": [],
   "source": [
    "### Read catalogs ###\n",
    "dataTrainOrig=pd.read_csv(os.path.join(dirCatalogs,nameTrain))\n",
    "dataRunOrig=pd.read_csv(os.path.join(dirCatalogs,nameRun))\n",
    "dataDeimosOrig=pd.read_csv(os.path.join(dirCatalogs,nameDeimos))\n",
    "\n",
    "dataTrainOutput=pd.read_csv(os.path.join(dirMLPQNA,nameTrainOutput))\n",
    "dataTestOutput=pd.read_csv(os.path.join(dirMLPQNA,nameTestOutput))\n",
    "dataRunOutput=pd.read_csv(os.path.join(dirMLPQNA,nameRunOutput))"
   ]
  },
  {
   "cell_type": "code",
   "execution_count": 7,
   "metadata": {},
   "outputs": [],
   "source": [
    "### Normalization of magnitudes ###\n",
    "dataTrainOrig=scaleMags(dataTrainOrig,mags,magsScaled)\n",
    "dataRunOrig=scaleMags(dataRunOrig,mags,magsScaled,dataScaleTo=dataTrainOrig)\n",
    "dataDeimosOrig=scaleMags(dataDeimosOrig,mags,magsScaled,dataScaleTo=dataRunOrig)"
   ]
  },
  {
   "cell_type": "code",
   "execution_count": 8,
   "metadata": {},
   "outputs": [],
   "source": [
    "##### Merging #####\n",
    "### Train ###\n",
    "dataTrain=mergeCatalogs(dataTrainOrig,dataTrainOutput,colRename={'zphoto':photoZ_ML,'zphot':photoZ_SED,'z_spec_x':specZ},\n",
    "                        colDelete='z_spec_y')\n",
    "\n",
    "### Test ###\n",
    "dataTest=mergeCatalogs(dataTrainOrig,dataTestOutput,colRename={'zphoto':photoZ_ML,'zphot':photoZ_SED,'z_spec_x':specZ},\n",
    "                        colDelete='z_spec_y')\n",
    "\n",
    "### DEIMOS ###\n",
    "dataDeimos=mergeCatalogs(dataRunOutput,dataDeimosOrig,colRename={'zphoto':photoZ_ML,'zphot':photoZ_SED,'z_spec':specZ})\n",
    "\n",
    "### Run ###\n",
    "dataRun=mergeCatalogs(dataRunOutput,dataRunOrig,colRename={'zphoto':photoZ_ML,'zphot':photoZ_SED},\n",
    "                        resids=False)\n",
    "dataRun=residCol(dataRun,colSpectrZ=photoZ_SED,colPhotoZ=photoZ_ML,colResid=residML_SED)"
   ]
  },
  {
   "cell_type": "code",
   "execution_count": 10,
   "metadata": {},
   "outputs": [],
   "source": [
    "os.mkdir(os.path.join(dirCatalogs,'SOMprepared'))\n",
    "dataTrain.to_csv(os.path.join(dirCatalogs,'SOMprepared',nameTrain),index=False)\n",
    "dataTest.to_csv(os.path.join(dirCatalogs,'SOMprepared',nameTest),index=False)\n",
    "dataDeimos.to_csv(os.path.join(dirCatalogs,'SOMprepared',nameDeimos),index=False)\n",
    "dataRun.to_csv(os.path.join(dirCatalogs,'SOMprepared',nameRun),index=False)"
   ]
  }
 ],
 "metadata": {
  "kernelspec": {
   "display_name": "Python 3",
   "language": "python",
   "name": "python3"
  },
  "language_info": {
   "codemirror_mode": {
    "name": "ipython",
    "version": 3
   },
   "file_extension": ".py",
   "mimetype": "text/x-python",
   "name": "python",
   "nbconvert_exporter": "python",
   "pygments_lexer": "ipython3",
   "version": "3.6.7"
  }
 },
 "nbformat": 4,
 "nbformat_minor": 2
}
