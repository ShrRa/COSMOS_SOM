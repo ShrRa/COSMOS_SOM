{
 "cells": [
  {
   "cell_type": "markdown",
   "metadata": {},
   "source": [
    "### Table of contents\n",
    "[Imports](#funcs)\n",
    "\n",
    "[Parameters, filenames and directories](#params)\n",
    "\n",
    "[Reading datasets](#readCatalogs)\n",
    "\n",
    "[Training SOMs](#SOM_Train)\n",
    "\n",
    "[Calculating SOM_info for dataset](#SOM_info)\n",
    "\n",
    "[Building and saving maps](#SOM_maps)\n",
    "\n",
    "[Adding outlier coefficients for specZ, ML and SED photoZ and quantErr](#outlCoeff)\n",
    "\n",
    "[Saving datasets with SOM_info](#save)"
   ]
  },
  {
   "cell_type": "code",
   "execution_count": 2,
   "metadata": {},
   "outputs": [],
   "source": [
    "### import libraries ###\n",
    "import time\n",
    "import numpy as np\n",
    "import minisom\n",
    "import os\n",
    "import pandas as pd\n",
    "from func_SOM_read_write import createSOM, writeSOM, loadSOM\n",
    "from func_add_SOM_info import addBMUWeights, addQuantErr, addCellAddress, calcOutlCoeff, addOccupation\n",
    "from func_maps import buildMaps, writeMaps,readMaps"
   ]
  },
  {
   "cell_type": "markdown",
   "metadata": {},
   "source": [
    "### Parameters, filenames and directories\n",
    "<a id='params'>#params<a>"
   ]
  },
  {
   "cell_type": "code",
   "execution_count": 3,
   "metadata": {},
   "outputs": [],
   "source": [
    "### Parameters of SOM experiment ###\n",
    "nameOfExperiment='ex020'\n",
    "width=25\n",
    "height=28\n",
    "widthBig=64\n",
    "heightBig=67\n",
    "num_features=10\n",
    "epochs=6000\n",
    "sigma=5\n",
    "learning_rate=0.5\n",
    "neighborhood_function='bubble'"
   ]
  },
  {
   "cell_type": "code",
   "execution_count": 4,
   "metadata": {},
   "outputs": [],
   "source": [
    "### Files and directories ###\n",
    "dirCatalogs=r'D:\\Sources\\COSMOS_photoZ\\COSMOS_v3.0\\catalogs\\forPaper\\v06\\SOMprepared'\n",
    "dirSOM=r'D:\\Sources\\COSMOS_photoZ\\COSMOS_v3.0\\SOM\\forArticle'\n",
    "dirMLPQNA=r'D:\\Sources\\COSMOS_photoZ\\COSMOS_v3.0\\experimentsArticle\\exp022'\n",
    "\n",
    "nameTrain=r'05_COSMOS_SpectrZ_Zlim_1p2.csv'\n",
    "nameTest=r'05_COSMOS_SpectrZ_Zlim_1p2_Test.csv'\n",
    "nameRun=r'04_COSMOS2015_run_WorkBands.csv'\n",
    "nameDeimos=r'04_COSMOS_DEIMOS_QfFilter.csv'"
   ]
  },
  {
   "cell_type": "code",
   "execution_count": 5,
   "metadata": {},
   "outputs": [],
   "source": [
    "### Create experiment folder ###\n",
    "if os.path.isdir(dirSOM):\n",
    "    os.mkdir(os.path.join(dirSOM,nameOfExperiment))\n",
    "else:\n",
    "    os.makedirs(os.path.join(dirSOM,nameOfExperiment)) \n",
    "timeName=time.strftime(\"%y%m%d_%H%M%S_\", time.gmtime())"
   ]
  },
  {
   "cell_type": "code",
   "execution_count": 6,
   "metadata": {},
   "outputs": [],
   "source": [
    "### Write parameters on log file ###\n",
    "logName=timeName+'_log.txt'\n",
    "with open(os.path.join(dirSOM,nameOfExperiment,logName), 'a+') as f:\n",
    "    f.write('Catalog='+nameTrain+'\\n')\n",
    "    f.write('width='+str(width)+'\\n')\n",
    "    f.write('height='+str(height)+'\\n')\n",
    "    f.write('widthBig='+str(widthBig)+'\\n')\n",
    "    f.write('heightBig='+str(heightBig)+'\\n')\n",
    "    f.write('num_features='+str(num_features)+'\\n')\n",
    "    f.write('epochs='+str(epochs)+'\\n')\n",
    "    f.write('sigma='+str(sigma)+'\\n')\n",
    "    f.write('learning rate='+str(learning_rate)+'\\n')\n",
    "    f.write('neighborhood_function='+str(neighborhood_function)+'\\n')"
   ]
  },
  {
   "cell_type": "code",
   "execution_count": 7,
   "metadata": {},
   "outputs": [],
   "source": [
    "### Column names for training and filtering ###\n",
    "mags=['Ksmagap3','Ymagap3','Hmagap3','Jmagap3','Bmagap3','Vmagap3','ipmagap3','rmagap3','umagap3','zppmagap3']\n",
    "magsScaled=['sc_'+s for s in mags]\n",
    "idCol='Seq'\n",
    "specZ='specZ'\n",
    "photoZ_ML='photoZ_ML'\n",
    "photoZ_SED='photoZ_SED'\n",
    "residML='resid_ML'\n",
    "residSED='resid_SED'\n",
    "residML_SED='residML_SED'\n",
    "quantErr='quantErr'"
   ]
  },
  {
   "cell_type": "markdown",
   "metadata": {},
   "source": [
    "### Reading datasets\n",
    "<a id='readCatalogs'>#readCatalogs<a>"
   ]
  },
  {
   "cell_type": "code",
   "execution_count": 28,
   "metadata": {},
   "outputs": [],
   "source": [
    "### Read catalogs ###\n",
    "def readCats():\n",
    "    dataTrain=pd.read_csv(os.path.join(dirCatalogs,nameTrain))\n",
    "    dataTest=pd.read_csv(os.path.join(dirCatalogs,nameTest))\n",
    "    dataDeimos=pd.read_csv(os.path.join(dirCatalogs,nameDeimos))\n",
    "    return dataTrain,dataTest,dataDeimos"
   ]
  },
  {
   "cell_type": "markdown",
   "metadata": {},
   "source": [
    "### Training SOMs\n",
    "<a id='SOM_Train'>#SOM_Train<a>"
   ]
  },
  {
   "cell_type": "code",
   "execution_count": 46,
   "metadata": {},
   "outputs": [],
   "source": [
    "def TrainSOM(mapID,dataTrain,mapIDD):\n",
    "    data=np.array(dataTrain[magsScaled])\n",
    "    somTrain=createSOM(data, epochs, height, width, num_features, sigma, learning_rate, \n",
    "                    neighborhood_function, random_seed=10+mapIDD,\n",
    "                       saveWeightsName=os.path.join(dirSOM,nameOfExperiment,'somTrainWeights_'+str(mapID).zfill(3)+'.txt'))\n",
    "    ### Checking that after writing/loading cycle SOM weights were the same ###\n",
    "    soms=[somTrain]\n",
    "    somNames=['somTrainWeights_'+str(mapID).zfill(3)+'.txt']\n",
    "    for som,somName in zip(soms,somNames):\n",
    "        somCheck=loadSOM(weightsFile=os.path.join(dirSOM,nameOfExperiment,somName),\n",
    "                     sigma=sigma,learning_rate=learning_rate,\n",
    "                         neighborhood_function=neighborhood_function,random_seed=10+mapIDD)\n",
    "        print(abs((som.get_weights()-somCheck.get_weights())).max())\n",
    "    return somTrain"
   ]
  },
  {
   "cell_type": "markdown",
   "metadata": {},
   "source": [
    "### Calculating SOM_info for dataset\n",
    "<a id='SOM_info'>#SOM_info<a>"
   ]
  },
  {
   "cell_type": "code",
   "execution_count": 32,
   "metadata": {},
   "outputs": [],
   "source": [
    "### Adding cellIDs for each galaxy ###\n",
    "def addCellID(somTrain,dataTrain,dataTest,dataDeimos):\n",
    "    soms=[somTrain]\n",
    "    prefixes=['_TrainSOM']\n",
    "    for som,prefix in zip(soms,prefixes):\n",
    "        dataTrain=addCellAddress(som, dataTrain, magsScaled, idCol,cellIDPrefix=prefix)\n",
    "        dataTest=addCellAddress(som, dataTest, magsScaled, idCol,cellIDPrefix=prefix)\n",
    "        dataDeimos=addCellAddress(som, dataDeimos, magsScaled, idCol,cellIDPrefix=prefix)\n",
    "    return dataTrain,dataTest,dataDeimos"
   ]
  },
  {
   "cell_type": "markdown",
   "metadata": {},
   "source": [
    "### Building and saving maps\n",
    "<a id='SOM_maps'>#SOM_maps<a>"
   ]
  },
  {
   "cell_type": "code",
   "execution_count": 43,
   "metadata": {},
   "outputs": [],
   "source": [
    "def allMaps(somTrain,mapID,dataTrain,dataTest,dataDeimos):\n",
    "    mapsAll={}\n",
    "\n",
    "    mapCols=[photoZ_SED,photoZ_ML,specZ,residSED,residML,residML_SED]\n",
    "\n",
    "    cellID='cellID_TrainSOM'\n",
    "    som=somTrain\n",
    "    mapsAll['mapsTrainOnTrain']=buildMaps(som,dataTrain,mapCols,idCol,cellID=cellID)\n",
    "    mapsAll['mapsDeimosOnTrain']=buildMaps(som,dataDeimos,mapCols,idCol,cellID=cellID)\n",
    "    mapsAll['mapsTestOnTrain']=buildMaps(som,dataTest,mapCols,idCol,cellID=cellID)\n",
    "    \n",
    "    ### Saving maps ###\n",
    "    dirMaps='maps'\n",
    "    try:\n",
    "        os.mkdir(os.path.join(dirSOM,nameOfExperiment,dirMaps))\n",
    "    except:\n",
    "        pass\n",
    "    for key,val in mapsAll.items():\n",
    "        writeMaps(val,prefixName=os.path.join(dirSOM,nameOfExperiment,dirMaps,key+'_'+str(mapID).zfill(3)))\n",
    "    return mapsAll"
   ]
  },
  {
   "cell_type": "markdown",
   "metadata": {},
   "source": [
    "### Adding occupation info\n",
    "<a id='addOccupation'>#addOccupation<a>"
   ]
  },
  {
   "cell_type": "code",
   "execution_count": 48,
   "metadata": {},
   "outputs": [],
   "source": [
    "def addOccupationInfo(mapsAll,dataTrain,dataTest,dataDeimos):\n",
    "    cellID='cellID_TrainSOM'\n",
    "    activMap=mapsAll['mapsTrainOnTrain']['activMap']\n",
    "    datasets=[dataTrain,dataTest,dataDeimos]\n",
    "    for dataset in datasets:\n",
    "        dataset=addOccupation(dataset,cellID,activMap)\n",
    "    return dataTrain,dataTest,dataDeimos"
   ]
  },
  {
   "cell_type": "markdown",
   "metadata": {},
   "source": [
    "### Adding outlier coefficients for specZ, ML and SED photoZ and quantErr\n",
    "<a id='outlCoeff'>#outlCoeff<a>"
   ]
  },
  {
   "cell_type": "code",
   "execution_count": 34,
   "metadata": {},
   "outputs": [],
   "source": [
    "def outlCoeffs(somTrain,mapID,dataTrain,dataTest,dataDeimos):\n",
    "    filterCols=[specZ,photoZ_ML,photoZ_SED]\n",
    "    maps=mapsAll['mapsTrainOnTrain']\n",
    "    cellID='cellID_TrainSOM'\n",
    "    for col in filterCols:\n",
    "        dataTrain=calcOutlCoeff(dataTrain,maps['stdMaps'][col],maps['meanMaps'][col],col,cellID,prefix='')\n",
    "        dataTest=calcOutlCoeff(dataTest,maps['stdMaps'][col],maps['meanMaps'][col],col,cellID,prefix='')\n",
    "        dataDeimos=calcOutlCoeff(dataDeimos,maps['stdMaps'][col],maps['meanMaps'][col],col,cellID,prefix='')\n",
    "    return dataTrain,dataTest,dataDeimos"
   ]
  },
  {
   "cell_type": "markdown",
   "metadata": {},
   "source": [
    "### Saving datasets with SOM_info\n",
    "<a id='save'>#save<a>"
   ]
  },
  {
   "cell_type": "code",
   "execution_count": 44,
   "metadata": {},
   "outputs": [],
   "source": [
    "### Saving datasets with added data ###\n",
    "def saveDataWithSOMInfo(mapID,dataTrain,dataTest,dataDeimos):\n",
    "    dirDatasets='datasets'\n",
    "    try:\n",
    "        os.mkdir(os.path.join(dirSOM,nameOfExperiment,dirDatasets))\n",
    "    except:\n",
    "        pass\n",
    "    datasets=[dataTrain,dataTest,dataDeimos]\n",
    "    names=[nameTrain,nameTest,nameDeimos]\n",
    "    for dataset,name in zip(datasets,names):\n",
    "        dataset.to_csv(os.path.join(dirSOM,nameOfExperiment,\n",
    "                                    dirDatasets,name.replace('.csv','_SOMinfo_'+str(mapID).zfill(3)+'.csv')),index=False)"
   ]
  },
  {
   "cell_type": "code",
   "execution_count": 51,
   "metadata": {},
   "outputs": [
    {
     "name": "stdout",
     "output_type": "stream",
     "text": [
      "4\n",
      "Catalogues read\n",
      "4.99933427988708e-13\n",
      "SOM trained\n",
      "Cell IDs added\n",
      "Maps built\n",
      "Occupation info added\n",
      "Outl coeffs calculated\n",
      "Catalogues saved\n",
      "5\n",
      "Catalogues read\n",
      "4.999889391399392e-13\n",
      "SOM trained\n",
      "Cell IDs added\n",
      "Maps built\n",
      "Occupation info added\n",
      "Outl coeffs calculated\n",
      "Catalogues saved\n",
      "6\n",
      "Catalogues read\n",
      "4.999889391399392e-13\n",
      "SOM trained\n",
      "Cell IDs added\n",
      "Maps built\n",
      "Occupation info added\n",
      "Outl coeffs calculated\n",
      "Catalogues saved\n",
      "7\n",
      "Catalogues read\n",
      "4.998224056862455e-13\n",
      "SOM trained\n",
      "Cell IDs added\n",
      "Maps built\n",
      "Occupation info added\n",
      "Outl coeffs calculated\n",
      "Catalogues saved\n",
      "8\n",
      "Catalogues read\n",
      "4.997668945350142e-13\n",
      "SOM trained\n",
      "Cell IDs added\n",
      "Maps built\n",
      "Occupation info added\n",
      "Outl coeffs calculated\n",
      "Catalogues saved\n",
      "9\n",
      "Catalogues read\n",
      "4.99933427988708e-13\n",
      "SOM trained\n",
      "Cell IDs added\n",
      "Maps built\n",
      "Occupation info added\n",
      "Outl coeffs calculated\n",
      "Catalogues saved\n",
      "10\n",
      "Catalogues read\n",
      "4.99933427988708e-13\n",
      "SOM trained\n",
      "Cell IDs added\n",
      "Maps built\n",
      "Occupation info added\n",
      "Outl coeffs calculated\n",
      "Catalogues saved\n"
     ]
    }
   ],
   "source": [
    "for mapID in range(4,11):\n",
    "    print(mapID)\n",
    "    dataTrain,dataTest,dataDeimos=readCats()\n",
    "    print('Catalogues read')\n",
    "    somTrain=TrainSOM(mapID,dataTrain,mapIDD=mapID)\n",
    "    print('SOM trained')\n",
    "    dataTrain,dataTest,dataDeimos=addCellID(somTrain,dataTrain,dataTest,dataDeimos)\n",
    "    print('Cell IDs added')\n",
    "    mapsAll=allMaps(somTrain,mapID,dataTrain,dataTest,dataDeimos)\n",
    "    print('Maps built')\n",
    "    dataTrain,dataTest,dataDeimos=addOccupationInfo(mapsAll,dataTrain,dataTest,dataDeimos)\n",
    "    print('Occupation info added')\n",
    "    dataTrain,dataTest,dataDeimos=outlCoeffs(somTrain,mapID,dataTrain,dataTest,dataDeimos)\n",
    "    print('Outl coeffs calculated')\n",
    "    saveDataWithSOMInfo(mapID,dataTrain,dataTest,dataDeimos)\n",
    "    print('Catalogues saved')"
   ]
  },
  {
   "cell_type": "code",
   "execution_count": null,
   "metadata": {},
   "outputs": [],
   "source": []
  }
 ],
 "metadata": {
  "kernelspec": {
   "display_name": "Python 3",
   "language": "python",
   "name": "python3"
  },
  "language_info": {
   "codemirror_mode": {
    "name": "ipython",
    "version": 3
   },
   "file_extension": ".py",
   "mimetype": "text/x-python",
   "name": "python",
   "nbconvert_exporter": "python",
   "pygments_lexer": "ipython3",
   "version": "3.6.7"
  }
 },
 "nbformat": 4,
 "nbformat_minor": 2
}
