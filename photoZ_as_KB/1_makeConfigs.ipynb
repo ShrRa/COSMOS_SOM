{
 "cells": [
  {
   "cell_type": "code",
   "execution_count": 1,
   "metadata": {},
   "outputs": [],
   "source": [
    "import os\n",
    "import pandas as pd \n",
    "import shutil\n",
    "import configparser"
   ]
  },
  {
   "cell_type": "code",
   "execution_count": 2,
   "metadata": {},
   "outputs": [],
   "source": [
    "def getBandsIndexes(cat,bands):\n",
    "    return [list(cat.columns).index(c)+1 for c in bands]"
   ]
  },
  {
   "cell_type": "code",
   "execution_count": 3,
   "metadata": {},
   "outputs": [],
   "source": [
    "def makeConfig(dirCat:str,fileNameCat:str,idcolumn:str,zspeccolumn:str,\n",
    "               features:list,expNum:int,dirConfigs:str,configName:str):\n",
    "    \n",
    "    cat=pd.read_csv(os.path.join(dirCat,fileNameCat))\n",
    "    headers=list(cat)\n",
    "    idcolumnidx=str(int(headers.index('Seq')+1))\n",
    "    zspeccolumnidx=str(int(headers.index('photoZ_SED')+1))\n",
    "    featuresIdx=getBandsIndexes(cat,features)\n",
    "    featuresIdxStr=','.join(str(x) for x in featuresIdx)\n",
    "    nNeuronsLayer1=str(int(2*len(featuresIdx)+1))\n",
    "    nNeuronsLayer2=str(int(len(featuresIdx)-1))\n",
    "\n",
    "    newIni='exp'+str(expNum).zfill(3)+'_'+configName+'.ini'\n",
    "    shutil.copyfile(os.path.join(dirConfigs,fileConfigExample),os.path.join(dirConfigs,newIni))\n",
    "    parser=configparser.RawConfigParser()\n",
    "    parser.read(os.path.join(dirConfigs,newIni))\n",
    "    parser.set('Train Input Info','photoColumnIdxList',featuresIdxStr)\n",
    "    parser.set('Train Input Info','dirPath',dirCat)\n",
    "    parser.set('Train Input Info','idcolumnidx',idcolumnidx)\n",
    "    parser.set('Train Input Info','zspeccolumnidx',zspeccolumnidx)\n",
    "    parser.set('Train Input Info','name',fileNameCat)\n",
    "    parser.set('Test Input Info','photoColumnIdxList',featuresIdxStr)\n",
    "    parser.set('Test Input Info','name',fileNameCat)\n",
    "    parser.set('Test Input Info','dirPath',dirCat)\n",
    "    parser.set('Test Input Info','idcolumnidx',idcolumnidx)\n",
    "    parser.set('Test Input Info','zspeccolumnidx',zspeccolumnidx)\n",
    "    parser.set('Output Info','dirpath','Sources\\COSMOS_photoZ\\COSMOS_v3.0\\experimentsArticle\\exp'+str(expNum).zfill(3))\n",
    "    parser.set('Output Info','modelSubDirName','ex'+str(expNum).zfill(3))\n",
    "    parser.set('Learning Info','nHiddenNeurons',nNeuronsLayer1+','+nNeuronsLayer2)\n",
    "    parser.set('Train Output Info','nameSuffix','_'+fileNameCat)\n",
    "    parser.set('Test Output Info','nameSuffix','_'+fileNameCat)\n",
    "    parser.set('Log Info','nameSuffix','_'+fileNameCat)\n",
    "    parser.set('Restart Info','nameSuffix','_'+fileNameCat)\n",
    "\n",
    "    with open(os.path.join(dirConfigs,newIni), 'w') as configfile:\n",
    "        parser.write(configfile)\n",
    "    return"
   ]
  },
  {
   "cell_type": "code",
   "execution_count": 3,
   "metadata": {},
   "outputs": [],
   "source": [
    "dirCat=r'D:\\Sources\\COSMOS_photoZ\\COSMOS_v3.0\\catalogs\\forPaper\\v06'\n",
    "fileList = [f for f in os.listdir(dirCat) if os.path.isfile(os.path.join(dirCat, f))]\n",
    "catNames=[f for f in fileList if '06_SEDasTarget' in f]\n",
    "dirConfigs=r'D:\\Sources\\COSMOS_photoZ\\COSMOS_v3.0\\configsArticle\\SEDasTarget'\n",
    "fileConfigExample=r'exXX_phz_z_ConfigExample.ini'"
   ]
  },
  {
   "cell_type": "code",
   "execution_count": 5,
   "metadata": {},
   "outputs": [],
   "source": [
    "bandsPhiLab=['IA527', 'IA624','IA679', 'IB574']\n",
    "bandsPhiLab=[c+'ap3' for c in bandsPhiLab]\n",
    "cat=pd.read_csv(os.path.join(dirCat,catNames[0]))\n",
    "bandsBroad=[c for c in cat.columns if ('magap3' in c) and ('sc_' not in c)]\n",
    "bandsNarrow=[c for c in cat.columns if ('ap3' in c) and ('sc_' not in c) and ('mag' not in c)]\n",
    "bandsBroadNarrow=bandsBroad+bandsNarrow\n",
    "bandsBroadPhiLab=bandsBroad+bandsPhiLab\n",
    "expNum=25\n",
    "fsets={'broad':bandsBroad,'broadNarrow':bandsBroadNarrow,'broadPhiLab':bandsBroadPhiLab}"
   ]
  },
  {
   "cell_type": "code",
   "execution_count": 6,
   "metadata": {},
   "outputs": [],
   "source": [
    "for fileNameCat in catNames:\n",
    "    for fsetName,fset in fsets.items():\n",
    "        makeConfig(dirCat,fileNameCat,idcolumn='Seq',zspeccolumn='photoZ_SED',\n",
    "               features=fset,expNum=expNum,dirConfigs=dirConfigs,\n",
    "                   configName=fileNameCat.replace('06_','').replace('.csv','')+'_'+fsetName)\n",
    "        expNum+=1 "
   ]
  },
  {
   "cell_type": "code",
   "execution_count": null,
   "metadata": {},
   "outputs": [
    {
     "name": "stdout",
     "output_type": "stream",
     "text": [
      "D:\\Sources\\COSMOS_photoZ\\COSMOS_v3.0\\configsArticle\\SEDasTarget\\exp025_SEDasTarget_KBclean_19889_broad.ini\n",
      "Ready\n",
      "D:\\Sources\\COSMOS_photoZ\\COSMOS_v3.0\\configsArticle\\SEDasTarget\\exp026_SEDasTarget_KBclean_19889_broadNarrow.ini\n",
      "Ready\n",
      "D:\\Sources\\COSMOS_photoZ\\COSMOS_v3.0\\configsArticle\\SEDasTarget\\exp027_SEDasTarget_KBclean_19889_broadPhiLab.ini\n",
      "Ready\n",
      "D:\\Sources\\COSMOS_photoZ\\COSMOS_v3.0\\configsArticle\\SEDasTarget\\exp028_SEDasTarget_KBclean_23120_broad.ini\n",
      "Ready\n",
      "D:\\Sources\\COSMOS_photoZ\\COSMOS_v3.0\\configsArticle\\SEDasTarget\\exp029_SEDasTarget_KBclean_23120_broadNarrow.ini\n",
      "Ready\n",
      "D:\\Sources\\COSMOS_photoZ\\COSMOS_v3.0\\configsArticle\\SEDasTarget\\exp030_SEDasTarget_KBclean_23120_broadPhiLab.ini\n",
      "Ready\n",
      "D:\\Sources\\COSMOS_photoZ\\COSMOS_v3.0\\configsArticle\\SEDasTarget\\exp031_SEDasTarget_KBclean_33065_broad.ini\n",
      "Ready\n",
      "D:\\Sources\\COSMOS_photoZ\\COSMOS_v3.0\\configsArticle\\SEDasTarget\\exp032_SEDasTarget_KBclean_33065_broadNarrow.ini\n",
      "Ready\n",
      "D:\\Sources\\COSMOS_photoZ\\COSMOS_v3.0\\configsArticle\\SEDasTarget\\exp033_SEDasTarget_KBclean_33065_broadPhiLab.ini\n",
      "Ready\n",
      "D:\\Sources\\COSMOS_photoZ\\COSMOS_v3.0\\configsArticle\\SEDasTarget\\exp034_SEDasTarget_KBclean_43009_broad.ini\n"
     ]
    }
   ],
   "source": [
    "os.chdir('D:\\\\')\n",
    "\n",
    "# 25.10.2020. Checking how the size of the KB influences NMAD using photoZ_SED as target values\n",
    "configs=os.listdir(dirConfigs)\n",
    "configs=[conf for conf in configs if 'SEDasTarget' in conf]\n",
    "for conf in configs:\n",
    "    conf=os.path.join(dirConfigs,conf)\n",
    "    print(conf)\n",
    "    os.system('metaphor_pipeline '+conf)\n",
    "    print('Ready')\n",
    "### Interrupted after exp033 since the tendency for the KBclean is already clear. Start again with KB non-cleaned"
   ]
  },
  {
   "cell_type": "code",
   "execution_count": 10,
   "metadata": {},
   "outputs": [],
   "source": [
    "os.chdir('D:\\\\')\n",
    "\n",
    "# 26.10.2020. Checking how the size of the KB non-cleaned influences NMAD using photoZ_SED as target values\n",
    "configs=os.listdir(dirConfigs)\n",
    "configs=[conf for conf in configs if 'SEDasTarget' in conf]"
   ]
  },
  {
   "cell_type": "code",
   "execution_count": 11,
   "metadata": {},
   "outputs": [
    {
     "data": {
      "text/plain": [
       "['exp040_SEDasTarget_KB_19889_broad.ini',\n",
       " 'exp041_SEDasTarget_KB_19889_broadNarrow.ini',\n",
       " 'exp042_SEDasTarget_KB_19889_broadPhiLab.ini',\n",
       " 'exp043_SEDasTarget_KB_23120_broad.ini',\n",
       " 'exp044_SEDasTarget_KB_23120_broadNarrow.ini',\n",
       " 'exp045_SEDasTarget_KB_23120_broadPhiLab.ini',\n",
       " 'exp046_SEDasTarget_KB_33065_broad.ini',\n",
       " 'exp047_SEDasTarget_KB_33065_broadNarrow.ini',\n",
       " 'exp048_SEDasTarget_KB_33065_broadPhiLab.ini']"
      ]
     },
     "execution_count": 11,
     "metadata": {},
     "output_type": "execute_result"
    }
   ],
   "source": [
    "configs=[c for c in configs if 'KBclean' not in c]\n",
    "configs=configs[3:-3]\n",
    "configs"
   ]
  },
  {
   "cell_type": "code",
   "execution_count": null,
   "metadata": {
    "scrolled": true
   },
   "outputs": [
    {
     "name": "stdout",
     "output_type": "stream",
     "text": [
      "D:\\Sources\\COSMOS_photoZ\\COSMOS_v3.0\\configsArticle\\SEDasTarget\\exp040_SEDasTarget_KB_19889_broad.ini\n",
      "Ready\n",
      "D:\\Sources\\COSMOS_photoZ\\COSMOS_v3.0\\configsArticle\\SEDasTarget\\exp041_SEDasTarget_KB_19889_broadNarrow.ini\n",
      "Ready\n",
      "D:\\Sources\\COSMOS_photoZ\\COSMOS_v3.0\\configsArticle\\SEDasTarget\\exp042_SEDasTarget_KB_19889_broadPhiLab.ini\n",
      "Ready\n",
      "D:\\Sources\\COSMOS_photoZ\\COSMOS_v3.0\\configsArticle\\SEDasTarget\\exp043_SEDasTarget_KB_23120_broad.ini\n",
      "Ready\n",
      "D:\\Sources\\COSMOS_photoZ\\COSMOS_v3.0\\configsArticle\\SEDasTarget\\exp044_SEDasTarget_KB_23120_broadNarrow.ini\n"
     ]
    }
   ],
   "source": [
    "for conf in configs:\n",
    "    conf=os.path.join(dirConfigs,conf)\n",
    "    print(conf)\n",
    "    os.system('metaphor_pipeline '+conf)\n",
    "    print('Ready')\n",
    "### Interrupted at exp044 since it was calculating for 10 days and didn't stop... \n",
    "### Try the same with cleaned/non-cleaned specZ as targets"
   ]
  },
  {
   "cell_type": "code",
   "execution_count": null,
   "metadata": {},
   "outputs": [],
   "source": []
  }
 ],
 "metadata": {
  "kernelspec": {
   "display_name": "Python 3",
   "language": "python",
   "name": "python3"
  },
  "language_info": {
   "codemirror_mode": {
    "name": "ipython",
    "version": 3
   },
   "file_extension": ".py",
   "mimetype": "text/x-python",
   "name": "python",
   "nbconvert_exporter": "python",
   "pygments_lexer": "ipython3",
   "version": "3.6.7"
  }
 },
 "nbformat": 4,
 "nbformat_minor": 2
}
