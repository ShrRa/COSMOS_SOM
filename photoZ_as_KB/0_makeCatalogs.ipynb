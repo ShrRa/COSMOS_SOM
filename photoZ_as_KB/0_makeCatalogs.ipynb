{
 "cells": [
  {
   "cell_type": "code",
   "execution_count": 1,
   "metadata": {},
   "outputs": [],
   "source": [
    "import os\n",
    "import pandas as pd\n",
    "from astropy import table\n",
    "import matplotlib.pyplot as plt"
   ]
  },
  {
   "cell_type": "code",
   "execution_count": 2,
   "metadata": {},
   "outputs": [],
   "source": [
    "dirCat=r'D:\\Sources\\COSMOS_photoZ\\COSMOS_v3.0\\catalogs\\forPaper\\v06'\n",
    "dirCatCleaned=r'D:\\Sources\\COSMOS_photoZ\\COSMOS_v3.0\\SOM\\forArticle\\ex018\\datasets'\n",
    "fileNameCOSMOS2015=r'01_COSMOS2015_allBands.fits'\n",
    "fileNameTrain=r'05_COSMOS_SpectrZ_Zlim_1p2_SOMinfo.csv'\n",
    "fileNameTest=r'05_COSMOS_SpectrZ_Zlim_1p2_Test_SOMinfo.csv'\n",
    "fileNameRun=r'04_COSMOS2015_run_WorkBands_SOMinfo.csv'"
   ]
  },
  {
   "cell_type": "code",
   "execution_count": 3,
   "metadata": {},
   "outputs": [],
   "source": [
    "train=pd.read_csv(os.path.join(dirCatCleaned,fileNameTrain))\n",
    "test=pd.read_csv(os.path.join(dirCatCleaned,fileNameTest))\n",
    "run=pd.read_csv(os.path.join(dirCatCleaned,fileNameRun))\n",
    "tabCOSMOS2015=table.Table.read(os.path.join(dirCat,fileNameCOSMOS2015),format='fits')\n",
    "tabCOSMOS2015=tabCOSMOS2015.to_pandas()"
   ]
  },
  {
   "cell_type": "code",
   "execution_count": 4,
   "metadata": {},
   "outputs": [],
   "source": [
    "# Limit narrow-band errors\n",
    "data=tabCOSMOS2015\n",
    "errCols=list(c for c in data.columns if ('ap3' in c and ('IA' in c or 'IB' in c or 'NB' in c) and 'e_' in c))\n",
    "for c in errCols:\n",
    "    data=data[data[c]>=0]\n",
    "    data=data[data[c]<1]"
   ]
  },
  {
   "cell_type": "code",
   "execution_count": 5,
   "metadata": {},
   "outputs": [
    {
     "name": "stdout",
     "output_type": "stream",
     "text": [
      "518404\n",
      "196075\n"
     ]
    }
   ],
   "source": [
    "print(len(tabCOSMOS2015))\n",
    "print(len(data))"
   ]
  },
  {
   "cell_type": "code",
   "execution_count": 6,
   "metadata": {},
   "outputs": [],
   "source": [
    "# Leave only the narrow bands + Seq column for merging\n",
    "NbCols=['Seq']+list(c for c in data.columns if ('ap3' in c and ('IA' in c or 'IB' in c or 'NB' in c) and 'e_' not in c))\n",
    "data=data[NbCols]"
   ]
  },
  {
   "cell_type": "code",
   "execution_count": 7,
   "metadata": {},
   "outputs": [],
   "source": [
    "# Concatenate train, test and run\n",
    "[test.drop(c,inplace=True,axis=1) for c in (set(train.columns)-set(run.columns))]\n",
    "[train.drop(c,inplace=True,axis=1) for c in (set(train.columns)-set(run.columns))]\n",
    "KB=run.append(train,ignore_index=True,sort=False).append(test,ignore_index=True,sort=False)"
   ]
  },
  {
   "cell_type": "code",
   "execution_count": 8,
   "metadata": {},
   "outputs": [
    {
     "name": "stdout",
     "output_type": "stream",
     "text": [
      "214398\n"
     ]
    }
   ],
   "source": [
    "print(len(KB))"
   ]
  },
  {
   "cell_type": "code",
   "execution_count": 13,
   "metadata": {},
   "outputs": [
    {
     "data": {
      "text/plain": [
       "Index(['Seq', 'photoZ_ML', 'RAJ2000', 'DEJ2000', 'Ksmagap3', 'Ymagap3',\n",
       "       'Hmagap3', 'Jmagap3', 'Bmagap3', 'Vmagap3', 'ipmagap3', 'rmagap3',\n",
       "       'umagap3', 'zppmagap3', 'photoZ_SED', 'sc_Ksmagap3', 'sc_Ymagap3',\n",
       "       'sc_Hmagap3', 'sc_Jmagap3', 'sc_Bmagap3', 'sc_Vmagap3', 'sc_ipmagap3',\n",
       "       'sc_rmagap3', 'sc_umagap3', 'sc_zppmagap3', 'residML_SED',\n",
       "       'w_sc_Ksmagap3', 'w_sc_Ymagap3', 'w_sc_Hmagap3', 'w_sc_Jmagap3',\n",
       "       'w_sc_Bmagap3', 'w_sc_Vmagap3', 'w_sc_ipmagap3', 'w_sc_rmagap3',\n",
       "       'w_sc_umagap3', 'w_sc_zppmagap3', 'quantErr', 'cellID_TrainSOM',\n",
       "       'cellID_RunSOM', 'cellID_RunBigSOM', 'photoZ_ML_outlCoeff',\n",
       "       'photoZ_SED_outlCoeff', 'quantErr_outlCoeff', 'trainMapOccupation'],\n",
       "      dtype='object')"
      ]
     },
     "execution_count": 13,
     "metadata": {},
     "output_type": "execute_result"
    }
   ],
   "source": [
    "KB.drop('IB574ap3',inplace=True,axis=1)\n",
    "KB.columns"
   ]
  },
  {
   "cell_type": "code",
   "execution_count": 14,
   "metadata": {},
   "outputs": [],
   "source": [
    "# Remove objects with photoZ_SED>1.2\n",
    "KB=KB[KB['photoZ_SED']<1.2]\n",
    "# Merge old photometry with narrow band photometry\n",
    "KB=KB.merge(data,how='inner',left_on='Seq',right_on='Seq')\n",
    "# Remove objects with photoZ_SED_outlCoeff>1, trainMapOccupation<5\n",
    "KBclean=KB[KB['photoZ_SED_outlCoeff'].abs()<1]\n",
    "KBclean=KBclean[KBclean['trainMapOccupation']>5]"
   ]
  },
  {
   "cell_type": "code",
   "execution_count": 15,
   "metadata": {},
   "outputs": [
    {
     "name": "stdout",
     "output_type": "stream",
     "text": [
      "110322\n",
      "43009\n"
     ]
    }
   ],
   "source": [
    "print(len(KB))\n",
    "print(len(KBclean))"
   ]
  },
  {
   "cell_type": "code",
   "execution_count": 16,
   "metadata": {},
   "outputs": [
    {
     "data": {
      "text/plain": [
       "(array([0.08179273, 0.46756143, 0.470003  , 0.94610994, 0.91192791,\n",
       "        1.599231  , 1.48569781, 0.96198018, 1.1670724 , 0.91803184,\n",
       "        1.18416341, 1.58213998, 0.99494142, 0.98639592, 0.88751217,\n",
       "        0.90460319, 0.52493842, 0.21852088, 0.24659898, 0.21119616]),\n",
       " array([0.005 , 0.0647, 0.1244, 0.1841, 0.2438, 0.3035, 0.3632, 0.4229,\n",
       "        0.4826, 0.5423, 0.602 , 0.6617, 0.7214, 0.7811, 0.8408, 0.9005,\n",
       "        0.9602, 1.0199, 1.0796, 1.1393, 1.199 ]),\n",
       " <a list of 20 Patch objects>)"
      ]
     },
     "execution_count": 16,
     "metadata": {},
     "output_type": "execute_result"
    },
    {
     "data": {
      "image/png": "[encoded data removed]",
      "text/plain": [
       "<Figure size 432x288 with 1 Axes>"
      ]
     },
     "metadata": {
      "needs_background": "light"
     },
     "output_type": "display_data"
    }
   ],
   "source": [
    "plt.hist(KB['photoZ_SED'],bins=20,density=True)\n",
    "plt.hist(KBclean['photoZ_SED'],bins=20,density=True,alpha=0.4)\n",
    "plt.hist(train[train['photoZ_SED']<1.2]['photoZ_SED'],bins=20,density=True,alpha=0.4)"
   ]
  },
  {
   "cell_type": "code",
   "execution_count": 17,
   "metadata": {},
   "outputs": [
    {
     "data": {
      "text/plain": [
       "43009"
      ]
     },
     "execution_count": 17,
     "metadata": {},
     "output_type": "execute_result"
    }
   ],
   "source": [
    "len(KBclean)"
   ]
  },
  {
   "cell_type": "code",
   "execution_count": 18,
   "metadata": {},
   "outputs": [],
   "source": [
    "# Prepare datasets of different sizes and saving them\n",
    "catPrefix='06_SEDasTarget_'\n",
    "setSize=[len(train)+len(test),\n",
    "         len(KBclean)-(len(train)+len(test)),\n",
    "         len(KBclean)-(len(train)+len(test))//2,\n",
    "         len(KBclean)]\n",
    "for n in setSize:\n",
    "    d=KB.sample(n)\n",
    "    d.to_csv(os.path.join(dirCat,\n",
    "                           catPrefix+'KB_'+str(n)+'.csv'), index=False)\n",
    "    d=KBclean.sample(n)\n",
    "    d.to_csv(os.path.join(dirCat,\n",
    "                           catPrefix+'KBclean_'+str(n)+'.csv'), index=False)\n",
    "n=len(KB)\n",
    "d=KB.sample(n)\n",
    "d.to_csv(os.path.join(dirCat,catPrefix+'KB_'+str(n)+'.csv'), index=False)"
   ]
  },
  {
   "cell_type": "code",
   "execution_count": null,
   "metadata": {},
   "outputs": [],
   "source": []
  }
 ],
 "metadata": {
  "kernelspec": {
   "display_name": "Python 3",
   "language": "python",
   "name": "python3"
  },
  "language_info": {
   "codemirror_mode": {
    "name": "ipython",
    "version": 3
   },
   "file_extension": ".py",
   "mimetype": "text/x-python",
   "name": "python",
   "nbconvert_exporter": "python",
   "pygments_lexer": "ipython3",
   "version": "3.6.7"
  }
 },
 "nbformat": 4,
 "nbformat_minor": 2
}
