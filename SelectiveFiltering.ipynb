{
 "cells": [
  {
   "cell_type": "code",
   "execution_count": 85,
   "metadata": {},
   "outputs": [],
   "source": [
    "import matplotlib.cm as cm\n",
    "import matplotlib.pyplot as plt\n",
    "import numpy as np\n",
    "from func_visualizations import plotSOM, plotSOMRow\n",
    "from func_maps import readMaps\n",
    "from os.path import join\n",
    "from os import mkdir\n",
    "import pandas as pd"
   ]
  },
  {
   "cell_type": "code",
   "execution_count": 86,
   "metadata": {},
   "outputs": [],
   "source": [
    "### Files and directories ###\n",
    "dirSOM=r'D:\\Sources\\COSMOS_photoZ\\COSMOS_v3.0\\SOM\\forArticle'\n",
    "nameOfExperiment='ex019'\n",
    "dirMaps='maps'\n",
    "dirPlots='plots'\n",
    "#mkdir(join(dirSOM,nameOfExperiment,dirPlots))\n",
    "mapsAllKeys=['mapsTrainOnTrain','mapsTestOnTrain','mapsDeimosOnTrain','mapsRunOnTrain',\n",
    "             'mapsTrainOnRun','mapsTestOnRun','mapsDeimosOnRun','mapsRunOnRun',\n",
    "             'mapsTrainOnRunBig','mapsTestOnRunBig','mapsDeimosOnRunBig','mapsRunOnRunBig']"
   ]
  },
  {
   "cell_type": "code",
   "execution_count": 87,
   "metadata": {},
   "outputs": [],
   "source": [
    "idCol='Seq'\n",
    "specZ='specZ'\n",
    "photoZ_ML='photoZ_ML'\n",
    "photoZ_SED='photoZ_SED'\n",
    "residML='resid_ML'\n",
    "residSED='resid_SED'\n",
    "residML_SED='residML_SED'\n",
    "quantErr='quantErr'"
   ]
  },
  {
   "cell_type": "code",
   "execution_count": 88,
   "metadata": {},
   "outputs": [
    {
     "ename": "FileNotFoundError",
     "evalue": "[Errno 2] No such file or directory: 'D:\\\\Sources\\\\COSMOS_photoZ\\\\COSMOS_v3.0\\\\SOM\\\\forArticle\\\\ex019\\\\maps\\\\mapsTestOnTrain_activ.txt'",
     "output_type": "error",
     "traceback": [
      "\u001b[1;31m---------------------------------------------------------------------------\u001b[0m",
      "\u001b[1;31mFileNotFoundError\u001b[0m                         Traceback (most recent call last)",
      "\u001b[1;32m<ipython-input-88-f41e59103560>\u001b[0m in \u001b[0;36m<module>\u001b[1;34m\u001b[0m\n\u001b[0;32m      1\u001b[0m \u001b[0mmapsAll\u001b[0m\u001b[1;33m=\u001b[0m\u001b[1;33m{\u001b[0m\u001b[1;33m}\u001b[0m\u001b[1;33m\u001b[0m\u001b[1;33m\u001b[0m\u001b[0m\n\u001b[0;32m      2\u001b[0m \u001b[1;32mfor\u001b[0m \u001b[0mm\u001b[0m \u001b[1;32min\u001b[0m \u001b[0mmapsAllKeys\u001b[0m\u001b[1;33m:\u001b[0m\u001b[1;33m\u001b[0m\u001b[1;33m\u001b[0m\u001b[0m\n\u001b[1;32m----> 3\u001b[1;33m     \u001b[0mmapsAll\u001b[0m\u001b[1;33m[\u001b[0m\u001b[0mm\u001b[0m\u001b[1;33m]\u001b[0m\u001b[1;33m=\u001b[0m\u001b[0mreadMaps\u001b[0m\u001b[1;33m(\u001b[0m\u001b[0mjoin\u001b[0m\u001b[1;33m(\u001b[0m\u001b[0mdirSOM\u001b[0m\u001b[1;33m,\u001b[0m\u001b[0mnameOfExperiment\u001b[0m\u001b[1;33m,\u001b[0m\u001b[0mdirMaps\u001b[0m\u001b[1;33m)\u001b[0m\u001b[1;33m,\u001b[0m\u001b[0mm\u001b[0m\u001b[1;33m)\u001b[0m\u001b[1;33m\u001b[0m\u001b[1;33m\u001b[0m\u001b[0m\n\u001b[0m",
      "\u001b[1;32mD:\\Projects\\GitHub\\COSMOS_SOM\\func_maps.py\u001b[0m in \u001b[0;36mreadMaps\u001b[1;34m(dirMaps, prefix)\u001b[0m\n\u001b[0;32m     61\u001b[0m \u001b[1;33m\u001b[0m\u001b[0m\n\u001b[0;32m     62\u001b[0m     \u001b[0mnameOfFile\u001b[0m\u001b[1;33m=\u001b[0m\u001b[0mos\u001b[0m\u001b[1;33m.\u001b[0m\u001b[0mpath\u001b[0m\u001b[1;33m.\u001b[0m\u001b[0mjoin\u001b[0m\u001b[1;33m(\u001b[0m\u001b[0mdirMaps\u001b[0m\u001b[1;33m,\u001b[0m\u001b[0mprefix\u001b[0m\u001b[1;33m+\u001b[0m\u001b[1;34m'_activ.txt'\u001b[0m\u001b[1;33m)\u001b[0m\u001b[1;33m\u001b[0m\u001b[1;33m\u001b[0m\u001b[0m\n\u001b[1;32m---> 63\u001b[1;33m     \u001b[0mmapValues\u001b[0m\u001b[1;33m=\u001b[0m\u001b[0mreadArray\u001b[0m\u001b[1;33m(\u001b[0m\u001b[0mnameOfFile\u001b[0m\u001b[1;33m)\u001b[0m\u001b[1;33m\u001b[0m\u001b[1;33m\u001b[0m\u001b[0m\n\u001b[0m\u001b[0;32m     64\u001b[0m     \u001b[0mmaps\u001b[0m\u001b[1;33m[\u001b[0m\u001b[1;34m'activMap'\u001b[0m\u001b[1;33m]\u001b[0m\u001b[1;33m=\u001b[0m\u001b[0mmapValues\u001b[0m\u001b[1;33m\u001b[0m\u001b[1;33m\u001b[0m\u001b[0m\n\u001b[0;32m     65\u001b[0m \u001b[1;33m\u001b[0m\u001b[0m\n",
      "\u001b[1;32mD:\\Projects\\GitHub\\COSMOS_SOM\\func_ndarr_read_write.py\u001b[0m in \u001b[0;36mreadArray\u001b[1;34m(nameOfFile)\u001b[0m\n\u001b[0;32m      9\u001b[0m \u001b[1;33m\u001b[0m\u001b[0m\n\u001b[0;32m     10\u001b[0m \u001b[1;32mdef\u001b[0m \u001b[0mreadArray\u001b[0m\u001b[1;33m(\u001b[0m\u001b[0mnameOfFile\u001b[0m\u001b[1;33m)\u001b[0m\u001b[1;33m:\u001b[0m\u001b[1;33m\u001b[0m\u001b[1;33m\u001b[0m\u001b[0m\n\u001b[1;32m---> 11\u001b[1;33m     \u001b[1;32mwith\u001b[0m \u001b[0mopen\u001b[0m\u001b[1;33m(\u001b[0m\u001b[0mnameOfFile\u001b[0m\u001b[1;33m,\u001b[0m \u001b[1;34m'r'\u001b[0m\u001b[1;33m)\u001b[0m \u001b[1;32mas\u001b[0m \u001b[0mf\u001b[0m\u001b[1;33m:\u001b[0m\u001b[1;33m\u001b[0m\u001b[1;33m\u001b[0m\u001b[0m\n\u001b[0m\u001b[0;32m     12\u001b[0m         \u001b[1;31m# Read header. Any line starting with \"#\" will be ignored by numpy.loadtxt\u001b[0m\u001b[1;33m\u001b[0m\u001b[1;33m\u001b[0m\u001b[1;33m\u001b[0m\u001b[0m\n\u001b[0;32m     13\u001b[0m         \u001b[0mheader\u001b[0m\u001b[1;33m=\u001b[0m\u001b[0mf\u001b[0m\u001b[1;33m.\u001b[0m\u001b[0mreadline\u001b[0m\u001b[1;33m(\u001b[0m\u001b[1;33m)\u001b[0m\u001b[1;33m\u001b[0m\u001b[1;33m\u001b[0m\u001b[0m\n",
      "\u001b[1;31mFileNotFoundError\u001b[0m: [Errno 2] No such file or directory: 'D:\\\\Sources\\\\COSMOS_photoZ\\\\COSMOS_v3.0\\\\SOM\\\\forArticle\\\\ex019\\\\maps\\\\mapsTestOnTrain_activ.txt'"
     ]
    }
   ],
   "source": [
    "mapsAll={}\n",
    "for m in mapsAllKeys:\n",
    "    mapsAll[m]=readMaps(join(dirSOM,nameOfExperiment,dirMaps),m)"
   ]
  },
  {
   "cell_type": "code",
   "execution_count": 27,
   "metadata": {},
   "outputs": [
    {
     "data": {
      "text/plain": [
       "dict_keys(['stdMaps', 'meanMaps', 'IDMap', 'activMap'])"
      ]
     },
     "execution_count": 27,
     "metadata": {},
     "output_type": "execute_result"
    }
   ],
   "source": [
    "mapsAll['mapsTrainOnTrain'].keys()"
   ]
  },
  {
   "cell_type": "code",
   "execution_count": 9,
   "metadata": {},
   "outputs": [],
   "source": [
    "from scipy.stats.stats import pearsonr"
   ]
  },
  {
   "cell_type": "code",
   "execution_count": 12,
   "metadata": {},
   "outputs": [
    {
     "data": {
      "text/plain": [
       "array([[ 1.        , -0.16699073],\n",
       "       [-0.16699073,  1.        ]])"
      ]
     },
     "execution_count": 12,
     "metadata": {},
     "output_type": "execute_result"
    }
   ],
   "source": [
    "stdSpecz=np.ndarray.flatten(mapsAll['mapsTrainOnTrain']['stdMaps']['specZ'])\n",
    "meanResids=np.ndarray.flatten(mapsAll['mapsTrainOnTrain']['meanMaps']['resid_ML'])\n",
    "np.corrcoef(stdSpecz,meanResids)"
   ]
  },
  {
   "cell_type": "code",
   "execution_count": 38,
   "metadata": {},
   "outputs": [],
   "source": [
    "testDataset=pd.read_csv(join(r'D:\\Sources\\COSMOS_photoZ\\COSMOS_v3.0\\SOM\\forArticle\\ex018\\datasets',\n",
    "                                    '05_COSMOS_SpectrZ_Zlim_1p2_SOMinfo.csv'))"
   ]
  },
  {
   "cell_type": "code",
   "execution_count": 23,
   "metadata": {},
   "outputs": [
    {
     "data": {
      "text/plain": [
       "(3, 0)"
      ]
     },
     "execution_count": 23,
     "metadata": {},
     "output_type": "execute_result"
    }
   ],
   "source": [
    "mapsAll['mapsTrainOnTrain']['stdMaps']['specZ'][eval(testDataset['cellID_TrainSOM'][0])[0]]"
   ]
  },
  {
   "cell_type": "code",
   "execution_count": 66,
   "metadata": {},
   "outputs": [
    {
     "data": {
      "text/plain": [
       "16.0"
      ]
     },
     "execution_count": 66,
     "metadata": {},
     "output_type": "execute_result"
    }
   ],
   "source": [
    "\n",
    "mapsAll['mapsTrainOnTrain']['activMap'][22,10]\n"
   ]
  },
  {
   "cell_type": "code",
   "execution_count": 76,
   "metadata": {},
   "outputs": [
    {
     "data": {
      "text/plain": [
       "(array([ 17., 116., 130., 146., 101.,  66.,  34.,  35.,  14.,  11.,  12.,\n",
       "          5.,   3.,   4.,   4.,   0.,   1.,   0.,   0.,   1.]),\n",
       " array([0.        , 0.02126037, 0.04252075, 0.06378112, 0.08504149,\n",
       "        0.10630186, 0.12756224, 0.14882261, 0.17008298, 0.19134336,\n",
       "        0.21260373, 0.2338641 , 0.25512448, 0.27638485, 0.29764522,\n",
       "        0.31890559, 0.34016597, 0.36142634, 0.38268671, 0.40394709,\n",
       "        0.42520746]),\n",
       " <a list of 20 Patch objects>)"
      ]
     },
     "execution_count": 76,
     "metadata": {},
     "output_type": "execute_result"
    },
    {
     "data": {
      "image/png": "[encoded data removed]",
      "text/plain": [
       "<Figure size 432x288 with 1 Axes>"
      ]
     },
     "metadata": {
      "needs_background": "light"
     },
     "output_type": "display_data"
    }
   ],
   "source": [
    "plt.hist(mapsAll['mapsTrainOnTrain']['stdMaps']['specZ'].flatten(),bins=20)"
   ]
  },
  {
   "cell_type": "code",
   "execution_count": 83,
   "metadata": {},
   "outputs": [
    {
     "name": "stdout",
     "output_type": "stream",
     "text": [
      "(5, 7) 40.0\n"
     ]
    }
   ],
   "source": [
    "i=6\n",
    "print(testDataset['cellID_TrainSOM'][i],testDataset['trainMapOccupation'][i])"
   ]
  },
  {
   "cell_type": "code",
   "execution_count": 84,
   "metadata": {},
   "outputs": [
    {
     "name": "stdout",
     "output_type": "stream",
     "text": [
      "5.0 27.0 16.0 14.0\n",
      "14.0 4.0 14.0 13.0\n"
     ]
    }
   ],
   "source": [
    "x=5\n",
    "y=7\n",
    "print(mapsAll['mapsTrainOnTrain']['activMap'][x,y],mapsAll['mapsTrainOnTrain']['activMap'][-x,y],\n",
    "      mapsAll['mapsTrainOnTrain']['activMap'][x,-y],mapsAll['mapsTrainOnTrain']['activMap'][-x,-y])\n",
    "print(mapsAll['mapsTrainOnTrain']['activMap'][y,x],mapsAll['mapsTrainOnTrain']['activMap'][-y,x],\n",
    "      mapsAll['mapsTrainOnTrain']['activMap'][y,-x],mapsAll['mapsTrainOnTrain']['activMap'][-y,-x])"
   ]
  },
  {
   "cell_type": "code",
   "execution_count": null,
   "metadata": {},
   "outputs": [],
   "source": []
  }
 ],
 "metadata": {
  "kernelspec": {
   "display_name": "Python 3",
   "language": "python",
   "name": "python3"
  },
  "language_info": {
   "codemirror_mode": {
    "name": "ipython",
    "version": 3
   },
   "file_extension": ".py",
   "mimetype": "text/x-python",
   "name": "python",
   "nbconvert_exporter": "python",
   "pygments_lexer": "ipython3",
   "version": "3.6.7"
  }
 },
 "nbformat": 4,
 "nbformat_minor": 2
}
