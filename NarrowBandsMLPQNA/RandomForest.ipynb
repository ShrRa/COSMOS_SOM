{
 "cells": [
  {
   "cell_type": "code",
   "execution_count": 1,
   "metadata": {},
   "outputs": [],
   "source": [
    "import os\n",
    "import pandas as pd \n",
    "import numpy as np\n",
    "import matplotlib.pyplot as plt\n",
    "from sklearn.model_selection import train_test_split\n",
    "from sklearn.feature_selection import RFE\n",
    "from sklearn.metrics import mean_squared_error\n",
    "from sklearn.ensemble import RandomForestRegressor\n",
    "import func_stat"
   ]
  },
  {
   "cell_type": "code",
   "execution_count": 2,
   "metadata": {},
   "outputs": [],
   "source": [
    "dirCat=r'D:\\Sources\\COSMOS_photoZ\\COSMOS_v3.0\\catalogs\\forPaper\\v05'\n",
    "fileNameCat=r'05_COSMOS_SpectrZ_Zlim_1p2_AllBands_colors_ratios.csv'\n",
    "idcolumn='Seq'\n",
    "zspeccolumn='z_spec'\n",
    "cat=pd.read_csv(os.path.join(dirCat,fileNameCat))"
   ]
  },
  {
   "cell_type": "code",
   "execution_count": 3,
   "metadata": {},
   "outputs": [],
   "source": [
    "magsBroad=[c for c in cat.columns if 'magap3'  in c]\n",
    "magsBroad=[m for m in magsBroad if m not in ['zpmagap3','Hwmagap3','Kswmagap3','yHmagap3']]\n",
    "magsNarrow=[c for c in cat.columns if ('ap3' in c and 'mag' not in c)]\n",
    "ratios=['B/IA484', 'B/IA527', 'V/IA484', 'V/IA527', 'V/IA624', \n",
    "        'r/IA527', 'r/IA624', 'r/IA679', 'r/IA738', 'r/NB711', \n",
    "        'ip/IA624', 'ip/IA679', 'ip/IA738', 'ip/IA767', 'ip/NB711',\n",
    "        'ip/NB816', 'zpp/NB816']"
   ]
  },
  {
   "cell_type": "code",
   "execution_count": 4,
   "metadata": {},
   "outputs": [
    {
     "data": {
      "text/plain": [
       "Index(['Ksmagap3', 'Ymagap3', 'Hmagap3', 'Jmagap3', 'Bmagap3', 'Vmagap3',\n",
       "       'ipmagap3', 'rmagap3', 'umagap3', 'zppmagap3', 'B/IA484', 'B/IA527',\n",
       "       'V/IA484', 'V/IA527', 'V/IA624', 'r/IA527', 'r/IA624', 'r/IA679',\n",
       "       'r/IA738', 'r/NB711', 'ip/IA624', 'ip/IA679', 'ip/IA738', 'ip/IA767',\n",
       "       'ip/NB711', 'ip/NB816', 'zpp/NB816', 'z_spec'],\n",
       "      dtype='object')"
      ]
     },
     "execution_count": 4,
     "metadata": {},
     "output_type": "execute_result"
    }
   ],
   "source": [
    "catWork=cat[magsBroad+ratios+[zspeccolumn]]\n",
    "catWork.columns"
   ]
  },
  {
   "cell_type": "code",
   "execution_count": 5,
   "metadata": {},
   "outputs": [
    {
     "data": {
      "text/plain": [
       "19176"
      ]
     },
     "execution_count": 5,
     "metadata": {},
     "output_type": "execute_result"
    }
   ],
   "source": [
    "len(catWork)"
   ]
  },
  {
   "cell_type": "code",
   "execution_count": 6,
   "metadata": {},
   "outputs": [],
   "source": [
    "X=catWork[magsBroad+ratios]\n",
    "Y=catWork[zspeccolumn]\n",
    "X_train=X[0:14000]\n",
    "Y_train=Y[0:14000]\n",
    "X_test=X[14000:]\n",
    "Y_test=Y[14000:]"
   ]
  },
  {
   "cell_type": "code",
   "execution_count": 7,
   "metadata": {},
   "outputs": [],
   "source": [
    "### Create resid column ###\n",
    "def residCol(df,colSpectrZ, colPhotoZ,colResid):\n",
    "    df[colResid]=(df[colSpectrZ]-df[colPhotoZ])/(df[colSpectrZ]+1)\n",
    "    return df"
   ]
  },
  {
   "cell_type": "code",
   "execution_count": 13,
   "metadata": {},
   "outputs": [
    {
     "data": {
      "text/plain": [
       "{'Num objects': 5176,\n",
       " 'Std': 0.06,\n",
       " 'NMAD': 0.016,\n",
       " 'Mean': -0.0041,\n",
       " '% outl_15': 2.61}"
      ]
     },
     "execution_count": 13,
     "metadata": {},
     "output_type": "execute_result"
    }
   ],
   "source": [
    "regr = RandomForestRegressor(random_state=0,n_estimators=300)\n",
    "regr.fit(X_train, Y_train)\n",
    "df=pd.DataFrame(columns=[zspeccolumn,'photoZ'])\n",
    "df[zspeccolumn]=Y_test\n",
    "df['photoZ']=regr.predict(X_test)\n",
    "df=residCol(df,colSpectrZ=zspeccolumn, colPhotoZ='photoZ',colResid='resid')\n",
    "func_stat.statResid(df,colResid='resid')"
   ]
  },
  {
   "cell_type": "code",
   "execution_count": 14,
   "metadata": {},
   "outputs": [
    {
     "data": {
      "text/plain": [
       "{'Num objects': 5176,\n",
       " 'Std': 0.06,\n",
       " 'NMAD': 0.016,\n",
       " 'Mean': -0.004,\n",
       " '% outl_15': 2.61}"
      ]
     },
     "execution_count": 14,
     "metadata": {},
     "output_type": "execute_result"
    }
   ],
   "source": [
    "X=catWork[ratios]\n",
    "Y=catWork[zspeccolumn]\n",
    "X_train=X[0:14000]\n",
    "Y_train=Y[0:14000]\n",
    "X_test=X[14000:]\n",
    "Y_test=Y[14000:]\n",
    "\n",
    "regr = RandomForestRegressor(random_state=0,n_estimators=300)\n",
    "regr.fit(X_train, Y_train)\n",
    "df=pd.DataFrame(columns=[zspeccolumn,'photoZ'])\n",
    "df[zspeccolumn]=Y_test\n",
    "df['photoZ']=regr.predict(X_test)\n",
    "df=residCol(df,colSpectrZ=zspeccolumn, colPhotoZ='photoZ',colResid='resid')\n",
    "func_stat.statResid(df,colResid='resid')"
   ]
  },
  {
   "cell_type": "code",
   "execution_count": 16,
   "metadata": {},
   "outputs": [
    {
     "data": {
      "text/plain": [
       "{'Num objects': 5176,\n",
       " 'Std': 0.061,\n",
       " 'NMAD': 0.027,\n",
       " 'Mean': -0.0045,\n",
       " '% outl_15': 2.53}"
      ]
     },
     "execution_count": 16,
     "metadata": {},
     "output_type": "execute_result"
    }
   ],
   "source": [
    "X=catWork[magsBroad]\n",
    "Y=catWork[zspeccolumn]\n",
    "X_train=X[0:14000]\n",
    "Y_train=Y[0:14000]\n",
    "X_test=X[14000:]\n",
    "Y_test=Y[14000:]\n",
    "\n",
    "regr = RandomForestRegressor(random_state=0,n_estimators=300)\n",
    "regr.fit(X_train, Y_train)\n",
    "df=pd.DataFrame(columns=[zspeccolumn,'photoZ'])\n",
    "df[zspeccolumn]=Y_test\n",
    "df['photoZ']=regr.predict(X_test)\n",
    "df=residCol(df,colSpectrZ=zspeccolumn, colPhotoZ='photoZ',colResid='resid')\n",
    "func_stat.statResid(df,colResid='resid')"
   ]
  },
  {
   "cell_type": "code",
   "execution_count": 17,
   "metadata": {},
   "outputs": [
    {
     "data": {
      "text/plain": [
       "{'Num objects': 5176,\n",
       " 'Std': 0.06,\n",
       " 'NMAD': 0.015,\n",
       " 'Mean': -0.0041,\n",
       " '% outl_15': 2.57}"
      ]
     },
     "execution_count": 17,
     "metadata": {},
     "output_type": "execute_result"
    }
   ],
   "source": [
    "X=catWork[ratios]\n",
    "Y=catWork[zspeccolumn]\n",
    "X_train=X[0:14000]\n",
    "Y_train=Y[0:14000]\n",
    "X_test=X[14000:]\n",
    "Y_test=Y[14000:]\n",
    "\n",
    "regr = RandomForestRegressor(random_state=0,n_estimators=3000)\n",
    "regr.fit(X_train, Y_train)\n",
    "df=pd.DataFrame(columns=[zspeccolumn,'photoZ'])\n",
    "df[zspeccolumn]=Y_test\n",
    "df['photoZ']=regr.predict(X_test)\n",
    "df=residCol(df,colSpectrZ=zspeccolumn, colPhotoZ='photoZ',colResid='resid')\n",
    "func_stat.statResid(df,colResid='resid')"
   ]
  },
  {
   "cell_type": "code",
   "execution_count": 18,
   "metadata": {},
   "outputs": [
    {
     "data": {
      "text/plain": [
       "{'Num objects': 5176,\n",
       " 'Std': 0.059,\n",
       " 'NMAD': 0.015,\n",
       " 'Mean': -0.004,\n",
       " '% outl_15': 2.61}"
      ]
     },
     "execution_count": 18,
     "metadata": {},
     "output_type": "execute_result"
    }
   ],
   "source": [
    "X=catWork[magsBroad+ratios]\n",
    "Y=catWork[zspeccolumn]\n",
    "X_train=X[0:14000]\n",
    "Y_train=Y[0:14000]\n",
    "X_test=X[14000:]\n",
    "Y_test=Y[14000:]\n",
    "\n",
    "regr = RandomForestRegressor(random_state=0,n_estimators=3000)\n",
    "regr.fit(X_train, Y_train)\n",
    "df=pd.DataFrame(columns=[zspeccolumn,'photoZ'])\n",
    "df[zspeccolumn]=Y_test\n",
    "df['photoZ']=regr.predict(X_test)\n",
    "df=residCol(df,colSpectrZ=zspeccolumn, colPhotoZ='photoZ',colResid='resid')\n",
    "func_stat.statResid(df,colResid='resid')"
   ]
  },
  {
   "cell_type": "code",
   "execution_count": 23,
   "metadata": {},
   "outputs": [
    {
     "name": "stderr",
     "output_type": "stream",
     "text": [
      "[Parallel(n_jobs=-1)]: Using backend ThreadingBackend with 8 concurrent workers.\n",
      "[Parallel(n_jobs=-1)]: Done  34 tasks      | elapsed:    1.7s\n",
      "[Parallel(n_jobs=-1)]: Done 184 tasks      | elapsed:    8.2s\n",
      "[Parallel(n_jobs=-1)]: Done 434 tasks      | elapsed:   19.3s\n",
      "[Parallel(n_jobs=-1)]: Done 784 tasks      | elapsed:   34.5s\n",
      "[Parallel(n_jobs=-1)]: Done 1234 tasks      | elapsed:   54.3s\n",
      "[Parallel(n_jobs=-1)]: Done 1784 tasks      | elapsed:  1.3min\n",
      "[Parallel(n_jobs=-1)]: Done 2434 tasks      | elapsed:  1.8min\n",
      "[Parallel(n_jobs=-1)]: Done 3184 tasks      | elapsed:  2.4min\n",
      "[Parallel(n_jobs=-1)]: Done 4034 tasks      | elapsed:  3.0min\n",
      "[Parallel(n_jobs=-1)]: Done 4984 tasks      | elapsed:  3.7min\n",
      "[Parallel(n_jobs=-1)]: Done 6034 tasks      | elapsed:  4.6min\n",
      "[Parallel(n_jobs=-1)]: Done 7184 tasks      | elapsed:  5.5min\n",
      "[Parallel(n_jobs=-1)]: Done 8434 tasks      | elapsed:  6.5min\n",
      "[Parallel(n_jobs=-1)]: Done 9784 tasks      | elapsed:  7.6min\n",
      "[Parallel(n_jobs=-1)]: Done 10000 out of 10000 | elapsed:  7.8min finished\n",
      "[Parallel(n_jobs=8)]: Using backend ThreadingBackend with 8 concurrent workers.\n",
      "[Parallel(n_jobs=8)]: Done  34 tasks      | elapsed:    0.0s\n",
      "[Parallel(n_jobs=8)]: Done 184 tasks      | elapsed:    0.5s\n",
      "[Parallel(n_jobs=8)]: Done 434 tasks      | elapsed:    1.2s\n",
      "[Parallel(n_jobs=8)]: Done 784 tasks      | elapsed:    3.5s\n",
      "[Parallel(n_jobs=8)]: Done 1234 tasks      | elapsed:    6.3s\n",
      "[Parallel(n_jobs=8)]: Done 1784 tasks      | elapsed:    9.1s\n",
      "[Parallel(n_jobs=8)]: Done 2434 tasks      | elapsed:   12.3s\n",
      "[Parallel(n_jobs=8)]: Done 3184 tasks      | elapsed:   21.4s\n",
      "[Parallel(n_jobs=8)]: Done 4034 tasks      | elapsed:   25.4s\n",
      "[Parallel(n_jobs=8)]: Done 4984 tasks      | elapsed:   27.9s\n",
      "[Parallel(n_jobs=8)]: Done 6034 tasks      | elapsed:   33.7s\n",
      "[Parallel(n_jobs=8)]: Done 7184 tasks      | elapsed:   40.1s\n",
      "[Parallel(n_jobs=8)]: Done 8434 tasks      | elapsed:   45.8s\n",
      "[Parallel(n_jobs=8)]: Done 9784 tasks      | elapsed:   49.6s\n",
      "[Parallel(n_jobs=8)]: Done 10000 out of 10000 | elapsed:   50.3s finished\n"
     ]
    },
    {
     "data": {
      "text/plain": [
       "{'Num objects': 5176,\n",
       " 'Std': 0.06,\n",
       " 'NMAD': 0.016,\n",
       " 'Mean': -0.0041,\n",
       " '% outl_15': 2.59}"
      ]
     },
     "execution_count": 23,
     "metadata": {},
     "output_type": "execute_result"
    }
   ],
   "source": [
    "X=catWork[ratios]\n",
    "Y=catWork[zspeccolumn]\n",
    "X_train=X[0:14000]\n",
    "Y_train=Y[0:14000]\n",
    "X_test=X[14000:]\n",
    "Y_test=Y[14000:]\n",
    "\n",
    "regr = RandomForestRegressor(random_state=0,n_estimators=10000,criterion='mse',n_jobs=-1,verbose=1)\n",
    "regr.fit(X_train, Y_train)\n",
    "df=pd.DataFrame(columns=[zspeccolumn,'photoZ'])\n",
    "df[zspeccolumn]=Y_test\n",
    "df['photoZ']=regr.predict(X_test)\n",
    "df=residCol(df,colSpectrZ=zspeccolumn, colPhotoZ='photoZ',colResid='resid')\n",
    "func_stat.statResid(df,colResid='resid')"
   ]
  },
  {
   "cell_type": "code",
   "execution_count": 8,
   "metadata": {},
   "outputs": [
    {
     "name": "stderr",
     "output_type": "stream",
     "text": [
      "[Parallel(n_jobs=-1)]: Using backend ThreadingBackend with 8 concurrent workers.\n",
      "[Parallel(n_jobs=-1)]: Done  34 tasks      | elapsed:    1.5s\n",
      "[Parallel(n_jobs=-1)]: Done 184 tasks      | elapsed:    7.5s\n",
      "[Parallel(n_jobs=-1)]: Done 434 tasks      | elapsed:   17.3s\n",
      "[Parallel(n_jobs=-1)]: Done 784 tasks      | elapsed:   31.2s\n",
      "[Parallel(n_jobs=-1)]: Done 1234 tasks      | elapsed:   48.6s\n",
      "[Parallel(n_jobs=-1)]: Done 1784 tasks      | elapsed:  1.2min\n",
      "[Parallel(n_jobs=-1)]: Done 2434 tasks      | elapsed:  1.6min\n",
      "[Parallel(n_jobs=-1)]: Done 3184 tasks      | elapsed:  2.1min\n",
      "[Parallel(n_jobs=-1)]: Done 4034 tasks      | elapsed:  2.7min\n",
      "[Parallel(n_jobs=-1)]: Done 4984 tasks      | elapsed:  3.3min\n",
      "[Parallel(n_jobs=-1)]: Done 6034 tasks      | elapsed:  4.0min\n",
      "[Parallel(n_jobs=-1)]: Done 7184 tasks      | elapsed:  4.8min\n",
      "[Parallel(n_jobs=-1)]: Done 8434 tasks      | elapsed:  5.6min\n",
      "[Parallel(n_jobs=-1)]: Done 9784 tasks      | elapsed:  6.5min\n",
      "[Parallel(n_jobs=-1)]: Done 11234 tasks      | elapsed:  7.6min\n",
      "[Parallel(n_jobs=-1)]: Done 12784 tasks      | elapsed:  8.7min\n",
      "[Parallel(n_jobs=-1)]: Done 14434 tasks      | elapsed:  9.8min\n",
      "[Parallel(n_jobs=-1)]: Done 16184 tasks      | elapsed: 11.1min\n",
      "[Parallel(n_jobs=-1)]: Done 18034 tasks      | elapsed: 12.5min\n",
      "[Parallel(n_jobs=-1)]: Done 19984 tasks      | elapsed: 14.1min\n",
      "[Parallel(n_jobs=-1)]: Done 20000 out of 20000 | elapsed: 14.1min finished\n",
      "[Parallel(n_jobs=8)]: Using backend ThreadingBackend with 8 concurrent workers.\n",
      "[Parallel(n_jobs=8)]: Done  34 tasks      | elapsed:    0.1s\n",
      "[Parallel(n_jobs=8)]: Done 184 tasks      | elapsed:    1.1s\n",
      "[Parallel(n_jobs=8)]: Done 434 tasks      | elapsed:    2.4s\n",
      "[Parallel(n_jobs=8)]: Done 784 tasks      | elapsed:    4.8s\n",
      "[Parallel(n_jobs=8)]: Done 1234 tasks      | elapsed:    6.8s\n",
      "[Parallel(n_jobs=8)]: Done 1784 tasks      | elapsed:   11.3s\n",
      "[Parallel(n_jobs=8)]: Done 2434 tasks      | elapsed:   13.2s\n",
      "[Parallel(n_jobs=8)]: Done 3184 tasks      | elapsed:   16.6s\n",
      "[Parallel(n_jobs=8)]: Done 4034 tasks      | elapsed:   22.8s\n",
      "[Parallel(n_jobs=8)]: Done 4984 tasks      | elapsed:   30.0s\n",
      "[Parallel(n_jobs=8)]: Done 6034 tasks      | elapsed:   35.0s\n",
      "[Parallel(n_jobs=8)]: Done 7184 tasks      | elapsed:   40.4s\n",
      "[Parallel(n_jobs=8)]: Done 8434 tasks      | elapsed:   45.8s\n",
      "[Parallel(n_jobs=8)]: Done 9784 tasks      | elapsed:   56.7s\n",
      "[Parallel(n_jobs=8)]: Done 11234 tasks      | elapsed:  1.1min\n",
      "[Parallel(n_jobs=8)]: Done 12784 tasks      | elapsed:  1.3min\n",
      "[Parallel(n_jobs=8)]: Done 14434 tasks      | elapsed:  1.5min\n",
      "[Parallel(n_jobs=8)]: Done 16184 tasks      | elapsed:  1.7min\n",
      "[Parallel(n_jobs=8)]: Done 18034 tasks      | elapsed:  1.8min\n",
      "[Parallel(n_jobs=8)]: Done 19984 tasks      | elapsed:  1.9min\n",
      "[Parallel(n_jobs=8)]: Done 20000 out of 20000 | elapsed:  1.9min finished\n"
     ]
    },
    {
     "data": {
      "text/plain": [
       "{'Num objects': 5176,\n",
       " 'Std': 0.06,\n",
       " 'NMAD': 0.016,\n",
       " 'Mean': -0.0041,\n",
       " '% outl_15': 2.57}"
      ]
     },
     "execution_count": 8,
     "metadata": {},
     "output_type": "execute_result"
    }
   ],
   "source": [
    "X=catWork[ratios]\n",
    "Y=catWork[zspeccolumn]\n",
    "X_train=X[0:14000]\n",
    "Y_train=Y[0:14000]\n",
    "X_test=X[14000:]\n",
    "Y_test=Y[14000:]\n",
    "\n",
    "regr = RandomForestRegressor(random_state=0,n_estimators=20000,criterion='mse',n_jobs=-1,verbose=1)\n",
    "regr.fit(X_train, Y_train)\n",
    "df=pd.DataFrame(columns=[zspeccolumn,'photoZ'])\n",
    "df[zspeccolumn]=Y_test\n",
    "df['photoZ']=regr.predict(X_test)\n",
    "df=residCol(df,colSpectrZ=zspeccolumn, colPhotoZ='photoZ',colResid='resid')\n",
    "func_stat.statResid(df,colResid='resid')"
   ]
  },
  {
   "cell_type": "code",
   "execution_count": 26,
   "metadata": {},
   "outputs": [],
   "source": [
    "import numpy as np"
   ]
  },
  {
   "cell_type": "code",
   "execution_count": 36,
   "metadata": {},
   "outputs": [
    {
     "data": {
      "text/plain": [
       "(array([  46.,   48.,   66.,  216.,  556., 1226., 2567., 4407., 5770.,\n",
       "        4274.]),\n",
       " array([-1.68848865, -1.51172528, -1.33496191, -1.15819854, -0.98143517,\n",
       "        -0.8046718 , -0.62790843, -0.45114506, -0.27438169, -0.09761832,\n",
       "         0.07914505]),\n",
       " <a list of 10 Patch objects>)"
      ]
     },
     "execution_count": 36,
     "metadata": {},
     "output_type": "execute_result"
    },
    {
     "data": {
      "image/png": "[encoded data removed]",
      "text/plain": [
       "<Figure size 432x288 with 1 Axes>"
      ]
     },
     "metadata": {
      "needs_background": "light"
     },
     "output_type": "display_data"
    }
   ],
   "source": [
    "plt.hist(np.log10(catWork[zspeccolumn]))"
   ]
  },
  {
   "cell_type": "code",
   "execution_count": null,
   "metadata": {},
   "outputs": [],
   "source": []
  }
 ],
 "metadata": {
  "kernelspec": {
   "display_name": "Python 3",
   "language": "python",
   "name": "python3"
  },
  "language_info": {
   "codemirror_mode": {
    "name": "ipython",
    "version": 3
   },
   "file_extension": ".py",
   "mimetype": "text/x-python",
   "name": "python",
   "nbconvert_exporter": "python",
   "pygments_lexer": "ipython3",
   "version": "3.6.7"
  }
 },
 "nbformat": 4,
 "nbformat_minor": 2
}
