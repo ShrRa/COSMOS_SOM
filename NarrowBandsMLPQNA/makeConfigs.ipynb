{
 "cells": [
  {
   "cell_type": "code",
   "execution_count": 1,
   "metadata": {},
   "outputs": [],
   "source": [
    "import os\n",
    "import pandas as pd \n",
    "import shutil\n",
    "import configparser"
   ]
  },
  {
   "cell_type": "code",
   "execution_count": 2,
   "metadata": {},
   "outputs": [],
   "source": [
    "def getBandsIndexes(cat,bands):\n",
    "    return [list(cat.columns).index(c)+1 for c in bands]"
   ]
  },
  {
   "cell_type": "code",
   "execution_count": 19,
   "metadata": {},
   "outputs": [],
   "source": [
    "def makeConfig(dirCat:str,fileNameCat:str,idcolumn:str,zspeccolumn:str,\n",
    "               features:list,expNum:int,dirConfigs:str,configName:str,\n",
    "               dirPath:str=r'Sources\\COSMOS_photoZ\\COSMOS_v3.0\\experimentsArticle\\NarrowBandRatios',\n",
    "               epochs:int=20000,crossValidation=0):\n",
    "    \n",
    "    cat=pd.read_csv(os.path.join(dirCat,fileNameCat))\n",
    "    headers=list(cat)\n",
    "    idcolumnidx=str(int(headers.index('Seq')+1))\n",
    "    zspeccolumnidx=str(int(headers.index(zspeccolumn)+1))\n",
    "    featuresIdx=getBandsIndexes(cat,features)\n",
    "    featuresIdxStr=','.join(str(x) for x in featuresIdx)\n",
    "    nNeuronsLayer1=str(int(2*len(featuresIdx)+1))\n",
    "    nNeuronsLayer2=str(int(len(featuresIdx)-1))\n",
    "\n",
    "    newIni='exp'+str(expNum).zfill(3)+'_'+configName+'.ini'\n",
    "    shutil.copyfile(os.path.join(dirConfigs,fileConfigExample),os.path.join(dirConfigs,newIni))\n",
    "    parser=configparser.RawConfigParser()\n",
    "    parser.read(os.path.join(dirConfigs,newIni))\n",
    "    parser.set('Train Input Info','photoColumnIdxList',featuresIdxStr)\n",
    "    parser.set('Train Input Info','dirPath',dirCat)\n",
    "    parser.set('Train Input Info','idcolumnidx',idcolumnidx)\n",
    "    parser.set('Train Input Info','zspeccolumnidx',zspeccolumnidx)\n",
    "    parser.set('Train Input Info','name',fileNameCat)\n",
    "    parser.set('Test Input Info','photoColumnIdxList',featuresIdxStr)\n",
    "    parser.set('Test Input Info','name',fileNameCat)\n",
    "    parser.set('Test Input Info','dirPath',dirCat)\n",
    "    parser.set('Test Input Info','idcolumnidx',idcolumnidx)\n",
    "    parser.set('Test Input Info','zspeccolumnidx',zspeccolumnidx)\n",
    "    parser.set('Output Info','dirpath',\n",
    "               dirPath+'\\exp'+str(expNum).zfill(3))\n",
    "    parser.set('Output Info','modelSubDirName','ex'+str(expNum).zfill(3))\n",
    "    parser.set('Learning Info','nHiddenNeurons',nNeuronsLayer1+','+nNeuronsLayer2)\n",
    "    parser.set('Learning Info','epochs',epochs)\n",
    "    parser.set('Learning Info','crossValidation',crossValidation)\n",
    "    parser.set('Train Output Info','nameSuffix','_'+fileNameCat)\n",
    "    parser.set('Test Output Info','nameSuffix','_'+fileNameCat)\n",
    "    parser.set('Log Info','nameSuffix','_'+fileNameCat)\n",
    "    parser.set('Restart Info','nameSuffix','_'+fileNameCat)\n",
    "\n",
    "    with open(os.path.join(dirConfigs,newIni), 'w') as configfile:\n",
    "        parser.write(configfile)\n",
    "    return"
   ]
  },
  {
   "cell_type": "code",
   "execution_count": 10,
   "metadata": {},
   "outputs": [],
   "source": [
    "dirCat=r'D:\\Sources\\COSMOS_photoZ\\COSMOS_v3.0\\catalogs\\forPaper\\v05'\n",
    "dirConfigs=r'D:\\Sources\\COSMOS_photoZ\\COSMOS_v3.0\\configsArticle\\NarrowBandsRatios'\n",
    "fileConfigExample=r'exXX_phz_z_ConfigExample.ini'\n",
    "expNum=46\n",
    "fileNameCat=r'05_COSMOS_SpectrZ_Zlim_1p2_AllBands_colors_ratios.csv'\n",
    "idcolumn='Seq'\n",
    "zspeccolumn='z_spec'\n",
    "cat=pd.read_csv(os.path.join(dirCat,fileNameCat))"
   ]
  },
  {
   "cell_type": "code",
   "execution_count": 5,
   "metadata": {},
   "outputs": [],
   "source": [
    "bands={'Vis':['B','V','r','ip','zpp'],\n",
    "      'UV':['u'],\n",
    "      'IR':['Y','J','H','Ks']}\n",
    "ratios=['B/IA484', 'B/IA527', 'V/IA484', 'V/IA527', 'V/IA624', \n",
    "        'r/IA527', 'r/IA624', 'r/IA679', 'r/IA738', 'r/NB711', \n",
    "        'ip/IA624', 'ip/IA679', 'ip/IA738', 'ip/IA767', 'ip/NB711',\n",
    "        'ip/NB816', 'zpp/NB816']"
   ]
  },
  {
   "cell_type": "code",
   "execution_count": 6,
   "metadata": {},
   "outputs": [],
   "source": [
    "for key,val in bands.items():\n",
    "    blist=[b+'magap3' for b in val]\n",
    "    bands[key]=blist"
   ]
  },
  {
   "cell_type": "code",
   "execution_count": 11,
   "metadata": {},
   "outputs": [],
   "source": [
    "fsetName='NarrowBandRatios'\n",
    "fset=bands['Vis']+bands['UV']+bands['IR']+ratios\n",
    "makeConfig(dirCat,fileNameCat,idcolumn='Seq',zspeccolumn=zspeccolumn,\n",
    "           features=fset,expNum=expNum,dirConfigs=dirConfigs,\n",
    "               configName=fileNameCat.replace('.csv','')+'_'+fsetName,\n",
    "           dirPath=r'Sources\\COSMOS_photoZ\\COSMOS_v3.0\\experimentsArticle\\NarrowBandsRatios')\n",
    "expNum+=1 "
   ]
  },
  {
   "cell_type": "code",
   "execution_count": null,
   "metadata": {},
   "outputs": [
    {
     "name": "stdout",
     "output_type": "stream",
     "text": [
      "D:\\Sources\\COSMOS_photoZ\\COSMOS_v3.0\\configsArticle\\NarrowBandsRatios\\exp046_05_COSMOS_SpectrZ_Zlim_1p2_AllBands_colors_ratios_NarrowBandRatios.ini\n"
     ]
    }
   ],
   "source": [
    "os.chdir('D:\\\\')\n",
    "\n",
    "confIds=['exp046']\n",
    "\n",
    "for confID in confIds:\n",
    "    conf=os.path.join(dirConfigs,next(f for f in os.listdir(dirConfigs) if f.startswith(confID)))\n",
    "    print(conf)\n",
    "    os.system('metaphor_pipeline '+conf)\n",
    "    print('Ready')"
   ]
  },
  {
   "cell_type": "code",
   "execution_count": 13,
   "metadata": {},
   "outputs": [],
   "source": [
    "fsetName='NarrowBandRatiosOnly'\n",
    "fset=ratios\n",
    "makeConfig(dirCat,fileNameCat,idcolumn='Seq',zspeccolumn=zspeccolumn,\n",
    "           features=fset,expNum=expNum,dirConfigs=dirConfigs,\n",
    "               configName=fileNameCat.replace('.csv','')+'_'+fsetName,\n",
    "           dirPath=r'Sources\\COSMOS_photoZ\\COSMOS_v3.0\\experimentsArticle\\NarrowBandsRatios') \n",
    "expNum+=1"
   ]
  },
  {
   "cell_type": "code",
   "execution_count": 14,
   "metadata": {},
   "outputs": [
    {
     "data": {
      "text/plain": [
       "48"
      ]
     },
     "execution_count": 14,
     "metadata": {},
     "output_type": "execute_result"
    }
   ],
   "source": [
    "expNum"
   ]
  },
  {
   "cell_type": "code",
   "execution_count": 15,
   "metadata": {},
   "outputs": [
    {
     "name": "stdout",
     "output_type": "stream",
     "text": [
      "D:\\Sources\\COSMOS_photoZ\\COSMOS_v3.0\\configsArticle\\NarrowBandsRatios\\exp047_05_COSMOS_SpectrZ_Zlim_1p2_AllBands_colors_ratios_NarrowBandRatiosOnly.ini\n",
      "Ready\n"
     ]
    }
   ],
   "source": [
    "os.chdir('D:\\\\')\n",
    "\n",
    "confIds=['exp047']\n",
    "\n",
    "for confID in confIds:\n",
    "    conf=os.path.join(dirConfigs,next(f for f in os.listdir(dirConfigs) if f.startswith(confID)))\n",
    "    print(conf)\n",
    "    os.system('metaphor_pipeline '+conf)\n",
    "    print('Ready')"
   ]
  },
  {
   "cell_type": "code",
   "execution_count": 17,
   "metadata": {},
   "outputs": [],
   "source": [
    "fsetName='NarrowBandRatiosSel'\n",
    "fset=bands['UV']+bands['IR']+ratios\n",
    "makeConfig(dirCat,fileNameCat,idcolumn='Seq',zspeccolumn=zspeccolumn,\n",
    "           features=fset,expNum=expNum,dirConfigs=dirConfigs,\n",
    "               configName=fileNameCat.replace('.csv','')+'_'+fsetName,\n",
    "           dirPath=r'Sources\\COSMOS_photoZ\\COSMOS_v3.0\\experimentsArticle\\NarrowBandsRatios',\n",
    "          epochs=30000)\n",
    "expNum+=1 "
   ]
  },
  {
   "cell_type": "code",
   "execution_count": 18,
   "metadata": {},
   "outputs": [
    {
     "name": "stdout",
     "output_type": "stream",
     "text": [
      "D:\\Sources\\COSMOS_photoZ\\COSMOS_v3.0\\configsArticle\\NarrowBandsRatios\\exp048_05_COSMOS_SpectrZ_Zlim_1p2_AllBands_colors_ratios_NarrowBandRatiosSel.ini\n",
      "Ready\n"
     ]
    }
   ],
   "source": [
    "os.chdir('D:\\\\')\n",
    "\n",
    "confIds=['exp048']\n",
    "\n",
    "for confID in confIds:\n",
    "    conf=os.path.join(dirConfigs,next(f for f in os.listdir(dirConfigs) if f.startswith(confID)))\n",
    "    print(conf)\n",
    "    os.system('metaphor_pipeline '+conf)\n",
    "    print('Ready')"
   ]
  },
  {
   "cell_type": "code",
   "execution_count": 20,
   "metadata": {},
   "outputs": [
    {
     "data": {
      "text/plain": [
       "49"
      ]
     },
     "execution_count": 20,
     "metadata": {},
     "output_type": "execute_result"
    }
   ],
   "source": [
    "expNum"
   ]
  },
  {
   "cell_type": "code",
   "execution_count": 21,
   "metadata": {},
   "outputs": [],
   "source": [
    "fsetName='NarrowBandRatiosSel'\n",
    "fset=bands['UV']+bands['IR']+ratios\n",
    "makeConfig(dirCat,fileNameCat,idcolumn='Seq',zspeccolumn=zspeccolumn,\n",
    "           features=fset,expNum=expNum,dirConfigs=dirConfigs,\n",
    "               configName=fileNameCat.replace('.csv','')+'_'+fsetName,\n",
    "           dirPath=r'Sources\\COSMOS_photoZ\\COSMOS_v3.0\\experimentsArticle\\NarrowBandsRatios',\n",
    "          epochs=30000,crossValidation=1)\n",
    "expNum+=1 "
   ]
  },
  {
   "cell_type": "code",
   "execution_count": 22,
   "metadata": {},
   "outputs": [
    {
     "name": "stdout",
     "output_type": "stream",
     "text": [
      "D:\\Sources\\COSMOS_photoZ\\COSMOS_v3.0\\configsArticle\\NarrowBandsRatios\\exp049_05_COSMOS_SpectrZ_Zlim_1p2_AllBands_colors_ratios_NarrowBandRatiosSel.ini\n",
      "Ready\n"
     ]
    }
   ],
   "source": [
    "os.chdir('D:\\\\')\n",
    "\n",
    "confIds=['exp049']\n",
    "\n",
    "for confID in confIds:\n",
    "    conf=os.path.join(dirConfigs,next(f for f in os.listdir(dirConfigs) if f.startswith(confID)))\n",
    "    print(conf)\n",
    "    os.system('metaphor_pipeline '+conf)\n",
    "    print('Ready')"
   ]
  },
  {
   "cell_type": "code",
   "execution_count": null,
   "metadata": {},
   "outputs": [],
   "source": []
  }
 ],
 "metadata": {
  "kernelspec": {
   "display_name": "Python 3",
   "language": "python",
   "name": "python3"
  },
  "language_info": {
   "codemirror_mode": {
    "name": "ipython",
    "version": 3
   },
   "file_extension": ".py",
   "mimetype": "text/x-python",
   "name": "python",
   "nbconvert_exporter": "python",
   "pygments_lexer": "ipython3",
   "version": "3.6.7"
  }
 },
 "nbformat": 4,
 "nbformat_minor": 2
}
