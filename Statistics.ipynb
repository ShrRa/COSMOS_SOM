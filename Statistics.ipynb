{
 "cells": [
  {
   "cell_type": "markdown",
   "metadata": {},
   "source": [
    "### Table of contents\n",
    "[Predefined functions](#funcs)\n",
    "\n",
    "[Parameters, filenames and directories](#params)\n",
    "\n",
    "[Reading maps and catalogs](#read)\n",
    "\n",
    "[SpecZ outlier filtering](#specZ)\n",
    "\n",
    "[PhotoZ outlier filtering](#photoZ)\n",
    "\n",
    "[ActivMap filtering](#activMap)"
   ]
  },
  {
   "cell_type": "code",
   "execution_count": 18,
   "metadata": {},
   "outputs": [],
   "source": [
    "import matplotlib.cm as cm\n",
    "import matplotlib.pyplot as plt\n",
    "import numpy as np\n",
    "import pandas as pd\n",
    "from func_maps import readMaps\n",
    "from func_stat import *\n",
    "from func_visualizations import *\n",
    "from os.path import join\n",
    "from ast import literal_eval"
   ]
  },
  {
   "cell_type": "markdown",
   "metadata": {},
   "source": [
    "### Parameters, filenames and directories\n",
    "<a id='params'>#params<a>"
   ]
  },
  {
   "cell_type": "code",
   "execution_count": 12,
   "metadata": {},
   "outputs": [],
   "source": [
    "### Files and directories ###\n",
    "dirSOM=r'D:\\Sources\\COSMOS_photoZ\\COSMOS_v3.0\\SOM\\forArticle'\n",
    "nameOfExperiment='ex017'\n",
    "dirMaps=join(dirSOM,nameOfExperiment,'maps')\n",
    "dirPlots=join(dirSOM,nameOfExperiment,'plots')\n",
    "dirDatasets=join(dirSOM,nameOfExperiment,'datasets')\n",
    "mapsAllKeys=['mapsTrainOnTrain','mapsTestOnTrain','mapsDeimosOnTrain','mapsRunOnTrain',\n",
    "             'mapsTrainOnRun','mapsTestOnRun','mapsDeimosOnRun','mapsRunOnRun',\n",
    "             'mapsTrainOnRunBig','mapsTestOnRunBig','mapsDeimosOnRunBig','mapsRunOnRunBig']"
   ]
  },
  {
   "cell_type": "code",
   "execution_count": 24,
   "metadata": {},
   "outputs": [],
   "source": [
    "datasetNames={'Train':r'05_COSMOS_SpectrZ_Zlim_1p2_SOMinfo.csv',\n",
    "              'Test':r'05_COSMOS_SpectrZ_Zlim_1p2_Test_SOMinfo.csv',\n",
    "              'Deimos':r'04_COSMOS2015_run_WorkBands_SOMinfo.csv',\n",
    "              'Run':r'04_COSMOS_DEIMOS_QfFilter_SOMinfo.csv'}"
   ]
  },
  {
   "cell_type": "code",
   "execution_count": 14,
   "metadata": {},
   "outputs": [],
   "source": [
    "idCol='Seq'\n",
    "specZ='specZ'\n",
    "photoZ_ML='photoZ_ML'\n",
    "photoZ_SED='photoZ_SED'\n",
    "residML='resid_ML'\n",
    "residSED='resid_SED'\n",
    "residML_SED='residML_SED'\n",
    "quantErr='quantErr'"
   ]
  },
  {
   "cell_type": "code",
   "execution_count": 15,
   "metadata": {},
   "outputs": [],
   "source": [
    "### Format for saving images ###\n",
    "imSaveFormat='.png'\n",
    "#imSaveFormat='.eps'"
   ]
  },
  {
   "cell_type": "markdown",
   "metadata": {},
   "source": [
    "### Reading datasets\n",
    "<a id='read'>#read<a>"
   ]
  },
  {
   "cell_type": "code",
   "execution_count": 26,
   "metadata": {},
   "outputs": [],
   "source": [
    "datasets={}\n",
    "cellIDs=['cellID_TrainSOM','cellID_RunSOM','cellID_RunBigSOM']\n",
    "for key,val in datasetNames.items():\n",
    "    datasets[key]=pd.read_csv(join(dirDatasets,val))\n",
    "    for cellID in cellIDs:\n",
    "        datasets[key][cellID]=[literal_eval(x) for x in datasets[key][cellID]]"
   ]
  },
  {
   "cell_type": "markdown",
   "metadata": {},
   "source": [
    "### SpecZ outlier filtering\n",
    "<a id='specZ'>#specZ<a>"
   ]
  },
  {
   "cell_type": "code",
   "execution_count": null,
   "metadata": {},
   "outputs": [],
   "source": [
    "### Calculate statistics for objects with different outlCoeff ###\n"
   ]
  },
  {
   "cell_type": "code",
   "execution_count": null,
   "metadata": {},
   "outputs": [],
   "source": [
    "### Plot statistics for different outlCoeff ###\n"
   ]
  }
 ],
 "metadata": {
  "kernelspec": {
   "display_name": "Python 3",
   "language": "python",
   "name": "python3"
  },
  "language_info": {
   "codemirror_mode": {
    "name": "ipython",
    "version": 3
   },
   "file_extension": ".py",
   "mimetype": "text/x-python",
   "name": "python",
   "nbconvert_exporter": "python",
   "pygments_lexer": "ipython3",
   "version": "3.6.7"
  }
 },
 "nbformat": 4,
 "nbformat_minor": 2
}
