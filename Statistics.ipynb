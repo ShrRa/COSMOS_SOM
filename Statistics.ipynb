{
 "cells": [
  {
   "cell_type": "markdown",
   "metadata": {},
   "source": [
    "### Table of contents\n",
    "[Predefined functions](#funcs)\n",
    "\n",
    "[Parameters, filenames and directories](#params)\n",
    "\n",
    "[Reading maps and catalogs](#read)\n",
    "\n",
    "[SpecZ outlier filtering](#specZ)\n",
    "\n",
    "[PhotoZ outlier filtering](#photoZ)\n",
    "\n",
    "[ActivMap filtering](#activMap)"
   ]
  },
  {
   "cell_type": "code",
   "execution_count": 18,
   "metadata": {},
   "outputs": [],
   "source": [
    "import matplotlib.cm as cm\n",
    "import matplotlib.pyplot as plt\n",
    "import numpy as np\n",
    "import pandas as pd\n",
    "from func_maps import readMaps\n",
    "from func_stat import *\n",
    "from func_visualizations import *\n",
    "from os.path import join\n",
    "from ast import literal_eval"
   ]
  },
  {
   "cell_type": "markdown",
   "metadata": {},
   "source": [
    "### Parameters, filenames and directories\n",
    "<a id='params'>#params<a>"
   ]
  },
  {
   "cell_type": "code",
   "execution_count": 12,
   "metadata": {},
   "outputs": [],
   "source": [
    "### Files and directories ###\n",
    "dirSOM=r'D:\\Sources\\COSMOS_photoZ\\COSMOS_v3.0\\SOM\\forArticle'\n",
    "nameOfExperiment='ex017'\n",
    "dirMaps=join(dirSOM,nameOfExperiment,'maps')\n",
    "dirPlots=join(dirSOM,nameOfExperiment,'plots')\n",
    "dirDatasets=join(dirSOM,nameOfExperiment,'datasets')\n",
    "mapsAllKeys=['mapsTrainOnTrain','mapsTestOnTrain','mapsDeimosOnTrain','mapsRunOnTrain',\n",
    "             'mapsTrainOnRun','mapsTestOnRun','mapsDeimosOnRun','mapsRunOnRun',\n",
    "             'mapsTrainOnRunBig','mapsTestOnRunBig','mapsDeimosOnRunBig','mapsRunOnRunBig']"
   ]
  },
  {
   "cell_type": "code",
   "execution_count": 13,
   "metadata": {},
   "outputs": [],
   "source": [
    "nameTrain=r'05_COSMOS_SpectrZ_Zlim_1p2_SOMinfo.csv'\n",
    "nameTest=r'05_COSMOS_SpectrZ_Zlim_1p2_Test_SOMinfo.csv'\n",
    "nameRun=r'04_COSMOS2015_run_WorkBands_SOMinfo.csv'\n",
    "nameDeimos=r'04_COSMOS_DEIMOS_QfFilter_SOMinfo.csv'"
   ]
  },
  {
   "cell_type": "code",
   "execution_count": 14,
   "metadata": {},
   "outputs": [],
   "source": [
    "idCol='Seq'\n",
    "specZ='specZ'\n",
    "photoZ_ML='photoZ_ML'\n",
    "photoZ_SED='photoZ_SED'\n",
    "residML='resid_ML'\n",
    "residSED='resid_SED'\n",
    "residML_SED='residML_SED'\n",
    "quantErr='quantErr'"
   ]
  },
  {
   "cell_type": "code",
   "execution_count": 15,
   "metadata": {},
   "outputs": [],
   "source": [
    "### Format for saving images ###\n",
    "imSaveFormat='.png'\n",
    "#imSaveFormat='.eps'"
   ]
  },
  {
   "cell_type": "markdown",
   "metadata": {},
   "source": [
    "### Reading datasets\n",
    "<a id='read'>#read<a>"
   ]
  },
  {
   "cell_type": "code",
   "execution_count": 16,
   "metadata": {},
   "outputs": [],
   "source": [
    "dataTrain=pd.read_csv(join(dirDatasets,nameTrain))\n",
    "dataDeimos=pd.read_csv(join(dirDatasets,nameDeimos))\n",
    "dataRun=pd.read_csv(join(dirDatasets,nameRun))\n",
    "dataTest=pd.read_csv(join(dirDatasets,nameTest))"
   ]
  },
  {
   "cell_type": "code",
   "execution_count": 19,
   "metadata": {},
   "outputs": [],
   "source": [
    "dataset=dataTrain\n",
    "dataset[\"cellID_TrainSOM\"]=[literal_eval(x) for x in dataset['cellID_TrainSOM']]\n",
    "dataset[\"cellID_RunSOM\"]=[literal_eval(x) for x in dataset['cellID_RunSOM']]\n",
    "dataset[\"cellID_RunBigSOM\"]=[literal_eval(x) for x in dataset['cellID_RunBigSOM']]\n",
    "\n",
    "dataset=dataTest\n",
    "dataset[\"cellID_TrainSOM\"]=[literal_eval(x) for x in dataset['cellID_TrainSOM']]\n",
    "dataset[\"cellID_RunSOM\"]=[literal_eval(x) for x in dataset['cellID_RunSOM']]\n",
    "dataset[\"cellID_RunBigSOM\"]=[literal_eval(x) for x in dataset['cellID_RunBigSOM']]\n",
    "\n",
    "dataset=dataDeimos\n",
    "dataset[\"cellID_TrainSOM\"]=[literal_eval(x) for x in dataset['cellID_TrainSOM']]\n",
    "dataset[\"cellID_RunSOM\"]=[literal_eval(x) for x in dataset['cellID_RunSOM']]\n",
    "dataset[\"cellID_RunBigSOM\"]=[literal_eval(x) for x in dataset['cellID_RunBigSOM']]\n",
    "\n",
    "dataset=dataRun\n",
    "dataset[\"cellID_TrainSOM\"]=[literal_eval(x) for x in dataset['cellID_TrainSOM']]\n",
    "dataset[\"cellID_RunSOM\"]=[literal_eval(x) for x in dataset['cellID_RunSOM']]\n",
    "dataset[\"cellID_RunBigSOM\"]=[literal_eval(x) for x in dataset['cellID_RunBigSOM']]"
   ]
  },
  {
   "cell_type": "markdown",
   "metadata": {},
   "source": [
    "### SpecZ outlier filtering\n",
    "<a id='specZ'>#specZ<a>"
   ]
  },
  {
   "cell_type": "code",
   "execution_count": null,
   "metadata": {},
   "outputs": [],
   "source": []
  }
 ],
 "metadata": {
  "kernelspec": {
   "display_name": "Python 3",
   "language": "python",
   "name": "python3"
  },
  "language_info": {
   "codemirror_mode": {
    "name": "ipython",
    "version": 3
   },
   "file_extension": ".py",
   "mimetype": "text/x-python",
   "name": "python",
   "nbconvert_exporter": "python",
   "pygments_lexer": "ipython3",
   "version": "3.6.7"
  }
 },
 "nbformat": 4,
 "nbformat_minor": 2
}
