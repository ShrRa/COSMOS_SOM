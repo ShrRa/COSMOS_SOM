{
 "cells": [
  {
   "cell_type": "code",
   "execution_count": 1,
   "metadata": {},
   "outputs": [],
   "source": [
    "### import libraries ###\n",
    "#from astropy.io import fits\n",
    "#from astropy import table\n",
    "import os\n",
    "import pandas as pd\n",
    "from func_stat import statResid\n",
    "import matplotlib.pyplot as plt\n",
    "#import numpy as np"
   ]
  },
  {
   "cell_type": "code",
   "execution_count": 4,
   "metadata": {},
   "outputs": [],
   "source": [
    "dirCatalogs='/mnt/Data/Work/Sources/COSMOS/CatalogsFromWorkingPC/ex018/datasets'\n",
    "fileNameTest='05_COSMOS_SpectrZ_Zlim_1p2_Test_SOMinfo.csv'\n",
    "fileNameTrain='05_COSMOS_SpectrZ_Zlim_1p2_SOMinfo.csv'"
   ]
  },
  {
   "cell_type": "code",
   "execution_count": 12,
   "metadata": {},
   "outputs": [],
   "source": [
    "train=pd.read_csv(os.path.join(dirCatalogs,fileNameTrain))\n",
    "test=pd.read_csv(os.path.join(dirCatalogs,fileNameTest))"
   ]
  },
  {
   "cell_type": "code",
   "execution_count": 13,
   "metadata": {},
   "outputs": [],
   "source": [
    "from sklearn.ensemble import IsolationForest"
   ]
  },
  {
   "cell_type": "code",
   "execution_count": 16,
   "metadata": {},
   "outputs": [],
   "source": [
    "X_train=train[train['resid_ML']<=0.15]\n",
    "X_train=X_train[['Ksmagap3', 'Ymagap3', 'Hmagap3',\n",
    "       'Jmagap3', 'Bmagap3', 'Vmagap3', 'ipmagap3', 'rmagap3', 'umagap3',\n",
    "       'zppmagap3','specZ']]"
   ]
  },
  {
   "cell_type": "code",
   "execution_count": 20,
   "metadata": {},
   "outputs": [],
   "source": [
    "X_test=test[test['resid_ML']<=0.15]\n",
    "X_test=X_test[['Ksmagap3', 'Ymagap3', 'Hmagap3',\n",
    "       'Jmagap3', 'Bmagap3', 'Vmagap3', 'ipmagap3', 'rmagap3', 'umagap3',\n",
    "       'zppmagap3','specZ']]\n",
    "X_outliers=test[test['resid_ML']>0.15]\n",
    "X_outliers=X_outliers[['Ksmagap3', 'Ymagap3', 'Hmagap3',\n",
    "       'Jmagap3', 'Bmagap3', 'Vmagap3', 'ipmagap3', 'rmagap3', 'umagap3',\n",
    "       'zppmagap3','specZ']]"
   ]
  },
  {
   "cell_type": "code",
   "execution_count": 21,
   "metadata": {},
   "outputs": [
    {
     "name": "stderr",
     "output_type": "stream",
     "text": [
      "/home/alex/anaconda3/lib/python3.7/site-packages/sklearn/ensemble/iforest.py:237: FutureWarning: default contamination parameter 0.1 will change in version 0.22 to \"auto\". This will change the predict method behavior.\n",
      "  FutureWarning)\n",
      "/home/alex/anaconda3/lib/python3.7/site-packages/sklearn/ensemble/iforest.py:247: FutureWarning: behaviour=\"old\" is deprecated and will be removed in version 0.22. Please use behaviour=\"new\", which makes the decision_function change to match other anomaly detection algorithm API.\n",
      "  FutureWarning)\n",
      "/home/alex/anaconda3/lib/python3.7/site-packages/sklearn/ensemble/iforest.py:415: DeprecationWarning: threshold_ attribute is deprecated in 0.20 and will be removed in 0.22.\n",
      "  \" be removed in 0.22.\", DeprecationWarning)\n",
      "/home/alex/anaconda3/lib/python3.7/site-packages/sklearn/ensemble/iforest.py:415: DeprecationWarning: threshold_ attribute is deprecated in 0.20 and will be removed in 0.22.\n",
      "  \" be removed in 0.22.\", DeprecationWarning)\n",
      "/home/alex/anaconda3/lib/python3.7/site-packages/sklearn/ensemble/iforest.py:415: DeprecationWarning: threshold_ attribute is deprecated in 0.20 and will be removed in 0.22.\n",
      "  \" be removed in 0.22.\", DeprecationWarning)\n"
     ]
    }
   ],
   "source": [
    "# training the model\n",
    "clf = IsolationForest(max_samples=1000)\n",
    "clf.fit(X_train)\n",
    "\n",
    "# predictions\n",
    "y_pred_train = clf.predict(X_train)\n",
    "y_pred_test = clf.predict(X_test)\n",
    "y_pred_outliers = clf.predict(X_outliers)"
   ]
  },
  {
   "cell_type": "code",
   "execution_count": 22,
   "metadata": {},
   "outputs": [
    {
     "name": "stdout",
     "output_type": "stream",
     "text": [
      "Accuracy: 0.3333333333333333\n"
     ]
    }
   ],
   "source": [
    "print(\"Accuracy:\", list(y_pred_outliers).count(-1)/y_pred_outliers.shape[0])"
   ]
  },
  {
   "cell_type": "code",
   "execution_count": 23,
   "metadata": {},
   "outputs": [
    {
     "data": {
      "text/plain": [
       "array([ 1,  1, -1, -1,  1,  1,  1,  1,  1,  1,  1, -1, -1,  1,  1, -1, -1,\n",
       "       -1,  1,  1,  1, -1,  1, -1,  1,  1, -1,  1,  1,  1])"
      ]
     },
     "execution_count": 23,
     "metadata": {},
     "output_type": "execute_result"
    }
   ],
   "source": [
    "y_pred_outliers"
   ]
  },
  {
   "cell_type": "code",
   "execution_count": 25,
   "metadata": {},
   "outputs": [],
   "source": [
    "### Against objects with big SpecScatter"
   ]
  },
  {
   "cell_type": "code",
   "execution_count": 26,
   "metadata": {},
   "outputs": [],
   "source": [
    "### Working directories and file names ###\n",
    "dirCatalogs=r'/mnt/Data/Work/Sources/COSMOS/Catalogs/DuplicateCheck'\n",
    "os.chdir(dirCatalogs)\n",
    "\n",
    "testDuplInFileName=r\"Test_MSpecOrig_duplicatesIn.csv\""
   ]
  },
  {
   "cell_type": "code",
   "execution_count": 27,
   "metadata": {},
   "outputs": [],
   "source": [
    "test=pd.read_csv(testDuplInFileName)\n",
    "# INTify Seq column (aka ID)\n",
    "test['Seq']=test['Seq'].apply(int)\n",
    "# Fix 'Infinities'\n",
    "test.loc[test['specZ_outlCoeff']=='Infinity','specZ_outlCoeff']=-99.9\n",
    "test['specZ_outlCoeff']=test['specZ_outlCoeff'].astype(float)\n",
    "# Limit crazy spec-z\n",
    "test=test[(test['z_spec']>0) & (test['z_spec']<8)]"
   ]
  },
  {
   "cell_type": "code",
   "execution_count": 28,
   "metadata": {},
   "outputs": [],
   "source": [
    "# Creating a column where we calculate max difference between the measurements for every object\n",
    "test['SpecScatter']=0\n",
    "test['NumMeasurements']=0\n",
    "# Identifying and counting objects with multiple measurements\n",
    "test_uniq=test['Seq'].value_counts()\n",
    "# Calculating max difference between the measurements for every object \n",
    "for i in test_uniq[test_uniq>1].index:\n",
    "    diff=test.loc[test['Seq']==i,'z_spec'].max()-test.loc[test['Seq']==i,'z_spec'].min()\n",
    "    test.loc[test['Seq']==i,'SpecScatter']=diff\n",
    "    test.loc[test['Seq']==i,'NumMeasurements']=test_uniq[i]"
   ]
  },
  {
   "cell_type": "code",
   "execution_count": null,
   "metadata": {},
   "outputs": [],
   "source": [
    "X_test=test[test['resid_ML']<=0.15]\n",
    "X_test=X_test[['Ksmagap3', 'Ymagap3', 'Hmagap3',\n",
    "       'Jmagap3', 'Bmagap3', 'Vmagap3', 'ipmagap3', 'rmagap3', 'umagap3',\n",
    "       'zppmagap3','specZ']]\n",
    "X_outliers=test[test['resid_ML']>0.15]\n",
    "X_outliers=X_outliers[['Ksmagap3', 'Ymagap3', 'Hmagap3',\n",
    "       'Jmagap3', 'Bmagap3', 'Vmagap3', 'ipmagap3', 'rmagap3', 'umagap3',\n",
    "       'zppmagap3','specZ']]"
   ]
  }
 ],
 "metadata": {
  "kernelspec": {
   "display_name": "Python 3",
   "language": "python",
   "name": "python3"
  },
  "language_info": {
   "codemirror_mode": {
    "name": "ipython",
    "version": 3
   },
   "file_extension": ".py",
   "mimetype": "text/x-python",
   "name": "python",
   "nbconvert_exporter": "python",
   "pygments_lexer": "ipython3",
   "version": "3.6.7"
  }
 },
 "nbformat": 4,
 "nbformat_minor": 2
}
