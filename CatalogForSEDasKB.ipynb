{
 "cells": [
  {
   "cell_type": "code",
   "execution_count": 8,
   "metadata": {},
   "outputs": [],
   "source": [
    "import os\n",
    "import pandas as pd\n",
    "import matplotlib.pyplot as plt"
   ]
  },
  {
   "cell_type": "code",
   "execution_count": 2,
   "metadata": {},
   "outputs": [],
   "source": [
    "dirCatalogs=r'D:\\Sources\\COSMOS_photoZ\\COSMOS_v3.0\\SOM\\forArticle\\ex018\\datasets'\n",
    "fileNameTrain=r'05_COSMOS_SpectrZ_Zlim_1p2_SOMinfo.csv'\n",
    "fileNameTest=r'05_COSMOS_SpectrZ_Zlim_1p2_Test_SOMinfo.csv'\n",
    "fileNameRun=r'04_COSMOS2015_run_WorkBands_SOMinfo.csv'"
   ]
  },
  {
   "cell_type": "code",
   "execution_count": 4,
   "metadata": {},
   "outputs": [],
   "source": [
    "train=pd.read_csv(os.path.join(dirCatalogs,fileNameTrain))\n",
    "test=pd.read_csv(os.path.join(dirCatalogs,fileNameTest))\n",
    "run=pd.read_csv(os.path.join(dirCatalogs,fileNameRun))"
   ]
  },
  {
   "cell_type": "code",
   "execution_count": 10,
   "metadata": {},
   "outputs": [],
   "source": [
    "run=run[run['photoZ_SED']<1.2]"
   ]
  },
  {
   "cell_type": "code",
   "execution_count": 19,
   "metadata": {},
   "outputs": [],
   "source": [
    "run=run[run['photoZ_SED_outlCoeff'].abs()<1]\n",
    "run=run[run['trainMapOccupation']>5]"
   ]
  },
  {
   "cell_type": "code",
   "execution_count": 20,
   "metadata": {},
   "outputs": [
    {
     "data": {
      "text/plain": [
       "33865"
      ]
     },
     "execution_count": 20,
     "metadata": {},
     "output_type": "execute_result"
    }
   ],
   "source": [
    "len(run)"
   ]
  },
  {
   "cell_type": "code",
   "execution_count": 21,
   "metadata": {},
   "outputs": [
    {
     "data": {
      "text/plain": [
       "(array([ 171.,  269.,  494.,  381.,  491.,  759.,  621., 1070., 1688.,\n",
       "        1829., 1251.,  911., 1350., 1265., 1266., 1278., 1947., 1653.,\n",
       "        1707., 1198., 1808., 1862., 1829., 2098., 1786.,  653.,  481.,\n",
       "         501.,  649.,  599.]),\n",
       " array([0.005 , 0.0448, 0.0846, 0.1244, 0.1642, 0.204 , 0.2438, 0.2836,\n",
       "        0.3234, 0.3632, 0.403 , 0.4428, 0.4826, 0.5224, 0.5622, 0.602 ,\n",
       "        0.6418, 0.6816, 0.7214, 0.7612, 0.801 , 0.8408, 0.8806, 0.9204,\n",
       "        0.9602, 1.    , 1.0398, 1.0796, 1.1194, 1.1592, 1.199 ]),\n",
       " <a list of 30 Patch objects>)"
      ]
     },
     "execution_count": 21,
     "metadata": {},
     "output_type": "execute_result"
    },
    {
     "data": {
      "image/png": "[encoded data removed]",
      "text/plain": [
       "<Figure size 432x288 with 1 Axes>"
      ]
     },
     "metadata": {
      "needs_background": "light"
     },
     "output_type": "display_data"
    }
   ],
   "source": [
    "plt.hist(run['photoZ_SED'],bins=30)"
   ]
  },
  {
   "cell_type": "code",
   "execution_count": 22,
   "metadata": {},
   "outputs": [],
   "source": [
    "train=train[train['photoZ_SED']<1.2]\n",
    "train=train[train['photoZ_SED_outlCoeff'].abs()<1]\n",
    "train=train[train['trainMapOccupation']>5]\n",
    "test=test[test['photoZ_SED']<1.2]\n",
    "test=test[test['photoZ_SED_outlCoeff'].abs()<1]\n",
    "test=test[test['trainMapOccupation']>5]"
   ]
  },
  {
   "cell_type": "code",
   "execution_count": 26,
   "metadata": {},
   "outputs": [
    {
     "data": {
      "text/plain": [
       "[None, None, None, None, None, None]"
      ]
     },
     "execution_count": 26,
     "metadata": {},
     "output_type": "execute_result"
    }
   ],
   "source": [
    "[test.drop(c,inplace=True,axis=1) for c in (set(train.columns)-set(run.columns))]\n",
    "[train.drop(c,inplace=True,axis=1) for c in (set(train.columns)-set(run.columns))]"
   ]
  },
  {
   "cell_type": "code",
   "execution_count": 30,
   "metadata": {},
   "outputs": [
    {
     "name": "stderr",
     "output_type": "stream",
     "text": [
      "C:\\Anaconda3\\envs\\py36\\lib\\site-packages\\pandas\\core\\frame.py:7123: FutureWarning: Sorting because non-concatenation axis is not aligned. A future version\n",
      "of pandas will change to not sort by default.\n",
      "\n",
      "To accept the future behavior, pass 'sort=False'.\n",
      "\n",
      "To retain the current behavior and silence the warning, pass 'sort=True'.\n",
      "\n",
      "  sort=sort,\n"
     ]
    }
   ],
   "source": [
    "run=run.append(train).append(test)"
   ]
  },
  {
   "cell_type": "code",
   "execution_count": 33,
   "metadata": {},
   "outputs": [
    {
     "data": {
      "text/plain": [
       "Index(['Bmagap3', 'DEJ2000', 'Hmagap3', 'IB574ap3', 'Jmagap3', 'Ksmagap3',\n",
       "       'RAJ2000', 'Seq', 'Vmagap3', 'Ymagap3', 'cellID_RunBigSOM',\n",
       "       'cellID_RunSOM', 'cellID_TrainSOM', 'ipmagap3', 'photoZ_ML',\n",
       "       'photoZ_ML_outlCoeff', 'photoZ_SED', 'photoZ_SED_outlCoeff', 'quantErr',\n",
       "       'quantErr_outlCoeff', 'residML_SED', 'rmagap3', 'sc_Bmagap3',\n",
       "       'sc_Hmagap3', 'sc_Jmagap3', 'sc_Ksmagap3', 'sc_Vmagap3', 'sc_Ymagap3',\n",
       "       'sc_ipmagap3', 'sc_rmagap3', 'sc_umagap3', 'sc_zppmagap3',\n",
       "       'trainMapOccupation', 'umagap3', 'w_sc_Bmagap3', 'w_sc_Hmagap3',\n",
       "       'w_sc_Jmagap3', 'w_sc_Ksmagap3', 'w_sc_Vmagap3', 'w_sc_Ymagap3',\n",
       "       'w_sc_ipmagap3', 'w_sc_rmagap3', 'w_sc_umagap3', 'w_sc_zppmagap3',\n",
       "       'zppmagap3'],\n",
       "      dtype='object')"
      ]
     },
     "execution_count": 33,
     "metadata": {},
     "output_type": "execute_result"
    }
   ],
   "source": [
    "run.columns"
   ]
  },
  {
   "cell_type": "code",
   "execution_count": 35,
   "metadata": {},
   "outputs": [
    {
     "data": {
      "text/plain": [
       "['RAJ2000',\n",
       " 'DEJ2000',\n",
       " 'Seq',\n",
       " 'Ksmagap3',\n",
       " 'Ymagap3',\n",
       " 'Hmagap3',\n",
       " 'Jmagap3',\n",
       " 'Bmagap3',\n",
       " 'Vmagap3',\n",
       " 'ipmagap3',\n",
       " 'rmagap3',\n",
       " 'umagap3',\n",
       " 'zppmagap3',\n",
       " 'IB574ap3',\n",
       " 'photoZ_SED',\n",
       " 'sc_Ksmagap3',\n",
       " 'sc_Ymagap3',\n",
       " 'sc_Hmagap3',\n",
       " 'sc_Jmagap3',\n",
       " 'sc_Bmagap3',\n",
       " 'sc_Vmagap3',\n",
       " 'sc_ipmagap3',\n",
       " 'sc_rmagap3',\n",
       " 'sc_umagap3',\n",
       " 'sc_zppmagap3',\n",
       " 'photoZ_ML',\n",
       " 'residML_SED',\n",
       " 'w_sc_Ksmagap3',\n",
       " 'w_sc_Ymagap3',\n",
       " 'w_sc_Hmagap3',\n",
       " 'w_sc_Jmagap3',\n",
       " 'w_sc_Bmagap3',\n",
       " 'w_sc_Vmagap3',\n",
       " 'w_sc_ipmagap3',\n",
       " 'w_sc_rmagap3',\n",
       " 'w_sc_umagap3',\n",
       " 'w_sc_zppmagap3',\n",
       " 'quantErr',\n",
       " 'cellID_TrainSOM',\n",
       " 'cellID_RunSOM',\n",
       " 'cellID_RunBigSOM',\n",
       " 'photoZ_ML_outlCoeff',\n",
       " 'photoZ_SED_outlCoeff',\n",
       " 'quantErr_outlCoeff',\n",
       " 'trainMapOccupation']"
      ]
     },
     "execution_count": 35,
     "metadata": {},
     "output_type": "execute_result"
    }
   ],
   "source": [
    "list(test.columns)"
   ]
  },
  {
   "cell_type": "code",
   "execution_count": 36,
   "metadata": {},
   "outputs": [],
   "source": [
    "runExp=run[list(test.columns)]"
   ]
  },
  {
   "cell_type": "code",
   "execution_count": 38,
   "metadata": {},
   "outputs": [],
   "source": [
    "runExp.to_csv(os.path.join(dirCatalogs,'06_COSMOS_SpectrZ_Zlim_1p2_Whole_SOMclean.csv'), index=False)"
   ]
  },
  {
   "cell_type": "code",
   "execution_count": 42,
   "metadata": {},
   "outputs": [],
   "source": [
    "dirCatalogs=r'D:\\Sources\\COSMOS_photoZ\\COSMOS_v3.0\\catalogs\\forPaper\\v06'\n",
    "fileNameRunFull=r'01_COSMOS2015_allBands.fits'\n",
    "from astropy.io import fits\n",
    "from astropy import table\n",
    "tabCOSMOS2015=table.Table.read(os.path.join(dirCatalogs,fileNameRunFull),format='fits')"
   ]
  },
  {
   "cell_type": "code",
   "execution_count": 43,
   "metadata": {},
   "outputs": [
    {
     "data": {
      "text/plain": [
       "Index(['RAJ2000', 'DEJ2000', 'Seq', 'Ksmagap2', 'e_Ksmagap2', 'Ksmagap3',\n",
       "       'e_Ksmagap3', 'Ksmag', 'e_Ksmag', 'KsmagISO',\n",
       "       ...\n",
       "       'e_4_5mag_2', '5_8mag_2', 'e_5_8mag_2', '8_0mag_2', 'e_8_0mag_2',\n",
       "       'NUVmag_2', 'e_NUVmag_2', 'FUVmag_2', 'e_FUVmag_2', 'zphot'],\n",
       "      dtype='object', length=226)"
      ]
     },
     "execution_count": 43,
     "metadata": {},
     "output_type": "execute_result"
    }
   ],
   "source": [
    "tabCOSMOS2015=tabCOSMOS2015.to_pandas()\n",
    "tabCOSMOS2015.columns"
   ]
  },
  {
   "cell_type": "code",
   "execution_count": 53,
   "metadata": {},
   "outputs": [],
   "source": [
    "runExp2=runExp.merge(tabCOSMOS2015,how='left',left_on='Seq',right_on='Seq')"
   ]
  },
  {
   "cell_type": "code",
   "execution_count": 54,
   "metadata": {},
   "outputs": [],
   "source": [
    "errCols=list(c for c in runExp2.columns if ('ap3' in c and ('IA' in c or 'IB' in c or 'NB' in c) and 'e_' in c))\n",
    "for c in errCols:\n",
    "    runExp2=runExp2[runExp2[c]>=0]\n",
    "    runExp2=runExp2[runExp2[c]<=1]"
   ]
  },
  {
   "cell_type": "code",
   "execution_count": 58,
   "metadata": {},
   "outputs": [],
   "source": [
    "runExp2=runExp2[runExp2['photoZ_SED']<1]"
   ]
  },
  {
   "cell_type": "code",
   "execution_count": 59,
   "metadata": {},
   "outputs": [
    {
     "data": {
      "text/plain": [
       "40164"
      ]
     },
     "execution_count": 59,
     "metadata": {},
     "output_type": "execute_result"
    }
   ],
   "source": [
    "len(runExp2)"
   ]
  },
  {
   "cell_type": "code",
   "execution_count": 63,
   "metadata": {},
   "outputs": [
    {
     "data": {
      "text/plain": [
       "[None, None, None, None, None, None, None, None, None, None, None, None, None]"
      ]
     },
     "execution_count": 63,
     "metadata": {},
     "output_type": "execute_result"
    }
   ],
   "source": [
    "[runExp2.drop(c, inplace=True,axis=1) for c in runExp2.columns if '_x' in c]"
   ]
  },
  {
   "cell_type": "code",
   "execution_count": 68,
   "metadata": {},
   "outputs": [],
   "source": [
    "for c in runExp2.columns:\n",
    "    if '_y' in c:\n",
    "        runExp2=runExp2.rename(columns={c:c.replace('_y','')})"
   ]
  },
  {
   "cell_type": "code",
   "execution_count": 72,
   "metadata": {},
   "outputs": [],
   "source": [
    "NbCols=list(c for c in runExp2.columns if ('ap3' in c and ('IA' in c or 'IB' in c or 'NB' in c) and 'e_' not in c))"
   ]
  },
  {
   "cell_type": "code",
   "execution_count": 79,
   "metadata": {
    "scrolled": true
   },
   "outputs": [],
   "source": [
    "runExp2=runExp2[list(test.columns)[:13]+NbCols+list(test.columns)[14:]]"
   ]
  },
  {
   "cell_type": "code",
   "execution_count": 81,
   "metadata": {},
   "outputs": [],
   "source": [
    "runExp2.to_csv(os.path.join(r'D:\\Sources\\COSMOS_photoZ\\COSMOS_v3.0\\SOM\\forArticle\\ex018\\datasets',\n",
    "                           '06_COSMOS_SpectrZ_Zlim_1_NBands_SOMclean.csv'), index=False)"
   ]
  },
  {
   "cell_type": "code",
   "execution_count": 88,
   "metadata": {},
   "outputs": [
    {
     "data": {
      "text/plain": [
       "27"
      ]
     },
     "execution_count": 88,
     "metadata": {},
     "output_type": "execute_result"
    }
   ],
   "source": [
    "list(runExp2.columns).index('NB816ap3')+1"
   ]
  },
  {
   "cell_type": "code",
   "execution_count": 92,
   "metadata": {},
   "outputs": [
    {
     "data": {
      "text/plain": [
       "34"
      ]
     },
     "execution_count": 92,
     "metadata": {},
     "output_type": "execute_result"
    }
   ],
   "source": [
    "17*2"
   ]
  },
  {
   "cell_type": "code",
   "execution_count": 86,
   "metadata": {},
   "outputs": [
    {
     "data": {
      "text/plain": [
       "['Ksmagap3',\n",
       " 'Ymagap3',\n",
       " 'Hmagap3',\n",
       " 'Jmagap3',\n",
       " 'Bmagap3',\n",
       " 'Vmagap3',\n",
       " 'ipmagap3',\n",
       " 'rmagap3',\n",
       " 'umagap3',\n",
       " 'zppmagap3',\n",
       " 'IA484ap3',\n",
       " 'IA527ap3',\n",
       " 'IA624ap3',\n",
       " 'IA679ap3',\n",
       " 'IA738ap3',\n",
       " 'IA767ap3',\n",
       " 'IB427ap3',\n",
       " 'IB464ap3',\n",
       " 'IB505ap3',\n",
       " 'IB574ap3',\n",
       " 'IB709ap3',\n",
       " 'IB827ap3',\n",
       " 'NB711ap3',\n",
       " 'NB816ap3',\n",
       " 'sc_Ksmagap3',\n",
       " 'sc_Ymagap3',\n",
       " 'sc_Hmagap3',\n",
       " 'sc_Jmagap3',\n",
       " 'sc_Bmagap3',\n",
       " 'sc_Vmagap3',\n",
       " 'sc_ipmagap3',\n",
       " 'sc_rmagap3',\n",
       " 'sc_umagap3',\n",
       " 'sc_zppmagap3',\n",
       " 'w_sc_Ksmagap3',\n",
       " 'w_sc_Ymagap3',\n",
       " 'w_sc_Hmagap3',\n",
       " 'w_sc_Jmagap3',\n",
       " 'w_sc_Bmagap3',\n",
       " 'w_sc_Vmagap3',\n",
       " 'w_sc_ipmagap3',\n",
       " 'w_sc_rmagap3',\n",
       " 'w_sc_umagap3',\n",
       " 'w_sc_zppmagap3']"
      ]
     },
     "execution_count": 86,
     "metadata": {},
     "output_type": "execute_result"
    }
   ],
   "source": [
    "[c for c in runExp2.columns if 'ap3' in c]"
   ]
  },
  {
   "cell_type": "code",
   "execution_count": null,
   "metadata": {},
   "outputs": [],
   "source": []
  }
 ],
 "metadata": {
  "kernelspec": {
   "display_name": "Python 3",
   "language": "python",
   "name": "python3"
  },
  "language_info": {
   "codemirror_mode": {
    "name": "ipython",
    "version": 3
   },
   "file_extension": ".py",
   "mimetype": "text/x-python",
   "name": "python",
   "nbconvert_exporter": "python",
   "pygments_lexer": "ipython3",
   "version": "3.6.7"
  }
 },
 "nbformat": 4,
 "nbformat_minor": 2
}
