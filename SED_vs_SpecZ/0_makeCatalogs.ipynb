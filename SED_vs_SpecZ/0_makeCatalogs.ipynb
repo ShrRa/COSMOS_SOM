{
 "cells": [
  {
   "cell_type": "code",
   "execution_count": 15,
   "metadata": {},
   "outputs": [],
   "source": [
    "import os\n",
    "import pandas as pd\n",
    "from astropy import table\n",
    "import matplotlib.pyplot as plt"
   ]
  },
  {
   "cell_type": "code",
   "execution_count": 16,
   "metadata": {},
   "outputs": [],
   "source": [
    "dirCat=r'D:\\Sources\\COSMOS_photoZ\\COSMOS_v3.0\\catalogs\\forPaper\\v06'\n",
    "dirCatCleaned=r'D:\\Sources\\COSMOS_photoZ\\COSMOS_v3.0\\SOM\\forArticle\\ex018\\datasets'\n",
    "fileNameCOSMOS2015=r'01_COSMOS2015_allBands.fits'\n",
    "fileNameTrain=r'05_COSMOS_SpectrZ_Zlim_1p2_SOMinfo.csv'\n",
    "fileNameTest=r'05_COSMOS_SpectrZ_Zlim_1p2_Test_SOMinfo.csv'\n",
    "fileNameRun=r'04_COSMOS2015_run_WorkBands_SOMinfo.csv'"
   ]
  },
  {
   "cell_type": "code",
   "execution_count": 17,
   "metadata": {},
   "outputs": [],
   "source": [
    "train=pd.read_csv(os.path.join(dirCatCleaned,fileNameTrain))\n",
    "test=pd.read_csv(os.path.join(dirCatCleaned,fileNameTest))\n",
    "tabCOSMOS2015=table.Table.read(os.path.join(dirCat,fileNameCOSMOS2015),format='fits')\n",
    "tabCOSMOS2015=tabCOSMOS2015.to_pandas()"
   ]
  },
  {
   "cell_type": "code",
   "execution_count": 18,
   "metadata": {},
   "outputs": [],
   "source": [
    "# Limit narrow-band errors\n",
    "data=tabCOSMOS2015\n",
    "errCols=list(c for c in data.columns if ('ap3' in c and ('IA' in c or 'IB' in c or 'NB' in c) and 'e_' in c))\n",
    "for c in errCols:\n",
    "    data=data[data[c]>=0]\n",
    "    data=data[data[c]<1]"
   ]
  },
  {
   "cell_type": "code",
   "execution_count": 19,
   "metadata": {},
   "outputs": [],
   "source": [
    "# Leave only the narrow bands + Seq column for merging\n",
    "NbCols=['Seq']+list(c for c in data.columns if ('ap3' in c and ('IA' in c or 'IB' in c or 'NB' in c) and 'e_' not in c))\n",
    "data=data[NbCols]"
   ]
  },
  {
   "cell_type": "code",
   "execution_count": null,
   "metadata": {},
   "outputs": [],
   "source": []
  },
  {
   "cell_type": "code",
   "execution_count": 20,
   "metadata": {},
   "outputs": [
    {
     "data": {
      "text/plain": [
       "Index(['RAJ2000', 'DEJ2000', 'Seq', 'Ksmagap3', 'Ymagap3', 'Hmagap3',\n",
       "       'Jmagap3', 'Bmagap3', 'Vmagap3', 'ipmagap3', 'rmagap3', 'umagap3',\n",
       "       'zppmagap3', 'photoZ_SED', 'specZ', 'Instr', 'Q_f', 'sc_Ksmagap3',\n",
       "       'sc_Ymagap3', 'sc_Hmagap3', 'sc_Jmagap3', 'sc_Bmagap3', 'sc_Vmagap3',\n",
       "       'sc_ipmagap3', 'sc_rmagap3', 'sc_umagap3', 'sc_zppmagap3', 'photoZ_ML',\n",
       "       'resid_ML', 'resid_SED', 'residML_SED', 'w_sc_Ksmagap3', 'w_sc_Ymagap3',\n",
       "       'w_sc_Hmagap3', 'w_sc_Jmagap3', 'w_sc_Bmagap3', 'w_sc_Vmagap3',\n",
       "       'w_sc_ipmagap3', 'w_sc_rmagap3', 'w_sc_umagap3', 'w_sc_zppmagap3',\n",
       "       'quantErr', 'cellID_TrainSOM', 'cellID_RunSOM', 'cellID_RunBigSOM',\n",
       "       'specZ_outlCoeff', 'photoZ_ML_outlCoeff', 'photoZ_SED_outlCoeff',\n",
       "       'quantErr_outlCoeff', 'trainMapOccupation'],\n",
       "      dtype='object')"
      ]
     },
     "execution_count": 20,
     "metadata": {},
     "output_type": "execute_result"
    }
   ],
   "source": [
    "KB=train.append(test,ignore_index=True,sort=False)\n",
    "KB.drop('IB574ap3',inplace=True,axis=1)\n",
    "KB.columns"
   ]
  },
  {
   "cell_type": "code",
   "execution_count": 21,
   "metadata": {},
   "outputs": [],
   "source": [
    "# Remove objects with photoZ_SED>1.2\n",
    "KB=KB[KB['photoZ_SED']<1.2]\n",
    "# Merge old photometry with narrow band photometry\n",
    "KB=KB.merge(data,how='inner',left_on='Seq',right_on='Seq')\n",
    "# Remove objects with photoZ_SED_outlCoeff>1, trainMapOccupation<5\n",
    "KBclean=KB[KB['trainMapOccupation']>5]\n",
    "KBcleanSED=KBclean[KBclean['photoZ_SED_outlCoeff'].abs()<1]\n",
    "KBcleanSpec=KBclean[KBclean['specZ_outlCoeff'].abs()<1]"
   ]
  },
  {
   "cell_type": "code",
   "execution_count": 23,
   "metadata": {},
   "outputs": [
    {
     "data": {
      "text/plain": [
       "Index(['RAJ2000', 'DEJ2000', 'Seq', 'Ksmagap3', 'Ymagap3', 'Hmagap3',\n",
       "       'Jmagap3', 'Bmagap3', 'Vmagap3', 'ipmagap3', 'rmagap3', 'umagap3',\n",
       "       'zppmagap3', 'photoZ_SED', 'specZ', 'Instr', 'Q_f', 'sc_Ksmagap3',\n",
       "       'sc_Ymagap3', 'sc_Hmagap3', 'sc_Jmagap3', 'sc_Bmagap3', 'sc_Vmagap3',\n",
       "       'sc_ipmagap3', 'sc_rmagap3', 'sc_umagap3', 'sc_zppmagap3', 'photoZ_ML',\n",
       "       'resid_ML', 'resid_SED', 'residML_SED', 'w_sc_Ksmagap3', 'w_sc_Ymagap3',\n",
       "       'w_sc_Hmagap3', 'w_sc_Jmagap3', 'w_sc_Bmagap3', 'w_sc_Vmagap3',\n",
       "       'w_sc_ipmagap3', 'w_sc_rmagap3', 'w_sc_umagap3', 'w_sc_zppmagap3',\n",
       "       'quantErr', 'cellID_TrainSOM', 'cellID_RunSOM', 'cellID_RunBigSOM',\n",
       "       'specZ_outlCoeff', 'photoZ_ML_outlCoeff', 'photoZ_SED_outlCoeff',\n",
       "       'quantErr_outlCoeff', 'trainMapOccupation', 'IA484ap3', 'IA527ap3',\n",
       "       'IA624ap3', 'IA679ap3', 'IA738ap3', 'IA767ap3', 'IB427ap3', 'IB464ap3',\n",
       "       'IB505ap3', 'IB574ap3', 'IB709ap3', 'IB827ap3', 'NB711ap3', 'NB816ap3'],\n",
       "      dtype='object')"
      ]
     },
     "execution_count": 23,
     "metadata": {},
     "output_type": "execute_result"
    }
   ],
   "source": [
    "KBcleanSpec.columns"
   ]
  },
  {
   "cell_type": "code",
   "execution_count": 24,
   "metadata": {},
   "outputs": [
    {
     "name": "stdout",
     "output_type": "stream",
     "text": [
      "No clean:  19231\n",
      "Occupation:  16977\n",
      "SED clean:  12252\n",
      "SpecZ clean:  12725\n"
     ]
    }
   ],
   "source": [
    "print('No clean: ',len(KB))\n",
    "print('Occupation: ',len(KBclean))\n",
    "print('SED clean: ',len(KBcleanSED))\n",
    "print('SpecZ clean: ',len(KBcleanSpec))"
   ]
  },
  {
   "cell_type": "code",
   "execution_count": 25,
   "metadata": {},
   "outputs": [
    {
     "data": {
      "text/plain": [
       "(array([0.0802967 , 0.50942334, 0.48967825, 0.84377355, 0.86088596,\n",
       "        1.91659015, 1.66253665, 0.87141668, 1.18207277, 0.90037614,\n",
       "        1.23604269, 1.68886344, 0.95697874, 0.94776436, 0.942499  ,\n",
       "        0.87931471, 0.40016718, 0.12900126, 0.1303176 , 0.12241956]),\n",
       " array([0.005 , 0.0647, 0.1244, 0.1841, 0.2438, 0.3035, 0.3632, 0.4229,\n",
       "        0.4826, 0.5423, 0.602 , 0.6617, 0.7214, 0.7811, 0.8408, 0.9005,\n",
       "        0.9602, 1.0199, 1.0796, 1.1393, 1.199 ]),\n",
       " <a list of 20 Patch objects>)"
      ]
     },
     "execution_count": 25,
     "metadata": {},
     "output_type": "execute_result"
    },
    {
     "data": {
      "image/png": "[encoded data removed]",
      "text/plain": [
       "<Figure size 432x288 with 1 Axes>"
      ]
     },
     "metadata": {
      "needs_background": "light"
     },
     "output_type": "display_data"
    }
   ],
   "source": [
    "plt.hist(KB['photoZ_SED'],bins=20,density=True)\n",
    "plt.hist(KBclean['photoZ_SED'],bins=20,density=True,alpha=0.4)\n",
    "plt.hist(KBcleanSED['photoZ_SED'],bins=20,density=True,alpha=0.4)\n",
    "plt.hist(KBcleanSpec['photoZ_SED'],bins=20,density=True,alpha=0.4)"
   ]
  },
  {
   "cell_type": "code",
   "execution_count": 28,
   "metadata": {},
   "outputs": [],
   "source": [
    "# Prepare datasets of small size for honest comparison\n",
    "catPrefix='06_CleanCompare_'\n",
    "prefixes=['noClean_','OccupMap_','SEDoutl_','SpecZoutl_']\n",
    "datasets=[KB,KBclean,KBcleanSED,KBcleanSpec]\n",
    "size=12252\n",
    "for p,k in zip(prefixes,datasets):\n",
    "    d=k.sample(size)\n",
    "    d.to_csv(os.path.join(dirCat,\n",
    "                               catPrefix+p+str(size)+'.csv'), index=False)"
   ]
  },
  {
   "cell_type": "code",
   "execution_count": 29,
   "metadata": {},
   "outputs": [
    {
     "data": {
      "text/plain": [
       "Index(['RAJ2000', 'DEJ2000', 'Seq', 'Ksmagap3', 'Ymagap3', 'Hmagap3',\n",
       "       'Jmagap3', 'Bmagap3', 'Vmagap3', 'ipmagap3', 'rmagap3', 'umagap3',\n",
       "       'zppmagap3', 'photoZ_SED', 'specZ', 'Instr', 'Q_f', 'sc_Ksmagap3',\n",
       "       'sc_Ymagap3', 'sc_Hmagap3', 'sc_Jmagap3', 'sc_Bmagap3', 'sc_Vmagap3',\n",
       "       'sc_ipmagap3', 'sc_rmagap3', 'sc_umagap3', 'sc_zppmagap3', 'photoZ_ML',\n",
       "       'resid_ML', 'resid_SED', 'residML_SED', 'w_sc_Ksmagap3', 'w_sc_Ymagap3',\n",
       "       'w_sc_Hmagap3', 'w_sc_Jmagap3', 'w_sc_Bmagap3', 'w_sc_Vmagap3',\n",
       "       'w_sc_ipmagap3', 'w_sc_rmagap3', 'w_sc_umagap3', 'w_sc_zppmagap3',\n",
       "       'quantErr', 'cellID_TrainSOM', 'cellID_RunSOM', 'cellID_RunBigSOM',\n",
       "       'specZ_outlCoeff', 'photoZ_ML_outlCoeff', 'photoZ_SED_outlCoeff',\n",
       "       'quantErr_outlCoeff', 'trainMapOccupation', 'IA484ap3', 'IA527ap3',\n",
       "       'IA624ap3', 'IA679ap3', 'IA738ap3', 'IA767ap3', 'IB427ap3', 'IB464ap3',\n",
       "       'IB505ap3', 'IB574ap3', 'IB709ap3', 'IB827ap3', 'NB711ap3', 'NB816ap3'],\n",
       "      dtype='object')"
      ]
     },
     "execution_count": 29,
     "metadata": {},
     "output_type": "execute_result"
    }
   ],
   "source": [
    "KB.columns"
   ]
  },
  {
   "cell_type": "code",
   "execution_count": 33,
   "metadata": {},
   "outputs": [
    {
     "data": {
      "text/plain": [
       "26.108371593407146"
      ]
     },
     "execution_count": 33,
     "metadata": {},
     "output_type": "execute_result"
    }
   ],
   "source": [
    "KBcleanSpec['photoZ_SED_outlCoeff'].max()"
   ]
  },
  {
   "cell_type": "code",
   "execution_count": null,
   "metadata": {},
   "outputs": [],
   "source": []
  }
 ],
 "metadata": {
  "kernelspec": {
   "display_name": "Python 3",
   "language": "python",
   "name": "python3"
  },
  "language_info": {
   "codemirror_mode": {
    "name": "ipython",
    "version": 3
   },
   "file_extension": ".py",
   "mimetype": "text/x-python",
   "name": "python",
   "nbconvert_exporter": "python",
   "pygments_lexer": "ipython3",
   "version": "3.6.7"
  }
 },
 "nbformat": 4,
 "nbformat_minor": 2
}
