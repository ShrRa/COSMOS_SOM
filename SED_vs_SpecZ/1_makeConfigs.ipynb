{
 "cells": [
  {
   "cell_type": "code",
   "execution_count": 7,
   "metadata": {},
   "outputs": [],
   "source": [
    "import os\n",
    "import pandas as pd \n",
    "import shutil\n",
    "import configparser"
   ]
  },
  {
   "cell_type": "code",
   "execution_count": 8,
   "metadata": {},
   "outputs": [],
   "source": [
    "def getBandsIndexes(cat,bands):\n",
    "    return [list(cat.columns).index(c)+1 for c in bands]"
   ]
  },
  {
   "cell_type": "code",
   "execution_count": 9,
   "metadata": {},
   "outputs": [],
   "source": [
    "def makeConfig(dirCat:str,fileNameCat:str,idcolumn:str,zspeccolumn:str,\n",
    "               features:list,expNum:int,dirConfigs:str,configName:str):\n",
    "    \n",
    "    cat=pd.read_csv(os.path.join(dirCat,fileNameCat))\n",
    "    headers=list(cat)\n",
    "    idcolumnidx=str(int(headers.index('Seq')+1))\n",
    "    zspeccolumnidx=str(int(headers.index('photoZ_SED')+1))\n",
    "    featuresIdx=getBandsIndexes(cat,features)\n",
    "    featuresIdxStr=','.join(str(x) for x in featuresIdx)\n",
    "    nNeuronsLayer1=str(int(2*len(featuresIdx)+1))\n",
    "    nNeuronsLayer2=str(int(len(featuresIdx)-1))\n",
    "\n",
    "    newIni='exp'+str(expNum).zfill(3)+'_'+configName+'.ini'\n",
    "    shutil.copyfile(os.path.join(dirConfigs,fileConfigExample),os.path.join(dirConfigs,newIni))\n",
    "    parser=configparser.RawConfigParser()\n",
    "    parser.read(os.path.join(dirConfigs,newIni))\n",
    "    parser.set('Train Input Info','photoColumnIdxList',featuresIdxStr)\n",
    "    parser.set('Train Input Info','dirPath',dirCat)\n",
    "    parser.set('Train Input Info','idcolumnidx',idcolumnidx)\n",
    "    parser.set('Train Input Info','zspeccolumnidx',zspeccolumnidx)\n",
    "    parser.set('Train Input Info','name',fileNameCat)\n",
    "    parser.set('Test Input Info','photoColumnIdxList',featuresIdxStr)\n",
    "    parser.set('Test Input Info','name',fileNameCat)\n",
    "    parser.set('Test Input Info','dirPath',dirCat)\n",
    "    parser.set('Test Input Info','idcolumnidx',idcolumnidx)\n",
    "    parser.set('Test Input Info','zspeccolumnidx',zspeccolumnidx)\n",
    "    parser.set('Output Info','dirpath','Sources\\COSMOS_photoZ\\COSMOS_v3.0\\experimentsArticle\\exp'+str(expNum).zfill(3))\n",
    "    parser.set('Output Info','modelSubDirName','ex'+str(expNum).zfill(3))\n",
    "    parser.set('Learning Info','nHiddenNeurons',nNeuronsLayer1+','+nNeuronsLayer2)\n",
    "    parser.set('Train Output Info','nameSuffix','_'+fileNameCat)\n",
    "    parser.set('Test Output Info','nameSuffix','_'+fileNameCat)\n",
    "    parser.set('Log Info','nameSuffix','_'+fileNameCat)\n",
    "    parser.set('Restart Info','nameSuffix','_'+fileNameCat)\n",
    "\n",
    "    with open(os.path.join(dirConfigs,newIni), 'w') as configfile:\n",
    "        parser.write(configfile)\n",
    "    return"
   ]
  },
  {
   "cell_type": "code",
   "execution_count": 10,
   "metadata": {},
   "outputs": [],
   "source": [
    "dirCat=r'D:\\Sources\\COSMOS_photoZ\\COSMOS_v3.0\\catalogs\\forPaper\\v06'\n",
    "fileList = [f for f in os.listdir(dirCat) if os.path.isfile(os.path.join(dirCat, f))]\n",
    "catNames=[f for f in fileList if '06_CleanCompare_' in f]\n",
    "dirConfigs=r'D:\\Sources\\COSMOS_photoZ\\COSMOS_v3.0\\configsArticle\\cleanCompare'\n",
    "fileConfigExample=r'exXX_phz_z_ConfigExample.ini'"
   ]
  },
  {
   "cell_type": "code",
   "execution_count": 11,
   "metadata": {},
   "outputs": [
    {
     "data": {
      "text/plain": [
       "['06_CleanCompare_noClean_12252.csv',\n",
       " '06_CleanCompare_OccupMap_12252.csv',\n",
       " '06_CleanCompare_SEDoutl_12252.csv',\n",
       " '06_CleanCompare_SpecZoutl_12252.csv']"
      ]
     },
     "execution_count": 11,
     "metadata": {},
     "output_type": "execute_result"
    }
   ],
   "source": [
    "catNames"
   ]
  },
  {
   "cell_type": "code",
   "execution_count": 12,
   "metadata": {},
   "outputs": [],
   "source": [
    "bandsPhiLab=['IA527', 'IA624','IA679', 'IB574']\n",
    "bandsPhiLab=[c+'ap3' for c in bandsPhiLab]\n",
    "cat=pd.read_csv(os.path.join(dirCat,catNames[0]))\n",
    "bandsBroad=[c for c in cat.columns if ('magap3' in c) and ('sc_' not in c)]\n",
    "bandsNarrow=[c for c in cat.columns if ('ap3' in c) and ('sc_' not in c) and ('mag' not in c)]\n",
    "bandsBroadNarrow=bandsBroad+bandsNarrow\n",
    "bandsBroadPhiLab=bandsBroad+bandsPhiLab\n",
    "expNum=45\n",
    "fsets={'broad':bandsBroad,'broadNarrow':bandsBroadNarrow,'broadPhiLab':bandsBroadPhiLab}"
   ]
  },
  {
   "cell_type": "code",
   "execution_count": 15,
   "metadata": {},
   "outputs": [
    {
     "data": {
      "text/plain": [
       "['Ksmagap3',\n",
       " 'Ymagap3',\n",
       " 'Hmagap3',\n",
       " 'Jmagap3',\n",
       " 'Bmagap3',\n",
       " 'Vmagap3',\n",
       " 'ipmagap3',\n",
       " 'rmagap3',\n",
       " 'umagap3',\n",
       " 'zppmagap3',\n",
       " 'IA527ap3',\n",
       " 'IA624ap3',\n",
       " 'IA679ap3',\n",
       " 'IB574ap3']"
      ]
     },
     "execution_count": 15,
     "metadata": {},
     "output_type": "execute_result"
    }
   ],
   "source": [
    "bandsBroadPhiLab"
   ]
  },
  {
   "cell_type": "code",
   "execution_count": 16,
   "metadata": {},
   "outputs": [],
   "source": [
    "for fileNameCat in catNames:\n",
    "    for fsetName,fset in fsets.items():\n",
    "        makeConfig(dirCat,fileNameCat,idcolumn='Seq',zspeccolumn='photoZ_SED',\n",
    "               features=fset,expNum=expNum,dirConfigs=dirConfigs,\n",
    "                   configName=fileNameCat.replace('06_','').replace('.csv','')+'_'+fsetName+'_SED')\n",
    "        expNum+=1 \n",
    "for fileNameCat in catNames:\n",
    "    for fsetName,fset in fsets.items():\n",
    "        makeConfig(dirCat,fileNameCat,idcolumn='Seq',zspeccolumn='specZ',\n",
    "               features=fset,expNum=expNum,dirConfigs=dirConfigs,\n",
    "                   configName=fileNameCat.replace('06_','').replace('.csv','')+'_'+fsetName+'_specZ')\n",
    "        expNum+=1 "
   ]
  },
  {
   "cell_type": "code",
   "execution_count": null,
   "metadata": {},
   "outputs": [
    {
     "name": "stdout",
     "output_type": "stream",
     "text": [
      "D:\\Sources\\COSMOS_photoZ\\COSMOS_v3.0\\configsArticle\\cleanCompare\\exp045_CleanCompare_noClean_12252_broad_SED.ini\n",
      "Ready\n",
      "D:\\Sources\\COSMOS_photoZ\\COSMOS_v3.0\\configsArticle\\cleanCompare\\exp046_CleanCompare_noClean_12252_broadNarrow_SED.ini\n"
     ]
    }
   ],
   "source": [
    "os.chdir('D:\\\\')\n",
    "\n",
    "# 05.11.2020. Checking out how different cleaning influences NMAD\n",
    "configs=os.listdir(dirConfigs)\n",
    "configs=[conf for conf in configs if 'CleanCompare_' in conf]\n",
    "for conf in configs:\n",
    "    conf=os.path.join(dirConfigs,conf)\n",
    "    print(conf)\n",
    "    os.system('metaphor_pipeline '+conf)\n",
    "    print('Ready')"
   ]
  },
  {
   "cell_type": "code",
   "execution_count": null,
   "metadata": {},
   "outputs": [],
   "source": []
  }
 ],
 "metadata": {
  "kernelspec": {
   "display_name": "Python 3",
   "language": "python",
   "name": "python3"
  },
  "language_info": {
   "codemirror_mode": {
    "name": "ipython",
    "version": 3
   },
   "file_extension": ".py",
   "mimetype": "text/x-python",
   "name": "python",
   "nbconvert_exporter": "python",
   "pygments_lexer": "ipython3",
   "version": "3.6.7"
  }
 },
 "nbformat": 4,
 "nbformat_minor": 2
}
