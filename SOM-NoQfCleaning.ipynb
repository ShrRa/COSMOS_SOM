{
 "cells": [
  {
   "cell_type": "markdown",
   "metadata": {},
   "source": [
    "### Table of contents\n",
    "[Imports](#funcs)\n",
    "\n",
    "[Parameters, filenames and directories](#params)\n",
    "\n",
    "[Reading datasets](#readCatalogs)\n",
    "\n",
    "[Training SOMs](#SOM_Train)\n",
    "\n",
    "[Calculating SOM_info for dataset](#SOM_info)\n",
    "\n",
    "[Building and saving maps](#SOM_maps)\n",
    "\n",
    "[Adding outlier coefficients for specZ, ML and SED photoZ and quantErr](#outlCoeff)\n",
    "\n",
    "[Saving datasets with SOM_info](#save)"
   ]
  },
  {
   "cell_type": "code",
   "execution_count": 9,
   "metadata": {},
   "outputs": [],
   "source": [
    "### import libraries ###\n",
    "import time\n",
    "import numpy as np\n",
    "import minisom\n",
    "import os\n",
    "import pandas as pd\n",
    "from func_SOM_read_write import createSOM, writeSOM, loadSOM\n",
    "from func_add_SOM_info import addBMUWeights, addQuantErr, addCellAddress, calcOutlCoeff, addOccupation\n",
    "from func_maps import buildMaps, writeMaps,readMaps\n",
    "from func_dataset_preprocessing import residCol, scaleMags, mergeCatalogs"
   ]
  },
  {
   "cell_type": "markdown",
   "metadata": {},
   "source": [
    "### Parameters, filenames and directories\n",
    "<a id='params'>#params<a>"
   ]
  },
  {
   "cell_type": "code",
   "execution_count": 2,
   "metadata": {},
   "outputs": [],
   "source": [
    "### Parameters of SOM experiment ###\n",
    "nameOfExperiment='ex019'\n",
    "width=25\n",
    "height=28\n",
    "widthBig=64\n",
    "heightBig=67\n",
    "num_features=10\n",
    "epochs=6000\n",
    "sigma=5\n",
    "learning_rate=0.5\n",
    "neighborhood_function='bubble'"
   ]
  },
  {
   "cell_type": "code",
   "execution_count": 3,
   "metadata": {},
   "outputs": [],
   "source": [
    "### Files and directories ###\n",
    "dirCatalogs=r'D:\\Sources\\COSMOS_photoZ\\COSMOS_v3.0\\catalogs\\forPaper\\v05\\NoQfClean'\n",
    "dirSOM=r'D:\\Sources\\COSMOS_photoZ\\COSMOS_v3.0\\SOM\\forArticle'\n",
    "\n",
    "nameTrainNoQf=r'05_COSMOS_SpectrZ_Zlim_1p2.csv'"
   ]
  },
  {
   "cell_type": "code",
   "execution_count": 4,
   "metadata": {},
   "outputs": [],
   "source": [
    "### Create experiment folder ###\n",
    "if os.path.isdir(dirSOM):\n",
    "    os.mkdir(os.path.join(dirSOM,nameOfExperiment))\n",
    "else:\n",
    "    os.makedirs(os.path.join(dirSOM,nameOfExperiment)) \n",
    "timeName=time.strftime(\"%y%m%d_%H%M%S_\", time.gmtime())"
   ]
  },
  {
   "cell_type": "code",
   "execution_count": 6,
   "metadata": {},
   "outputs": [],
   "source": [
    "### Write parameters on log file ###\n",
    "logName=timeName+'_log.txt'\n",
    "with open(os.path.join(dirSOM,nameOfExperiment,logName), 'a+') as f:\n",
    "    f.write('Catalog='+nameTrainNoQf+'\\n')\n",
    "    f.write('width='+str(width)+'\\n')\n",
    "    f.write('height='+str(height)+'\\n')\n",
    "    f.write('widthBig='+str(widthBig)+'\\n')\n",
    "    f.write('heightBig='+str(heightBig)+'\\n')\n",
    "    f.write('num_features='+str(num_features)+'\\n')\n",
    "    f.write('epochs='+str(epochs)+'\\n')\n",
    "    f.write('sigma='+str(sigma)+'\\n')\n",
    "    f.write('learning rate='+str(learning_rate)+'\\n')\n",
    "    f.write('neighborhood_function='+str(neighborhood_function)+'\\n')"
   ]
  },
  {
   "cell_type": "code",
   "execution_count": 7,
   "metadata": {},
   "outputs": [],
   "source": [
    "### Column names for training and filtering ###\n",
    "mags=['Ksmagap3','Ymagap3','Hmagap3','Jmagap3','Bmagap3','Vmagap3','ipmagap3','rmagap3','umagap3','zppmagap3']\n",
    "magsScaled=['sc_'+s for s in mags]\n",
    "idCol='Seq'\n",
    "specZ='z_spec'\n",
    "quantErr='quantErr'"
   ]
  },
  {
   "cell_type": "markdown",
   "metadata": {},
   "source": [
    "### Reading datasets\n",
    "<a id='readCatalogs'>#readCatalogs<a>"
   ]
  },
  {
   "cell_type": "code",
   "execution_count": 8,
   "metadata": {},
   "outputs": [],
   "source": [
    "### Read catalogs ###\n",
    "dataTrain=pd.read_csv(os.path.join(dirCatalogs,nameTrainNoQf))"
   ]
  },
  {
   "cell_type": "code",
   "execution_count": 10,
   "metadata": {},
   "outputs": [],
   "source": [
    "dataTrain=scaleMags(dataTrain,mags,magsScaled)"
   ]
  },
  {
   "cell_type": "markdown",
   "metadata": {},
   "source": [
    "### Training SOMs\n",
    "<a id='SOM_Train'>#SOM_Train<a>"
   ]
  },
  {
   "cell_type": "code",
   "execution_count": 13,
   "metadata": {},
   "outputs": [],
   "source": [
    "data=np.array(dataTrain[magsScaled])\n",
    "somTrain=createSOM(data, epochs, height, width, num_features, sigma, learning_rate, \n",
    "                neighborhood_function, saveWeightsName=os.path.join(dirSOM,nameOfExperiment,'somTrainWeights.txt'))"
   ]
  },
  {
   "cell_type": "code",
   "execution_count": 14,
   "metadata": {},
   "outputs": [
    {
     "name": "stdout",
     "output_type": "stream",
     "text": [
      "4.998779168374767e-13\n"
     ]
    }
   ],
   "source": [
    "### Checking that after writing/loading cycle SOM weights were the same ###\n",
    "soms=[somTrain]\n",
    "somNames=['somTrainWeights.txt']\n",
    "for som,somName in zip(soms,somNames):\n",
    "    somCheck=loadSOM(weightsFile=os.path.join(dirSOM,nameOfExperiment,somName),\n",
    "                 sigma=sigma,learning_rate=learning_rate,neighborhood_function=neighborhood_function,random_seed=10)\n",
    "    print(abs((som.get_weights()-somCheck.get_weights())).max())"
   ]
  },
  {
   "cell_type": "markdown",
   "metadata": {},
   "source": [
    "### Calculating SOM_info for dataset\n",
    "<a id='SOM_info'>#SOM_info<a>"
   ]
  },
  {
   "cell_type": "code",
   "execution_count": 15,
   "metadata": {},
   "outputs": [],
   "source": [
    "### Adding weights of BMU for each galaxy in a dataset ###\n",
    "dataTrain=addBMUWeights(somTrain,dataTrain,magsScaled)"
   ]
  },
  {
   "cell_type": "code",
   "execution_count": 16,
   "metadata": {},
   "outputs": [],
   "source": [
    "### Adding quantization errors for each galaxy ###\n",
    "dataTrain=addQuantErr(dataTrain,magsScaled,colWeights=None)"
   ]
  },
  {
   "cell_type": "code",
   "execution_count": 17,
   "metadata": {},
   "outputs": [],
   "source": [
    "### Adding cellIDs for each galaxy ###\n",
    "soms=[somTrain]\n",
    "prefixes=['_TrainSOM']\n",
    "for som,prefix in zip(soms,prefixes):\n",
    "    dataTrain=addCellAddress(som, dataTrain, magsScaled, idCol,cellIDPrefix=prefix)"
   ]
  },
  {
   "cell_type": "markdown",
   "metadata": {},
   "source": [
    "### Building and saving maps\n",
    "<a id='SOM_maps'>#SOM_maps<a>"
   ]
  },
  {
   "cell_type": "code",
   "execution_count": 20,
   "metadata": {},
   "outputs": [],
   "source": [
    "mapsAll={}\n",
    "    \n",
    "mapCols=[specZ,'quantErr']\n",
    "\n",
    "cellID='cellID_TrainSOM'\n",
    "som=somTrain\n",
    "mapsAll['mapsTrainOnTrain']=buildMaps(som,dataTrain,mapCols,idCol,cellID=cellID)"
   ]
  },
  {
   "cell_type": "code",
   "execution_count": 21,
   "metadata": {},
   "outputs": [],
   "source": [
    "### Saving maps ###\n",
    "dirMaps='maps'\n",
    "os.mkdir(os.path.join(dirSOM,nameOfExperiment,dirMaps))\n",
    "for key,val in mapsAll.items():\n",
    "    writeMaps(val,prefixName=os.path.join(dirSOM,nameOfExperiment,dirMaps,key))"
   ]
  },
  {
   "cell_type": "markdown",
   "metadata": {},
   "source": [
    "### Adding outlier coefficients for specZ, ML and SED photoZ and quantErr\n",
    "<a id='outlCoeff'>#outlCoeff<a>"
   ]
  },
  {
   "cell_type": "code",
   "execution_count": 22,
   "metadata": {},
   "outputs": [],
   "source": [
    "filterCols=[specZ,quantErr]\n",
    "maps=mapsAll['mapsTrainOnTrain']\n",
    "cellID='cellID_TrainSOM'\n",
    "for col in filterCols:\n",
    "    dataTrain=calcOutlCoeff(dataTrain,maps['stdMaps'][col],maps['meanMaps'][col],col,cellID,prefix='')"
   ]
  },
  {
   "cell_type": "markdown",
   "metadata": {},
   "source": [
    "### Adding occupation info\n",
    "<a id='addOccupation'>#addOccupation<a>"
   ]
  },
  {
   "cell_type": "code",
   "execution_count": 25,
   "metadata": {},
   "outputs": [],
   "source": [
    "cellID='cellID_TrainSOM'\n",
    "activMap=mapsAll['mapsTrainOnTrain']['activMap']\n",
    "datasets=[dataTrain]\n",
    "for dataset in datasets:\n",
    "    dataset=addOccupation(dataset,cellID,activMap)"
   ]
  },
  {
   "cell_type": "markdown",
   "metadata": {},
   "source": [
    "### Saving datasets with SOM_info\n",
    "<a id='save'>#save<a>"
   ]
  },
  {
   "cell_type": "code",
   "execution_count": 30,
   "metadata": {},
   "outputs": [],
   "source": [
    "### Saving datasets with added data ###\n",
    "dirDatasets='datasets'\n",
    "os.mkdir(os.path.join(dirSOM,nameOfExperiment,dirDatasets))\n",
    "datasets=[dataTrain]\n",
    "names=[nameTrainNoQf]\n",
    "for dataset,name in zip(datasets,names):\n",
    "    dataset.to_csv(os.path.join(dirSOM,nameOfExperiment,dirDatasets,name.replace('.csv','_SOMinfo.csv')),index=False)"
   ]
  },
  {
   "cell_type": "markdown",
   "metadata": {},
   "source": [
    "### Does specZ_outlCoeff correlate with Q_f?"
   ]
  },
  {
   "cell_type": "code",
   "execution_count": 32,
   "metadata": {},
   "outputs": [],
   "source": [
    "import matplotlib.pyplot as plt"
   ]
  },
  {
   "cell_type": "code",
   "execution_count": 38,
   "metadata": {},
   "outputs": [
    {
     "data": {
      "text/plain": [
       "<matplotlib.collections.PathCollection at 0x294fcaf1f98>"
      ]
     },
     "execution_count": 38,
     "metadata": {},
     "output_type": "execute_result"
    },
    {
     "data": {
      "image/png": "[encoded data removed]",
      "text/plain": [
       "<Figure size 432x288 with 1 Axes>"
      ]
     },
     "metadata": {
      "needs_background": "light"
     },
     "output_type": "display_data"
    }
   ],
   "source": [
    "plt.scatter(dataset['Q_f'],dataset['z_spec_outlCoeff'].abs(),s=1,alpha=0.4)"
   ]
  },
  {
   "cell_type": "code",
   "execution_count": 41,
   "metadata": {},
   "outputs": [],
   "source": [
    "d=dataset[dataset['z_spec_outlCoeff'].abs()<=1]\n",
    "d.to_csv(os.path.join(dirSOM,nameOfExperiment,dirDatasets,name.replace('.csv','_specZOutlCoeff_filter.csv')),index=False)"
   ]
  },
  {
   "cell_type": "code",
   "execution_count": 42,
   "metadata": {},
   "outputs": [],
   "source": [
    "d=dataset.sample(n=len(dataset[dataset['z_spec_outlCoeff'].abs()<=1]))\n",
    "d.to_csv(os.path.join(dirSOM,nameOfExperiment,dirDatasets,name.replace('.csv','_randSample.csv')),index=False)"
   ]
  },
  {
   "cell_type": "code",
   "execution_count": null,
   "metadata": {},
   "outputs": [],
   "source": []
  }
 ],
 "metadata": {
  "kernelspec": {
   "display_name": "Python 3",
   "language": "python",
   "name": "python3"
  },
  "language_info": {
   "codemirror_mode": {
    "name": "ipython",
    "version": 3
   },
   "file_extension": ".py",
   "mimetype": "text/x-python",
   "name": "python",
   "nbconvert_exporter": "python",
   "pygments_lexer": "ipython3",
   "version": "3.6.7"
  }
 },
 "nbformat": 4,
 "nbformat_minor": 2
}
