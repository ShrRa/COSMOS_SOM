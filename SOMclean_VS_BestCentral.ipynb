{
 "cells": [
  {
   "cell_type": "code",
   "execution_count": 1,
   "metadata": {},
   "outputs": [],
   "source": [
    "import matplotlib.cm as cm\n",
    "import matplotlib.pyplot as plt\n",
    "import numpy as np\n",
    "import pandas as pd\n",
    "from func_maps import readMaps\n",
    "from func_stat import *\n",
    "from func_visualizations import *\n",
    "from os.path import join"
   ]
  },
  {
   "cell_type": "markdown",
   "metadata": {},
   "source": [
    "### Parameters, filenames and directories\n",
    "<a id='params'>#params</a>"
   ]
  },
  {
   "cell_type": "code",
   "execution_count": 4,
   "metadata": {},
   "outputs": [],
   "source": [
    "### Files and directories ###\n",
    "dirCat=r'D:\\Sources\\COSMOS_photoZ\\COSMOS_v3.0\\SOM\\forArticle\\ex018\\datasets'\n",
    "#dirSOM=r'/mnt/Data/Work/Sources/COSMOS/CatalogsFromWorkingPC'\n",
    "fileTest=r'05_COSMOS_SpectrZ_Zlim_1p2_Test_SOMinfo.csv'\n",
    "test=pd.read_csv(join(dirCat,fileTest))"
   ]
  },
  {
   "cell_type": "code",
   "execution_count": 16,
   "metadata": {},
   "outputs": [
    {
     "data": {
      "text/plain": [
       "(-0.1, 0.1)"
      ]
     },
     "execution_count": 16,
     "metadata": {},
     "output_type": "execute_result"
    },
    {
     "data": {
      "image/png": "[encoded data removed]",
      "text/plain": [
       "<Figure size 432x288 with 1 Axes>"
      ]
     },
     "metadata": {
      "needs_background": "light"
     },
     "output_type": "display_data"
    }
   ],
   "source": [
    "plt.hist(test['resid_ML'],bins=60)\n",
    "plt.xlim(-0.1,0.1)"
   ]
  },
  {
   "cell_type": "code",
   "execution_count": 17,
   "metadata": {},
   "outputs": [
    {
     "data": {
      "text/plain": [
       "0.04778022672312442"
      ]
     },
     "execution_count": 17,
     "metadata": {},
     "output_type": "execute_result"
    }
   ],
   "source": [
    "test['resid_ML'].std()"
   ]
  },
  {
   "cell_type": "code",
   "execution_count": 20,
   "metadata": {},
   "outputs": [
    {
     "name": "stdout",
     "output_type": "stream",
     "text": [
      "{'Num objects': 5967, 'Std': 0.048, 'NMAD': 0.019, 'Mean': -0.0023, '% outl_15': 1.64}\n"
     ]
    }
   ],
   "source": [
    "print(statResid(test,'resid_ML'))"
   ]
  },
  {
   "cell_type": "code",
   "execution_count": 19,
   "metadata": {},
   "outputs": [
    {
     "name": "stdout",
     "output_type": "stream",
     "text": [
      "{'Num objects': 5422, 'Std': 0.018, 'NMAD': 0.017, 'Mean': 0.0012, '% outl_15': 0.0}\n"
     ]
    }
   ],
   "source": [
    "minLim=test['resid_ML'].mean()-test['resid_ML'].std()\n",
    "maxLim=test['resid_ML'].mean()+test['resid_ML'].std()\n",
    "t=test[(test['resid_ML']>=minLim) & (test['resid_ML']<=maxLim)]\n",
    "print(statResid(t,'resid_ML'))"
   ]
  },
  {
   "cell_type": "code",
   "execution_count": 28,
   "metadata": {},
   "outputs": [
    {
     "name": "stdout",
     "output_type": "stream",
     "text": [
      "{'Num objects': 3761, 'Std': 0.022, 'NMAD': 0.016, 'Mean': -0.0002, '% outl_15': 0.05}\n"
     ]
    }
   ],
   "source": [
    "t=test[(test['trainMapOccupation']>5) & (test['specZ_outlCoeff'].abs()<=1)]\n",
    "print(statResid(t,'resid_ML'))"
   ]
  },
  {
   "cell_type": "code",
   "execution_count": 23,
   "metadata": {},
   "outputs": [
    {
     "name": "stdout",
     "output_type": "stream",
     "text": [
      "{'Num objects': 5762, 'Std': 0.021, 'NMAD': 0.01, 'Mean': 0.0015, '% outl_15': 0.0}\n"
     ]
    }
   ],
   "source": [
    "minLim=test['resid_SED'].mean()-test['resid_SED'].std()\n",
    "maxLim=test['resid_SED'].mean()+test['resid_SED'].std()\n",
    "t=test[(test['resid_SED']>=minLim) & (test['resid_SED']<=maxLim)]\n",
    "print(statResid(t,'resid_SED'))"
   ]
  },
  {
   "cell_type": "code",
   "execution_count": 27,
   "metadata": {},
   "outputs": [
    {
     "name": "stdout",
     "output_type": "stream",
     "text": [
      "{'Num objects': 3253, 'Std': 0.016, 'NMAD': 0.009, 'Mean': 0.0018, '% outl_15': 0.0}\n"
     ]
    }
   ],
   "source": [
    "t=test[(test['trainMapOccupation']>5) & (test['photoZ_SED_outlCoeff'].abs()<=1)& (test['specZ_outlCoeff'].abs()<=1)]\n",
    "print(statResid(t,'resid_SED'))"
   ]
  },
  {
   "cell_type": "markdown",
   "metadata": {},
   "source": [
    "### Compare resid distributions for ML and SED fitting ###"
   ]
  },
  {
   "cell_type": "code",
   "execution_count": 53,
   "metadata": {},
   "outputs": [],
   "source": [
    "from numpy import linspace as lspace"
   ]
  },
  {
   "cell_type": "code",
   "execution_count": 79,
   "metadata": {},
   "outputs": [],
   "source": [
    "prop_cycle = plt.rcParams['axes.prop_cycle']\n",
    "colors = prop_cycle.by_key()['color']"
   ]
  },
  {
   "cell_type": "code",
   "execution_count": 81,
   "metadata": {},
   "outputs": [
    {
     "data": {
      "text/plain": [
       "<matplotlib.legend.Legend at 0x25f8e879358>"
      ]
     },
     "execution_count": 81,
     "metadata": {},
     "output_type": "execute_result"
    },
    {
     "data": {
      "image/png": "[encoded data removed]",
      "text/plain": [
       "<Figure size 432x288 with 1 Axes>"
      ]
     },
     "metadata": {
      "needs_background": "light"
     },
     "output_type": "display_data"
    }
   ],
   "source": [
    "limVal=0.8\n",
    "bins=lspace(-limVal,limVal,20)\n",
    "d=test\n",
    "d=d[(d['resid_ML']<=limVal) & (d['resid_ML']>=-limVal)]\n",
    "d=d[(d['resid_SED']<=limVal)&(d['resid_SED']>=-limVal)]\n",
    "plt.hist(d['resid_ML'],bins=bins,histtype='step',label='ML')\n",
    "plt.axvline(d['resid_ML'].mean(),color=colors[0])\n",
    "plt.hist(d['resid_SED'],bins=bins,histtype='step',label='SED')\n",
    "plt.axvline(d['resid_SED'].mean(),color=colors[1])\n",
    "plt.yscale('log')\n",
    "plt.xlabel('$\\Delta~z$')\n",
    "plt.ylabel('Number of galaxies')\n",
    "plt.legend()"
   ]
  },
  {
   "cell_type": "code",
   "execution_count": 58,
   "metadata": {},
   "outputs": [
    {
     "data": {
      "image/png": "[encoded data removed]",
      "text/plain": [
       "<Figure size 432x288 with 1 Axes>"
      ]
     },
     "metadata": {
      "needs_background": "light"
     },
     "output_type": "display_data"
    }
   ],
   "source": [
    "limVal=0.8\n",
    "bins=lspace(-limVal,limVal,20)\n",
    "d=test\n",
    "d=d[d['specZ_outlCoeff'].abs()<=1]\n",
    "d=d[(d['resid_ML']<=limVal) & (d['resid_ML']>=-limVal)]\n",
    "d=d[(d['resid_SED']<=limVal)&(d['resid_SED']>=-limVal)]\n",
    "plt.hist(d['resid_ML'],bins=bins,histtype='step')\n",
    "plt.hist(d['resid_SED'],bins=bins,histtype='step')\n",
    "plt.yscale('log')"
   ]
  },
  {
   "cell_type": "code",
   "execution_count": 59,
   "metadata": {},
   "outputs": [
    {
     "data": {
      "image/png": "[encoded data removed]",
      "text/plain": [
       "<Figure size 432x288 with 1 Axes>"
      ]
     },
     "metadata": {
      "needs_background": "light"
     },
     "output_type": "display_data"
    }
   ],
   "source": [
    "limVal=0.8\n",
    "bins=lspace(-limVal,limVal,20)\n",
    "d=test\n",
    "d=d[d['trainMapOccupation']>=5]\n",
    "d=d[(d['resid_ML']<=limVal) & (d['resid_ML']>=-limVal)]\n",
    "d=d[(d['resid_SED']<=limVal)&(d['resid_SED']>=-limVal)]\n",
    "plt.hist(d['resid_ML'],bins=bins,histtype='step')\n",
    "plt.hist(d['resid_SED'],bins=bins,histtype='step')\n",
    "plt.yscale('log')"
   ]
  },
  {
   "cell_type": "code",
   "execution_count": 60,
   "metadata": {},
   "outputs": [
    {
     "data": {
      "image/png": "[encoded data removed]",
      "text/plain": [
       "<Figure size 432x288 with 1 Axes>"
      ]
     },
     "metadata": {
      "needs_background": "light"
     },
     "output_type": "display_data"
    }
   ],
   "source": [
    "limVal=0.8\n",
    "bins=lspace(-limVal,limVal,20)\n",
    "d=test\n",
    "d=d[(d['resid_ML']<=limVal) & (d['resid_ML']>=-limVal)]\n",
    "plt.hist(d['resid_ML'],bins=bins,histtype='step')\n",
    "\n",
    "d=d[d['trainMapOccupation']>=5]\n",
    "plt.hist(d['resid_ML'],bins=bins,histtype='step')\n",
    "\n",
    "d=d[d['specZ_outlCoeff'].abs()<=1]\n",
    "plt.hist(d['resid_ML'],bins=bins,histtype='step')\n",
    "plt.yscale('log')"
   ]
  },
  {
   "cell_type": "code",
   "execution_count": 61,
   "metadata": {},
   "outputs": [
    {
     "data": {
      "image/png": "[encoded data removed]",
      "text/plain": [
       "<Figure size 432x288 with 1 Axes>"
      ]
     },
     "metadata": {
      "needs_background": "light"
     },
     "output_type": "display_data"
    }
   ],
   "source": [
    "limVal=0.8\n",
    "bins=lspace(-limVal,limVal,20)\n",
    "d=test\n",
    "d=d[(d['resid_SED']<=limVal) & (d['resid_SED']>=-limVal)]\n",
    "plt.hist(d['resid_SED'],bins=bins,histtype='step')\n",
    "\n",
    "d=d[d['trainMapOccupation']>=5]\n",
    "plt.hist(d['resid_SED'],bins=bins,histtype='step')\n",
    "\n",
    "d=d[d['specZ_outlCoeff'].abs()<=1]\n",
    "plt.hist(d['resid_SED'],bins=bins,histtype='step')\n",
    "plt.yscale('log')"
   ]
  },
  {
   "cell_type": "code",
   "execution_count": 71,
   "metadata": {},
   "outputs": [
    {
     "data": {
      "image/png": "[encoded data removed]",
      "text/plain": [
       "<Figure size 432x288 with 1 Axes>"
      ]
     },
     "metadata": {
      "needs_background": "light"
     },
     "output_type": "display_data"
    }
   ],
   "source": [
    "limVal=0.8\n",
    "bins=lspace(-limVal,limVal,20)\n",
    "d=test\n",
    "d=d[(d['resid_SED']<=limVal) & (d['resid_SED']>=-limVal)]\n",
    "plt.hist(d['resid_SED'],bins=bins,histtype='step')\n",
    "\n",
    "d=d[d['trainMapOccupation']>=5]\n",
    "plt.hist(d['resid_SED'],bins=bins,histtype='step')\n",
    "\n",
    "d=d[d['photoZ_SED_outlCoeff'].abs()<=1]\n",
    "plt.hist(d['resid_SED'],bins=bins,histtype='step')\n",
    "plt.yscale('log')"
   ]
  },
  {
   "cell_type": "code",
   "execution_count": null,
   "metadata": {},
   "outputs": [],
   "source": []
  }
 ],
 "metadata": {
  "kernelspec": {
   "display_name": "Python 3",
   "language": "python",
   "name": "python3"
  },
  "language_info": {
   "codemirror_mode": {
    "name": "ipython",
    "version": 3
   },
   "file_extension": ".py",
   "mimetype": "text/x-python",
   "name": "python",
   "nbconvert_exporter": "python",
   "pygments_lexer": "ipython3",
   "version": "3.6.7"
  }
 },
 "nbformat": 4,
 "nbformat_minor": 2
}
