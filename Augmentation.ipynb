{
 "cells": [
  {
   "cell_type": "code",
   "execution_count": 167,
   "metadata": {},
   "outputs": [],
   "source": [
    "import pandas as pd\n",
    "import os\n",
    "import matplotlib.pyplot as plt\n",
    "from numpy.random import normal as normDist\n",
    "from numpy import array"
   ]
  },
  {
   "cell_type": "code",
   "execution_count": 2,
   "metadata": {},
   "outputs": [],
   "source": [
    "dirCats=r'/mnt/Data/Work/Sources/COSMOS/Catalogs'\n",
    "fileCat=r'06_COSMOS_SpectrZ_Zlim_1p2_AllBands_Errors.csv'"
   ]
  },
  {
   "cell_type": "code",
   "execution_count": 3,
   "metadata": {},
   "outputs": [],
   "source": [
    "KB=pd.read_csv(os.path.join(dirCats,fileCat))"
   ]
  },
  {
   "cell_type": "code",
   "execution_count": 32,
   "metadata": {},
   "outputs": [],
   "source": [
    "KB=KB.rename({'Seq_1':'Seq'},axis=1)"
   ]
  },
  {
   "cell_type": "code",
   "execution_count": 33,
   "metadata": {
    "scrolled": true
   },
   "outputs": [
    {
     "name": "stdout",
     "output_type": "stream",
     "text": [
      "19176\n",
      "Index(['Seq', 'e_Ksmagap3', 'e_Ymagap3', 'e_Hmagap3', 'e_Jmagap3', 'e_Bmagap3',\n",
      "       'e_Vmagap3', 'e_ipmagap3', 'e_rmagap3', 'e_umagap3',\n",
      "       ...\n",
      "       'r/IA679', 'r/IA738', 'r/NB711', 'ip/IA624', 'ip/IA679', 'ip/IA738',\n",
      "       'ip/IA767', 'ip/NB711', 'ip/NB816', 'zpp/NB816'],\n",
      "      dtype='object', length=173)\n"
     ]
    }
   ],
   "source": [
    "print(len(KB))\n",
    "print(KB.columns)"
   ]
  },
  {
   "cell_type": "code",
   "execution_count": 109,
   "metadata": {},
   "outputs": [],
   "source": [
    "nNewGals=5\n",
    "mags=list([col for col in KB.columns if ('ap3' in col and 'e_' not in col)])\n",
    "mags.remove('zpmagap3')\n",
    "idCol='Seq'"
   ]
  },
  {
   "cell_type": "code",
   "execution_count": 149,
   "metadata": {},
   "outputs": [],
   "source": [
    "generateMags = lambda magVals, magErrs,nNewGals: normDist(magVals,magErrs,(1,nNewGals,len(magVals)))"
   ]
  },
  {
   "cell_type": "code",
   "execution_count": 153,
   "metadata": {},
   "outputs": [],
   "source": [
    "def generateGals(galVector,mags,idCol,nNewGals):\n",
    "    errs=['e_'+mag for mag in mags]\n",
    "    data=generateMags(galVector[mags],galVector[errs],nNewGals)\n",
    "    galsNew=pd.DataFrame(data=data[0],columns=mags)\n",
    "    galsNew[idCol]=galVector[idCol]\n",
    "    idValsNew=[str(galVector[idCol])+'_'+str(i) for i in range(nNewGals)]\n",
    "    galsNew[idCol+'_new']=idValsNew\n",
    "\n",
    "    return galsNew"
   ]
  },
  {
   "cell_type": "code",
   "execution_count": null,
   "metadata": {},
   "outputs": [],
   "source": []
  },
  {
   "cell_type": "code",
   "execution_count": 88,
   "metadata": {},
   "outputs": [],
   "source": [
    "def augment(galVector,nNewGals,mags,idCol):\n",
    "    df=pd.DataFrame(columns=list(galVector.index)+[idCol+'_new'])\n",
    "    for i in range(nNewGals):\n",
    "        df=df.append(generateGal(galVector,mags,idCol+'_new',idVal=str(galVector[idCol])+'_'+str(i+1)))\n",
    "    return df"
   ]
  },
  {
   "cell_type": "code",
   "execution_count": 164,
   "metadata": {},
   "outputs": [],
   "source": [
    "data=KB[:500]"
   ]
  },
  {
   "cell_type": "code",
   "execution_count": 165,
   "metadata": {},
   "outputs": [
    {
     "name": "stdout",
     "output_type": "stream",
     "text": [
      "CPU times: user 40.7 s, sys: 28.3 ms, total: 40.7 s\n",
      "Wall time: 40.8 s\n"
     ]
    }
   ],
   "source": [
    "%%time\n",
    "df=pd.DataFrame(columns=list(data.columns)+[idCol+'_new'])\n",
    "for row in data.iterrows():\n",
    "    df=df.append(generateGals(row[1],mags,idCol,nNewGals),ignore_index=True)"
   ]
  },
  {
   "cell_type": "code",
   "execution_count": 170,
   "metadata": {},
   "outputs": [
    {
     "ename": "AttributeError",
     "evalue": "'builtin_function_or_method' object has no attribute 'array'",
     "output_type": "error",
     "traceback": [
      "\u001b[0;31m---------------------------------------------------------------------------\u001b[0m",
      "\u001b[0;31mAttributeError\u001b[0m                            Traceback (most recent call last)",
      "\u001b[0;32m<ipython-input-170-1cd064cfe867>\u001b[0m in \u001b[0;36m<module>\u001b[0;34m\u001b[0m\n\u001b[0;32m----> 1\u001b[0;31m \u001b[0ma\u001b[0m\u001b[0;34m=\u001b[0m\u001b[0marray\u001b[0m\u001b[0;34m.\u001b[0m\u001b[0marray\u001b[0m\u001b[0;34m(\u001b[0m\u001b[0;34m)\u001b[0m\u001b[0;34m\u001b[0m\u001b[0;34m\u001b[0m\u001b[0m\n\u001b[0m",
      "\u001b[0;31mAttributeError\u001b[0m: 'builtin_function_or_method' object has no attribute 'array'"
     ]
    }
   ],
   "source": [
    "a=array.array()"
   ]
  },
  {
   "cell_type": "code",
   "execution_count": 171,
   "metadata": {},
   "outputs": [],
   "source": [
    "def generateGals(galVector,mags,idCol,nNewGals):\n",
    "    errs=['e_'+mag for mag in mags]\n",
    "    data=generateMags(galVector[mags],galVector[errs],nNewGals)\n",
    "    galsNew=array(data=data[0],columns=mags)\n",
    "    galsNew[idCol]=galVector[idCol]\n",
    "    idValsNew=[str(galVector[idCol])+'_'+str(i) for i in range(nNewGals)]\n",
    "    galsNew[idCol+'_new']=idValsNew\n",
    "\n",
    "    return galsNew"
   ]
  },
  {
   "cell_type": "code",
   "execution_count": 172,
   "metadata": {},
   "outputs": [],
   "source": [
    "data=KB[:10]\n"
   ]
  },
  {
   "cell_type": "code",
   "execution_count": 173,
   "metadata": {},
   "outputs": [
    {
     "ename": "TypeError",
     "evalue": "array() missing required argument 'object' (pos 1)",
     "output_type": "error",
     "traceback": [
      "\u001b[0;31m---------------------------------------------------------------------------\u001b[0m",
      "\u001b[0;31mTypeError\u001b[0m                                 Traceback (most recent call last)",
      "\u001b[0;32m<timed exec>\u001b[0m in \u001b[0;36m<module>\u001b[0;34m\u001b[0m\n",
      "\u001b[0;32m<ipython-input-171-f9e4f18eae88>\u001b[0m in \u001b[0;36mgenerateGals\u001b[0;34m(galVector, mags, idCol, nNewGals)\u001b[0m\n\u001b[1;32m      2\u001b[0m     \u001b[0merrs\u001b[0m\u001b[0;34m=\u001b[0m\u001b[0;34m[\u001b[0m\u001b[0;34m'e_'\u001b[0m\u001b[0;34m+\u001b[0m\u001b[0mmag\u001b[0m \u001b[0;32mfor\u001b[0m \u001b[0mmag\u001b[0m \u001b[0;32min\u001b[0m \u001b[0mmags\u001b[0m\u001b[0;34m]\u001b[0m\u001b[0;34m\u001b[0m\u001b[0;34m\u001b[0m\u001b[0m\n\u001b[1;32m      3\u001b[0m     \u001b[0mdata\u001b[0m\u001b[0;34m=\u001b[0m\u001b[0mgenerateMags\u001b[0m\u001b[0;34m(\u001b[0m\u001b[0mgalVector\u001b[0m\u001b[0;34m[\u001b[0m\u001b[0mmags\u001b[0m\u001b[0;34m]\u001b[0m\u001b[0;34m,\u001b[0m\u001b[0mgalVector\u001b[0m\u001b[0;34m[\u001b[0m\u001b[0merrs\u001b[0m\u001b[0;34m]\u001b[0m\u001b[0;34m,\u001b[0m\u001b[0mnNewGals\u001b[0m\u001b[0;34m)\u001b[0m\u001b[0;34m\u001b[0m\u001b[0;34m\u001b[0m\u001b[0m\n\u001b[0;32m----> 4\u001b[0;31m     \u001b[0mgalsNew\u001b[0m\u001b[0;34m=\u001b[0m\u001b[0marray\u001b[0m\u001b[0;34m(\u001b[0m\u001b[0mdata\u001b[0m\u001b[0;34m=\u001b[0m\u001b[0mdata\u001b[0m\u001b[0;34m[\u001b[0m\u001b[0;36m0\u001b[0m\u001b[0;34m]\u001b[0m\u001b[0;34m,\u001b[0m\u001b[0mcolumns\u001b[0m\u001b[0;34m=\u001b[0m\u001b[0mmags\u001b[0m\u001b[0;34m)\u001b[0m\u001b[0;34m\u001b[0m\u001b[0;34m\u001b[0m\u001b[0m\n\u001b[0m\u001b[1;32m      5\u001b[0m     \u001b[0mgalsNew\u001b[0m\u001b[0;34m[\u001b[0m\u001b[0midCol\u001b[0m\u001b[0;34m]\u001b[0m\u001b[0;34m=\u001b[0m\u001b[0mgalVector\u001b[0m\u001b[0;34m[\u001b[0m\u001b[0midCol\u001b[0m\u001b[0;34m]\u001b[0m\u001b[0;34m\u001b[0m\u001b[0;34m\u001b[0m\u001b[0m\n\u001b[1;32m      6\u001b[0m     \u001b[0midValsNew\u001b[0m\u001b[0;34m=\u001b[0m\u001b[0;34m[\u001b[0m\u001b[0mstr\u001b[0m\u001b[0;34m(\u001b[0m\u001b[0mgalVector\u001b[0m\u001b[0;34m[\u001b[0m\u001b[0midCol\u001b[0m\u001b[0;34m]\u001b[0m\u001b[0;34m)\u001b[0m\u001b[0;34m+\u001b[0m\u001b[0;34m'_'\u001b[0m\u001b[0;34m+\u001b[0m\u001b[0mstr\u001b[0m\u001b[0;34m(\u001b[0m\u001b[0mi\u001b[0m\u001b[0;34m)\u001b[0m \u001b[0;32mfor\u001b[0m \u001b[0mi\u001b[0m \u001b[0;32min\u001b[0m \u001b[0mrange\u001b[0m\u001b[0;34m(\u001b[0m\u001b[0mnNewGals\u001b[0m\u001b[0;34m)\u001b[0m\u001b[0;34m]\u001b[0m\u001b[0;34m\u001b[0m\u001b[0;34m\u001b[0m\u001b[0m\n",
      "\u001b[0;31mTypeError\u001b[0m: array() missing required argument 'object' (pos 1)"
     ]
    }
   ],
   "source": [
    "%%time\n",
    "df=pd.DataFrame(columns=list(data.columns)+[idCol+'_new'])\n",
    "for row in data.iterrows():\n",
    "    df=df.append(generateGals(row[1],mags,idCol,nNewGals),ignore_index=True)"
   ]
  },
  {
   "cell_type": "code",
   "execution_count": null,
   "metadata": {},
   "outputs": [],
   "source": []
  }
 ],
 "metadata": {
  "kernelspec": {
   "display_name": "Python 3",
   "language": "python",
   "name": "python3"
  },
  "language_info": {
   "codemirror_mode": {
    "name": "ipython",
    "version": 3
   },
   "file_extension": ".py",
   "mimetype": "text/x-python",
   "name": "python",
   "nbconvert_exporter": "python",
   "pygments_lexer": "ipython3",
   "version": "3.7.3"
  }
 },
 "nbformat": 4,
 "nbformat_minor": 2
}
